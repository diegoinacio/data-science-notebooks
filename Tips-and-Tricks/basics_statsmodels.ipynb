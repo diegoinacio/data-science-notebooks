{
 "cells": [
  {
   "cell_type": "markdown",
   "metadata": {},
   "source": [
    "# Basics [statsmodels]\n",
    "---\n",
    "- Author: Diego Inácio\n",
    "- GitHub: [github.com/diegoinacio](https://github.com/diegoinacio)\n",
    "- Notebook: [basics_Numba.ipynb](https://github.com/diegoinacio/machine-learning-notebooks/blob/master/Tips-and-Tricks/basics_Numba.ipynb)\n",
    "---\n",
    "Basic functions and statistical models using [statsmodels](https://www.statsmodels.org/stable/index.html)."
   ]
  },
  {
   "cell_type": "code",
   "execution_count": null,
   "metadata": {},
   "outputs": [],
   "source": [
    "import numpy as np\n",
    "import pandas as pd"
   ]
  },
  {
   "cell_type": "code",
   "execution_count": null,
   "metadata": {},
   "outputs": [],
   "source": [
    "import matplotlib.pyplot as plt\n",
    "plt.rcParams['figure.figsize'] = (16, 8)"
   ]
  },
  {
   "cell_type": "markdown",
   "metadata": {},
   "source": [
    "## Installation\n",
    "---\n",
    "\n",
    "[Installation](https://www.statsmodels.org/stable/install.html) command for *anaconda* and *pip*:\n",
    "\n",
    "```bash\n",
    "$ conda install -c conda-forge statsmodels\n",
    "```\n",
    "\n",
    "or\n",
    "\n",
    "```bash\n",
    "$ pip install statsmodels\n",
    "```"
   ]
  },
  {
   "cell_type": "code",
   "execution_count": null,
   "metadata": {},
   "outputs": [],
   "source": [
    "import statsmodels.api as sm\n",
    "import statsmodels.formula.api as smf"
   ]
  },
  {
   "cell_type": "markdown",
   "metadata": {},
   "source": [
    "## Datasets\n",
    "---\n",
    "*Statsmodels* provides list of [available datasets](https://www.statsmodels.org/dev/datasets/index.html#available-datasets) samples that can be read as *pandas dataframes* for testing."
   ]
  },
  {
   "cell_type": "code",
   "execution_count": null,
   "metadata": {},
   "outputs": [],
   "source": [
    "# Load dataset\n",
    "df1 = sm.datasets.cancer.load_pandas().data\n",
    "\n",
    "# Plot dataset\n",
    "df1.plot.scatter(x=\"population\", y=\"cancer\", s=10)\n",
    "plt.show()"
   ]
  },
  {
   "cell_type": "markdown",
   "metadata": {},
   "source": [
    "## Examples\n",
    "---"
   ]
  },
  {
   "cell_type": "markdown",
   "metadata": {},
   "source": [
    "### Simple linear model\n",
    "---\n",
    "A simple linear model using [ordinary least squares](https://en.wikipedia.org/wiki/Ordinary_least_squares)."
   ]
  },
  {
   "cell_type": "code",
   "execution_count": null,
   "metadata": {},
   "outputs": [],
   "source": [
    "model = smf.ols(\"cancer ~ population\", data=df1)\n",
    "result = model.fit()\n",
    "\n",
    "result.summary()"
   ]
  },
  {
   "cell_type": "code",
   "execution_count": null,
   "metadata": {},
   "outputs": [],
   "source": [
    "x = np.linspace(0, df1.population.max()*1.1, 2)\n",
    "\n",
    "# getting params for\n",
    "# y = b + mx\n",
    "b, m = result.params\n",
    "y_hat = b + m*x\n",
    "\n",
    "# Visualization\n",
    "df1.plot.scatter(x=\"population\", y=\"cancer\", s=10)\n",
    "plt.plot(x, y_hat, c=\"red\")\n",
    "plt.show()"
   ]
  },
  {
   "cell_type": "markdown",
   "metadata": {},
   "source": [
    "### Time series analysis\n",
    "---"
   ]
  },
  {
   "cell_type": "code",
   "execution_count": null,
   "metadata": {},
   "outputs": [],
   "source": [
    "# Load dataset\n",
    "df2 = sm.datasets.co2.load_pandas().data\n",
    "df2 = df2[df2.index >= \"1995\"]\n",
    "\n",
    "# Plot dataset\n",
    "df2.plot()\n",
    "\n",
    "# Plot average mean\n",
    "(\n",
    "    df2.co2\n",
    "    .rolling(7, center=True)\n",
    "    .mean()\n",
    "    .plot(c=\"red\", label=\"average mean\")\n",
    ")\n",
    "\n",
    "plt.legend()\n",
    "plt.show()"
   ]
  }
 ],
 "metadata": {
  "kernelspec": {
   "display_name": "Python 3",
   "language": "python",
   "name": "python3"
  },
  "language_info": {
   "codemirror_mode": {
    "name": "ipython",
    "version": 3
   },
   "file_extension": ".py",
   "mimetype": "text/x-python",
   "name": "python",
   "nbconvert_exporter": "python",
   "pygments_lexer": "ipython3",
   "version": "3.7.10"
  }
 },
 "nbformat": 4,
 "nbformat_minor": 2
}
