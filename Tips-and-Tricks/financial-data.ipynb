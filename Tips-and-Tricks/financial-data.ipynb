{
 "cells": [
  {
   "cell_type": "markdown",
   "id": "amended-avatar",
   "metadata": {},
   "source": [
    "# Financial data\n",
    "---\n",
    "- Author: Diego Inácio\n",
    "- GitHub: [github.com/diegoinacio](https://github.com/diegoinacio)\n",
    "- Notebook: [financial-data.ipynb](https://github.com/diegoinacio/data-science-notebooks/blob/master/Tips-and-Tricks/financial-data.ipynb)\n",
    "---\n",
    "Getting financial data for stock analysis."
   ]
  },
  {
   "cell_type": "code",
   "execution_count": null,
   "id": "representative-central",
   "metadata": {},
   "outputs": [],
   "source": [
    "# Analytics\n",
    "import numpy as np\n",
    "import pandas as pd"
   ]
  },
  {
   "cell_type": "code",
   "execution_count": null,
   "id": "pacific-duncan",
   "metadata": {},
   "outputs": [],
   "source": [
    "pd.options.plotting.backend = \"plotly\""
   ]
  },
  {
   "cell_type": "markdown",
   "id": "familiar-significance",
   "metadata": {},
   "source": [
    "## Yahoo! Finance's API\n",
    "---\n",
    "Download market data from Yahoo! Finance's API."
   ]
  },
  {
   "cell_type": "markdown",
   "id": "unlike-professor",
   "metadata": {},
   "source": [
    "### Installation\n",
    "---\n",
    "Install the library [yfinance](https://pypi.org/project/yfinance/) by running:\n",
    "\n",
    "``` bash\n",
    "pip install yfinance\n",
    "```"
   ]
  },
  {
   "cell_type": "code",
   "execution_count": null,
   "id": "fantastic-commitment",
   "metadata": {},
   "outputs": [],
   "source": [
    "import yfinance as yf"
   ]
  },
  {
   "cell_type": "markdown",
   "id": "scientific-wallpaper",
   "metadata": {},
   "source": [
    "### Get data history\n",
    "---"
   ]
  },
  {
   "cell_type": "code",
   "execution_count": null,
   "id": "expressed-asbestos",
   "metadata": {},
   "outputs": [],
   "source": [
    "# List of some Brazilian REITS\n",
    "TICKERS = [\"BARI11\", \"KNIP11\", \"PORD11\", \"SADI11\"]\n",
    "TICKERS = [f'{ticker}.SA' for ticker in TICKERS]\n",
    "\n",
    "DATA = yf.Tickers(TICKERS)"
   ]
  },
  {
   "cell_type": "markdown",
   "id": "careful-threshold",
   "metadata": {},
   "source": [
    "To get the history data from the last 6 months we must use **6mo** as the period. If we would analyse data from last year we would use **1y** instead. For more information, visit [yfinance documentation](https://pypi.org/project/yfinance/)."
   ]
  },
  {
   "cell_type": "code",
   "execution_count": null,
   "id": "million-cocktail",
   "metadata": {},
   "outputs": [],
   "source": [
    "df_history = DATA.history(period=\"6mo\")"
   ]
  },
  {
   "cell_type": "markdown",
   "id": "cognitive-maine",
   "metadata": {},
   "source": [
    "### Visualization\n",
    "---"
   ]
  },
  {
   "cell_type": "code",
   "execution_count": null,
   "id": "dress-panama",
   "metadata": {},
   "outputs": [],
   "source": [
    "# Visualize Close price data\n",
    "(\n",
    "    df_history.Close\n",
    "    .plot(title=\"Close\")\n",
    ")"
   ]
  },
  {
   "cell_type": "code",
   "execution_count": null,
   "id": "answering-interval",
   "metadata": {},
   "outputs": [],
   "source": [
    "# Visualize Dividends data\n",
    "(\n",
    "    df_history.Dividends\n",
    "    .resample('M').sum()\n",
    "    .plot(title=\"Dividends\")\n",
    ")"
   ]
  },
  {
   "cell_type": "code",
   "execution_count": null,
   "id": "eleven-software",
   "metadata": {},
   "outputs": [],
   "source": [
    "# Visualize Volume data\n",
    "(\n",
    "    df_history.Volume\n",
    "    .plot(title=\"Volume\")\n",
    ")"
   ]
  }
 ],
 "metadata": {
  "kernelspec": {
   "display_name": "Python [conda env:root] *",
   "language": "python",
   "name": "conda-root-py"
  },
  "language_info": {
   "codemirror_mode": {
    "name": "ipython",
    "version": 3
   },
   "file_extension": ".py",
   "mimetype": "text/x-python",
   "name": "python",
   "nbconvert_exporter": "python",
   "pygments_lexer": "ipython3",
   "version": "3.7.10"
  }
 },
 "nbformat": 4,
 "nbformat_minor": 5
}
