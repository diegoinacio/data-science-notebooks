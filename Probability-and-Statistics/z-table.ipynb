{
 "cells": [
  {
   "cell_type": "markdown",
   "metadata": {},
   "source": [
    "# Z Table\n",
    "---\n",
    "- Author: Diego Inácio\n",
    "- GitHub: [github.com/diegoinacio](https://github.com/diegoinacio)\n",
    "- Notebook: [z-table.ipynb](https://github.com/diegoinacio/data-science-notebooks/blob/master/Probability-and-Statistics/z-table.ipynb)\n",
    "---\n",
    "Study about *standard normal distribution*."
   ]
  },
  {
   "cell_type": "code",
   "execution_count": null,
   "metadata": {},
   "outputs": [],
   "source": [
    "%matplotlib inline\n",
    "import matplotlib\n",
    "import matplotlib.pyplot as plt\n",
    "from matplotlib.patches import Polygon\n",
    "from IPython.display import display, HTML\n",
    "\n",
    "import numpy as np\n",
    "import pandas as pd"
   ]
  },
  {
   "cell_type": "code",
   "execution_count": null,
   "metadata": {},
   "outputs": [],
   "source": [
    "np.seterr(divide='ignore')\n",
    "plt.rcParams['figure.figsize'] = (16, 8)"
   ]
  },
  {
   "cell_type": "markdown",
   "metadata": {},
   "source": [
    "## Normal distribution\n",
    "---\n",
    "$$ \\large\n",
    "f(x|\\mu, \\sigma^2)=\\frac{1}{\\sqrt{2\\pi\\sigma^2}}e^{-\\frac{(x-\\mu)^2}{2\\sigma^2}}=\\frac{1}{\\sigma\\sqrt{2\\pi}}e^{-\\frac{1}{2}\\left(\\frac{x-\\mu}{\\sigma}\\right)^2}\n",
    "$$\n",
    "where,\n",
    "- $\\mu$ is the **mean** of the distribution;\n",
    "- $\\sigma^2$ is the **variance**;\n",
    "- $\\sigma$ is the **standard deviation**."
   ]
  },
  {
   "cell_type": "code",
   "execution_count": null,
   "metadata": {},
   "outputs": [],
   "source": [
    "def normalDistribution(x, mu, sigma):\n",
    "    return 1/(sigma*(2*np.pi)**0.5)*np.exp(-1/2*((x - mu)/sigma)**2)"
   ]
  },
  {
   "cell_type": "code",
   "execution_count": null,
   "metadata": {},
   "outputs": [],
   "source": [
    "x = np.linspace(-4, 4, 101)\n",
    "p = normalDistribution(x, 0, 1)\n",
    "\n",
    "plt.plot(x, p)\n",
    "plt.ylim(0, 1)\n",
    "\n",
    "plt.annotate(\n",
    "    \"\",\n",
    "    xy=(-1, 0.5), xycoords='data',\n",
    "    xytext=(1, 0.5), textcoords='data',\n",
    "    arrowprops=dict(arrowstyle=\"<|-|>\")\n",
    ")\n",
    "plt.text(0, 0.51, '68% within\\n1 standard deviation', ha='center', va='bottom', size=12)\n",
    "\n",
    "plt.annotate(\n",
    "    \"\",\n",
    "    xy=(-2, 0.65), xycoords='data',\n",
    "    xytext=(2, 0.65), textcoords='data',\n",
    "    arrowprops=dict(arrowstyle=\"<|-|>\")\n",
    ")\n",
    "plt.text(0, 0.66, '95% within\\n2 standard deviation', ha='center', va='bottom', size=12)\n",
    "\n",
    "plt.annotate(\n",
    "    \"\",\n",
    "    xy=(-3, 0.8), xycoords='data',\n",
    "    xytext=(3, 0.8), textcoords='data',\n",
    "    arrowprops=dict(arrowstyle=\"<|-|>\")\n",
    ")\n",
    "plt.text(0, 0.81, '99.7% within\\n3 standard deviation', ha='center', va='bottom', size=12)\n",
    "\n",
    "plt.grid(alpha=0.25, linestyle='-.')\n",
    "plt.xticks(\n",
    "    range(-4, 5), \n",
    "    [\n",
    "        '', r'$\\mu-3\\sigma$', r'$\\mu-2\\sigma$', \n",
    "        r'$\\mu-\\sigma$', r'$\\mu$', r'$\\mu+\\sigma$', \n",
    "        r'$\\mu+2\\sigma$', r'$\\mu+3\\sigma$', ''\n",
    "    ]\n",
    ")\n",
    "plt.yticks(np.linspace(0, 1, 6), ['']*6)\n",
    "plt.title('Probability density')\n",
    "plt.show()"
   ]
  },
  {
   "cell_type": "markdown",
   "metadata": {},
   "source": [
    "## Standard normal distribution\n",
    "---\n",
    "Special case of density probability, when $\\mu=0$ and $\\sigma=1$\n",
    "$$ \\large\n",
    "f(x)=\\frac{1}{\\sqrt{2\\pi}}e^{-\\frac{1}{2}x^2}\n",
    "$$"
   ]
  },
  {
   "cell_type": "code",
   "execution_count": null,
   "metadata": {},
   "outputs": [],
   "source": [
    "def stdNormalDistribution(x):\n",
    "    return normalDistribution(x, 0, 1)"
   ]
  },
  {
   "cell_type": "markdown",
   "metadata": {},
   "source": [
    "## Cumulative distribution function\n",
    "---\n",
    "$$ \\large\n",
    "\\Phi(z)=\\frac{1}{2\\pi}\\int_{-\\infty}^{z}e^{-\\frac{t^2}{2}}dx\n",
    "$$\n",
    "For the range $[-\\infty, \\infty]$ the value of $\\Phi$ should be $1$."
   ]
  },
  {
   "cell_type": "code",
   "execution_count": null,
   "metadata": {},
   "outputs": [],
   "source": [
    "fig, ax = plt.subplots()\n",
    "\n",
    "plt.plot(x, p, c='red', linewidth=4)\n",
    "x1 = x[:65]; y1 = p[:65]\n",
    "verts = [(x1[0], 0), *zip(x1, y1), (x1[-1], 0)]\n",
    "P = Polygon(verts, facecolor='0.8', edgecolor='0.6', hatch='x')\n",
    "ax.add_patch(P)\n",
    "plt.xlim([-4, 4])\n",
    "plt.grid()\n",
    "plt.show()"
   ]
  },
  {
   "cell_type": "markdown",
   "metadata": {},
   "source": [
    "## Cumulative from mean\n",
    "---\n",
    "$$ \\large\n",
    "f(z)=\\frac{1}{2\\pi}\\int_{0}^{z}e^{-\\frac{t^2}{2}}dx\n",
    "$$\n",
    "Probability from 0 to Z, or:\n",
    "$$ \\large\n",
    "f(z)=\\Phi(z) - \\frac{1}{2}\n",
    "$$"
   ]
  },
  {
   "cell_type": "code",
   "execution_count": null,
   "metadata": {},
   "outputs": [],
   "source": [
    "fig, ax = plt.subplots()\n",
    "\n",
    "plt.plot(x, p, c='red', linewidth=4)\n",
    "x1 = x[50:65]; y1 = p[50:65]\n",
    "verts = [(x1[0], 0), *zip(x1, y1), (x1[-1], 0)]\n",
    "P = Polygon(verts, facecolor='0.8', edgecolor='0.6', hatch='x')\n",
    "ax.add_patch(P)\n",
    "plt.xlim([-4, 4])\n",
    "plt.grid()\n",
    "plt.show()"
   ]
  },
  {
   "cell_type": "markdown",
   "metadata": {},
   "source": [
    "## Z-Score\n",
    "---"
   ]
  },
  {
   "cell_type": "code",
   "execution_count": null,
   "metadata": {},
   "outputs": [],
   "source": [
    "def definiteIntegral(f, a, b, N=10000):\n",
    "    result = 0\n",
    "    dx = abs(b - a)/N\n",
    "    while a < b:\n",
    "        result += f(a + dx/2)*dx\n",
    "        a += dx\n",
    "    return result\n",
    "\n",
    "def zScore(z, option=0):\n",
    "    '''\n",
    "    Cumulative standard normal distribution\n",
    "    Option:\n",
    "        0 => one-tailed under *default\n",
    "        1 => one-tailed above\n",
    "        2 => two-tailed inside\n",
    "        3 => two-tailed outside\n",
    "    '''\n",
    "    Z = abs(z)\n",
    "    try:\n",
    "        sign = z/abs(z)\n",
    "    except ZeroDivisionError:\n",
    "        return 0.0\n",
    "    \n",
    "    p = definiteIntegral(stdNormalDistribution, 0, Z)\n",
    "\n",
    "    if option == 1:\n",
    "        return 0.5 - p*sign\n",
    "\n",
    "    if option == 2:\n",
    "        return 2*p\n",
    "\n",
    "    if option == 3:\n",
    "        return 1 - 2*p\n",
    "\n",
    "    return 0.5 + p*sign"
   ]
  },
  {
   "cell_type": "code",
   "execution_count": null,
   "metadata": {},
   "outputs": [],
   "source": [
    "fig, [[axA, axB], [axC, axD]] = plt.subplots(2, 2, sharex='col', sharey='row')\n",
    "\n",
    "axA.plot(x, p, c='red', linewidth=2)\n",
    "slice = x <= 1.5\n",
    "xP = x[slice]; yP = p[slice]\n",
    "vertsP = [(xP[0], 0), *zip(xP, yP), (xP[-1], 0)]\n",
    "PP = Polygon(vertsP, facecolor='0.8', edgecolor='0.7', hatch='xx')\n",
    "axA.add_patch(PP)\n",
    "axA.set_title('one-tailed under')\n",
    "\n",
    "axB.plot(x, p, c='red', linewidth=2)\n",
    "slice = x >= 1.5\n",
    "xP = x[slice]; yP = p[slice]\n",
    "vertsP = [(xP[0], 0), *zip(xP, yP), (xP[-1], 0)]\n",
    "PP = Polygon(vertsP, facecolor='0.8', edgecolor='0.7', hatch='xx')\n",
    "axB.add_patch(PP)\n",
    "axB.set_title('one-tailed above')\n",
    "\n",
    "axC.plot(x, p, c='red', linewidth=2)\n",
    "slice = abs(x) <= 1.5\n",
    "xP = x[slice]; yP = p[slice]\n",
    "vertsP = [(xP[0], 0), *zip(xP, yP), (xP[-1], 0)]\n",
    "PP = Polygon(vertsP, facecolor='0.8', edgecolor='0.7', hatch='xx')\n",
    "axC.add_patch(PP)\n",
    "axC.set_title('two-tailed inside')\n",
    "\n",
    "axD.plot(x, p, c='red', linewidth=2)\n",
    "slice = x >= 1.5\n",
    "xP = x[slice]; yP = p[slice]\n",
    "vertsP = [(xP[0], 0), *zip(xP, yP), (xP[-1], 0)]\n",
    "PP = Polygon(vertsP, facecolor='0.8', edgecolor='0.7', hatch='xx')\n",
    "axD.add_patch(PP)\n",
    "slice = x <= -1.5\n",
    "xP = x[slice]; yP = p[slice]\n",
    "vertsP = [(xP[0], 0), *zip(xP, yP), (xP[-1], 0)]\n",
    "PP = Polygon(vertsP, facecolor='0.8', edgecolor='0.7', hatch='xx')\n",
    "axD.add_patch(PP)\n",
    "axD.set_title('two-tailed outside')\n",
    "\n",
    "plt.show()"
   ]
  },
  {
   "cell_type": "code",
   "execution_count": null,
   "metadata": {},
   "outputs": [],
   "source": [
    "def zTable(option=0, digits=5, hsteps=0.01, zmin=-3.4, zmax=3.4):\n",
    "    if option >= 2:\n",
    "        zmin = 0.0 if zmin <= 0 else zmin\n",
    "    steps = np.arange(zmin, zmax + 0.1, hsteps)\n",
    "    steps = steps.reshape(-1, int(0.1/hsteps))\n",
    "    df = pd.DataFrame(data=steps)\n",
    "    d = int(np.ceil(abs(np.log10(hsteps))))\n",
    "    cols = ['{0:.{1}f}'.format(e, d) for e in np.arange(0, 0.1, hsteps)]\n",
    "    idxs = np.linspace(zmin, zmax, int((zmax - zmin)/0.1) + 1)\n",
    "    df.index = idxs; df.columns = cols; ztable=df.rename_axis('+=>', axis=1)\n",
    "    ztable = ztable.applymap(lambda x: round(zScore(x, option=option), digits))\n",
    "    return ztable"
   ]
  },
  {
   "cell_type": "code",
   "execution_count": null,
   "metadata": {},
   "outputs": [],
   "source": [
    "# Display z table\n",
    "ztable = zTable(zmin=1, zmax=3)\n",
    "with pd.option_context('display.max_rows', None, 'display.max_columns', None):\n",
    "    display(ztable)"
   ]
  },
  {
   "cell_type": "markdown",
   "metadata": {},
   "source": [
    "## Export HTML table\n",
    "---\n",
    "Access the extended [Z-Table](output/z-table.html)\n"
   ]
  },
  {
   "cell_type": "code",
   "execution_count": null,
   "metadata": {},
   "outputs": [],
   "source": [
    "%%time\n",
    "# save z table as HTML\n",
    "HTML = '''\n",
    "<!DOCTYPE html>\n",
    "<html>\n",
    "<head>\n",
    "  <link rel=\"stylesheet\" href=\"z-table.css\">\n",
    "</head>\n",
    "<body>\n",
    "'''\n",
    "HTML += '\\n<h1>Z Tables</h1>\\n'\n",
    "\n",
    "HTML += '\\n<h2>One-tailed under</h2>\\n'\n",
    "ztable = zTable(option=0, hsteps=0.005)\n",
    "HTML += ztable.to_html()\n",
    "\n",
    "HTML += '\\n<h2>One-tailed above</h2>\\n'\n",
    "ztable = zTable(option=1, hsteps=0.005)\n",
    "HTML += ztable.to_html()\n",
    "\n",
    "HTML += '\\n<h2>Two-tailed inside</h2>\\n'\n",
    "ztable = zTable(option=2, hsteps=0.005)\n",
    "HTML += ztable.to_html()\n",
    "\n",
    "HTML += '\\n<h2>Two-tailed outside</h2>\\n'\n",
    "ztable = zTable(option=3, hsteps=0.005)\n",
    "HTML += ztable.to_html()\n",
    "\n",
    "HTML += '''\n",
    "</body>\n",
    "</html>\n",
    "'''\n",
    "\n",
    "ztable_html = open('output/z-table.html', 'w')\n",
    "ztable_html.write(HTML)\n",
    "ztable_html.close()"
   ]
  }
 ],
 "metadata": {
  "kernelspec": {
   "display_name": "Python 3",
   "language": "python",
   "name": "python3"
  },
  "language_info": {
   "codemirror_mode": {
    "name": "ipython",
    "version": 3
   },
   "file_extension": ".py",
   "mimetype": "text/x-python",
   "name": "python",
   "nbconvert_exporter": "python",
   "pygments_lexer": "ipython3",
   "version": "3.8.8"
  }
 },
 "nbformat": 4,
 "nbformat_minor": 2
}
