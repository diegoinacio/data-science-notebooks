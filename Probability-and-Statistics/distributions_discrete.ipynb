{
 "cells": [
  {
   "cell_type": "markdown",
   "metadata": {},
   "source": [
    "# Probability Distribution - Discrete\n",
    "---\n",
    "- Author: Diego Inácio\n",
    "- GitHub: [github.com/diegoinacio](https://github.com/diegoinacio)\n",
    "- Notebook: [distributions.ipynb](https://github.com/diegoinacio/data-science-notebooks/blob/master/Probability-and-Statistics/distributions.ipynb)\n",
    "---\n",
    "Brief overview of *discrete probability distributions*."
   ]
  },
  {
   "cell_type": "code",
   "execution_count": null,
   "metadata": {},
   "outputs": [],
   "source": [
    "%matplotlib inline\n",
    "import matplotlib\n",
    "import matplotlib.pyplot as plt\n",
    "from IPython.display import display, HTML\n",
    "\n",
    "import numpy as np\n",
    "import pandas as pd"
   ]
  },
  {
   "cell_type": "code",
   "execution_count": null,
   "metadata": {},
   "outputs": [],
   "source": [
    "np.seterr(divide='ignore')\n",
    "plt.rcParams['figure.figsize'] = (16, 8)"
   ]
  },
  {
   "cell_type": "markdown",
   "metadata": {},
   "source": [
    "## Introduction\n",
    "---\n",
    "A **discrete probability distribution** is the probability distribution of a random variable with countable number of values. For example, list of real number or non-negative integers ($k = 1, 2, 3 ..$).. Thus, a **discrete random variable** is a random variable whose probability distribution is discrete.\n",
    "\n",
    "The [probability mass function](https://en.wikipedia.org/wiki/Probability_mass_function) of a discrete random variable $X$ with $k$ occurrences can be expressed as:\n",
    "\n",
    "$$ \\large\n",
    "f(k)=Pr(X = k)\n",
    "$$"
   ]
  },
  {
   "cell_type": "markdown",
   "metadata": {},
   "source": [
    "### Cumulative distribution functions\n",
    "---\n",
    "A **cumulative distribution function** calculates the probability of a random observation being less than or equal a certain value. It can be expressed as:\n",
    "\n",
    "$$ \\large\n",
    "F(k)=Pr(X \\leq k)=\\sum_{i}^{k}Pr(X = i)\n",
    "$$"
   ]
  },
  {
   "cell_type": "markdown",
   "metadata": {},
   "source": [
    "## Uniform distribution\n",
    "---\n",
    "A **discrete uniform distribution** is characterized by [symmetry](https://en.wikipedia.org/wiki/Symmetric_probability_distribution) and finite number of values that are equally likely to be observed. In other words, every one of $\\large n$ values has equal probability $\\large\\frac{1}{n}$ to occurs. It is convenient to represent its values generally by all integers $k$ in an interval $[a,b]$, so $a$ and $b$ are the main parameters of the distribution, expressed as:\n",
    "\n",
    "$$ \\large\n",
    "F(k;a,b)=Pr(X = k)=\\frac{1}{b - a + 1}\n",
    "$$"
   ]
  },
  {
   "cell_type": "code",
   "execution_count": null,
   "metadata": {},
   "outputs": [],
   "source": [
    "def uniformDistribution(k, a, b):\n",
    "    den = b - a + 1\n",
    "    return 1/den"
   ]
  },
  {
   "cell_type": "code",
   "execution_count": null,
   "metadata": {},
   "outputs": [],
   "source": [
    "ud = uniformDistribution\n",
    "\n",
    "# Distribution A\n",
    "a, b = 10, 35\n",
    "RANGE = np.arange(a, b + 1)\n",
    "n = RANGE.size\n",
    "\n",
    "plt.bar(\n",
    "    RANGE, [ud(k, a, b) for k in RANGE], \n",
    "    alpha=0.5, \n",
    "    label=f'$n={n} \\\\quad|\\\\quad ab:[{a},{b}]$'\n",
    ")\n",
    "\n",
    "# Distribution B\n",
    "a, b = 25, 60\n",
    "RANGE = np.arange(a, b + 1)\n",
    "n = RANGE.size\n",
    "\n",
    "plt.bar(\n",
    "    RANGE, [ud(k, a, b) for k in RANGE], \n",
    "    alpha=0.5, \n",
    "    label=f'$n={n} \\\\quad|\\\\quad ab:[{a},{b}]$'\n",
    ")\n",
    "\n",
    "# Distribution C\n",
    "a, b = 45, 65\n",
    "RANGE = np.arange(a, b + 1)\n",
    "n = RANGE.size\n",
    "\n",
    "plt.bar(\n",
    "    RANGE, [ud(k, a, b) for k in RANGE], \n",
    "    alpha=0.5, \n",
    "    label=f'$n={n} \\\\quad|\\\\quad ab:[{a},{b}]$'\n",
    ")\n",
    "\n",
    "# Visualization\n",
    "plt.xlabel('k')\n",
    "plt.ylabel('Probability')\n",
    "plt.legend()\n",
    "plt.show()"
   ]
  },
  {
   "cell_type": "markdown",
   "metadata": {},
   "source": [
    "### Cumulative uniform distribution\n",
    "---\n",
    "The *cumulative uniform distribution* of the *discrete uniform distribution* can be expressed, for any $k \\in [a,b]$, as:\n",
    "\n",
    "$$ \\large\n",
    "F(k;a,b)=Pr(X \\leq k)=\\frac{\\lfloor{k}\\rfloor - a + 1}{b - a + 1}\n",
    "$$"
   ]
  },
  {
   "cell_type": "code",
   "execution_count": null,
   "metadata": {},
   "outputs": [],
   "source": [
    "def cumulativeUniformDistribution(k, a, b):\n",
    "    k = np.floor(k)\n",
    "    num = k - a + 1\n",
    "    den = b - a + 1\n",
    "    return num/den"
   ]
  },
  {
   "cell_type": "code",
   "execution_count": null,
   "metadata": {},
   "outputs": [],
   "source": [
    "cud = cumulativeUniformDistribution\n",
    "\n",
    "# Cumulative distribution A\n",
    "a, b = 10, 35\n",
    "RANGE = np.arange(a, b + 1)\n",
    "n = RANGE.size\n",
    "\n",
    "plt.bar(\n",
    "    RANGE, [cud(k, a, b) for k in RANGE], \n",
    "    alpha=0.5, \n",
    "    label=f'$n={n};ab:[{a},{b}]$'\n",
    ")\n",
    "\n",
    "# Cumulative distribution B\n",
    "a, b = 25, 60\n",
    "RANGE = np.arange(a, b + 1)\n",
    "n = RANGE.size\n",
    "\n",
    "plt.bar(\n",
    "    RANGE, [cud(k, a, b) for k in RANGE], \n",
    "    alpha=0.5, \n",
    "    label=f'$n={n};ab:[{a},{b}]$'\n",
    ")\n",
    "\n",
    "# Cumulative distribution C\n",
    "a, b = 45, 65\n",
    "RANGE = np.arange(a, b + 1)\n",
    "n = RANGE.size\n",
    "\n",
    "plt.bar(\n",
    "    RANGE, [cud(k, a, b) for k in RANGE], \n",
    "    alpha=0.5, \n",
    "    label=f'$n={n};ab:[{a},{b}]$'\n",
    ")\n",
    "\n",
    "# Visualization\n",
    "plt.xlabel('k')\n",
    "plt.ylabel('Probability')\n",
    "plt.legend()\n",
    "plt.show()"
   ]
  },
  {
   "cell_type": "markdown",
   "metadata": {},
   "source": [
    "## Binomial distribution\n",
    "---\n",
    "A **discrete binomial distribution** provide the probability of getting exactly *k successes* in *n* independent [Bernoulli](https://en.wikipedia.org/wiki/Bernoulli_distribution) [trials](https://en.wikipedia.org/wiki/Bernoulli_trial). In other words, binomial distribution is a discrete probability distribution which expresses the probability of one set of two alternatives: success (with probability $p$) and failure (with probability $1 - p$).\n",
    "\n",
    "$$ \\large\n",
    "f(k;n,p)=Pr(X=k)={n \\choose k}p^k (1-p)^{ n-k}=\\frac{n!}{k!(n-k)!}p^k (1-p)^{ n-k}\n",
    "$$\n",
    "\n",
    "where:\n",
    "- ${n \\choose k}$ is a **binomial coeficient**;\n",
    "- $k$ is the number of successes;\n",
    "- $n$ is the total number of trials;\n",
    "- $p$ is the probability."
   ]
  },
  {
   "cell_type": "code",
   "execution_count": null,
   "metadata": {},
   "outputs": [],
   "source": [
    "def factorial(n):\n",
    "    # Factorial of n\n",
    "    if n <= 1:\n",
    "        return 1\n",
    "    return n*factorial(n - 1)\n",
    "\n",
    "def binomial(k, n):\n",
    "    # Binomial coefficient of n and k\n",
    "    n_ = factorial(n)\n",
    "    k_ = factorial(k)\n",
    "    nk_ = factorial(n - k)\n",
    "    return n_//(k_*nk_)\n",
    "\n",
    "def binomialDistribution(k, n, p):\n",
    "    # Binomial distribution\n",
    "    B = binomial(k, n)\n",
    "    return B*p**k*(1 - p)**(n - k)"
   ]
  },
  {
   "cell_type": "code",
   "execution_count": null,
   "metadata": {},
   "outputs": [],
   "source": [
    "bd = binomialDistribution\n",
    "\n",
    "n = 50\n",
    "RANGE = np.arange(n, dtype=np.uint64)\n",
    "\n",
    "# Distributions A, B and C\n",
    "plt.bar(RANGE, [bd(k, n, 0.15) for k in RANGE], alpha=0.5, label='p=0.15')\n",
    "plt.bar(RANGE, [bd(k, n, 0.50) for k in RANGE], alpha=0.5, label='p=0.50')\n",
    "plt.bar(RANGE, [bd(k, n, 0.75) for k in RANGE], alpha=0.5, label='p=0.75')\n",
    "\n",
    "# Visualization\n",
    "plt.xlabel('k successes')\n",
    "plt.ylabel('Probability')\n",
    "plt.legend()\n",
    "plt.show()"
   ]
  },
  {
   "cell_type": "markdown",
   "metadata": {},
   "source": [
    "### Cumulative binomial distribution\n",
    "---\n",
    "The *cumulative uniform distribution* of the *discrete binomial distribution* can be expressed as:\n",
    "\n",
    "$$ \\large\n",
    "F(k;n,p)=Pr(X \\leq k)=\\sum_{i=0}^{k}{n \\choose i}p^i (1-p)^{n-i}=\\sum_{i=0}^{k}\\frac{n!}{i!(n-i)!}p^i (1-p)^{n-i}\n",
    "$$"
   ]
  },
  {
   "cell_type": "code",
   "execution_count": null,
   "metadata": {},
   "outputs": [],
   "source": [
    "def cumulativeBinomialDistribution(k, n, p):\n",
    "    # Cumulative binomial distribution function\n",
    "    K = np.arange(k + 1)\n",
    "    B = np.array([binomial(i, n) for i in K])\n",
    "    return np.sum(B*p**K*(1 - p)**(n - K))"
   ]
  },
  {
   "cell_type": "code",
   "execution_count": null,
   "metadata": {},
   "outputs": [],
   "source": [
    "cbd = cumulativeBinomialDistribution\n",
    "\n",
    "n = 50\n",
    "RANGE = np.arange(n, dtype=np.uint64)\n",
    "\n",
    "# Cumulative distributions A, B and C\n",
    "plt.bar(RANGE, [cbd(k, n, 0.15) for k in RANGE], alpha=0.5, label='p=0.15')\n",
    "plt.bar(RANGE, [cbd(k, n, 0.50) for k in RANGE], alpha=0.5, label='p=0.50')\n",
    "plt.bar(RANGE, [cbd(k, n, 0.75) for k in RANGE], alpha=0.5, label='p=0.75')\n",
    "\n",
    "# Visualization\n",
    "plt.xlabel('k successes')\n",
    "plt.ylabel('Probability')\n",
    "plt.legend()\n",
    "plt.show()"
   ]
  },
  {
   "cell_type": "markdown",
   "metadata": {},
   "source": [
    "## Poisson distribution\n",
    "---\n",
    "The **discrete poisson distribution** express the probability of a number of events occurring in a certain interval of time or space if these events occur independently of the last event.\n",
    "\n",
    "For example, while controled walking your heart have an average of *120 beats per minute*. In this case, the heartbeats are independent, what it means that when a heartbeat occurs it does not change the probability of when the next one will happen. In intervals of 10 seconds (interval less than 1 minute) has a Poisson distribution with mean 12. This means that in 10 seconds is more likely you have 11 or 12 heartbeats, however 10 and 13 are also likely but with smaller probability.\n",
    "\n",
    "$$ \\large\n",
    "f(k;\\lambda)=Pr(X=k)=\\frac{\\lambda^k e^{-\\lambda}}{k!}\n",
    "$$\n",
    "\n",
    "where:\n",
    "- $k$ is the number of occurrences ($k$ must be greater than $\\lambda$);\n",
    "- $\\lambda$ is a positive real number, equal to the expected number of occurrences during the given interval;\n",
    "- $\\large e$ is the *Euler's number*;\n",
    "- $k!$ is the factorial of $k$."
   ]
  },
  {
   "cell_type": "code",
   "execution_count": null,
   "metadata": {},
   "outputs": [],
   "source": [
    "def poissonDistribution(k, l):\n",
    "    # Poisson distribution\n",
    "    num = l**k*np.exp(-l)\n",
    "    den = factorial(k)\n",
    "    return num/den"
   ]
  },
  {
   "cell_type": "code",
   "execution_count": null,
   "metadata": {},
   "outputs": [],
   "source": [
    "pd = poissonDistribution\n",
    "\n",
    "n = 50\n",
    "RANGE = np.arange(n, dtype=np.uint64)\n",
    "\n",
    "# Distributions A, B and C\n",
    "plt.bar(RANGE, [pd(k, 10) for k in RANGE], alpha=0.5, label='$\\lambda=10$')\n",
    "plt.bar(RANGE, [pd(k, 15) for k in RANGE], alpha=0.5, label='$\\lambda=15$')\n",
    "plt.bar(RANGE, [pd(k, 30) for k in RANGE], alpha=0.5, label='$\\lambda=30$')\n",
    "\n",
    "# Visualization\n",
    "plt.xlabel('k')\n",
    "plt.ylabel('Probability')\n",
    "plt.legend()\n",
    "plt.show()"
   ]
  },
  {
   "cell_type": "markdown",
   "metadata": {},
   "source": [
    "### Cumulative Poisson distribution\n",
    "---\n",
    "The *cumulative uniform distribution* of the *discrete Poisson distribution* can be expressed as:\n",
    "\n",
    "$$ \\large\n",
    "f(k;\\lambda)=Pr(X \\leq k)=\\sum_{i=0}^{k}\\frac{\\lambda^i e^{-\\lambda}}{i!}\n",
    "$$"
   ]
  },
  {
   "cell_type": "code",
   "execution_count": null,
   "metadata": {},
   "outputs": [],
   "source": [
    "def cumulativePoissonDistribution(k, l):\n",
    "    # Cumulative Poisson distribution function\n",
    "    K = np.arange(k + 1)\n",
    "    Li= np.array([l**i for i in K])\n",
    "    I_ = np.array([factorial(i) for i in K])\n",
    "    return np.sum(Li*np.exp(-l)/I_)"
   ]
  },
  {
   "cell_type": "code",
   "execution_count": null,
   "metadata": {},
   "outputs": [],
   "source": [
    "cpd = cumulativePoissonDistribution\n",
    "\n",
    "n = 50\n",
    "RANGE = np.arange(n, dtype=np.uint64)\n",
    "\n",
    "# Cumulative distributions A, B and C\n",
    "plt.bar(RANGE, [cpd(k, 10) for k in RANGE], alpha=0.5, label='$\\lambda=10$')\n",
    "plt.bar(RANGE, [cpd(k, 15) for k in RANGE], alpha=0.5, label='$\\lambda=15$')\n",
    "plt.bar(RANGE, [cpd(k, 30) for k in RANGE], alpha=0.5, label='$\\lambda=30$')\n",
    "\n",
    "# Visualization\n",
    "plt.xlabel('k')\n",
    "plt.ylabel('Probability')\n",
    "plt.legend()\n",
    "plt.show()"
   ]
  }
 ],
 "metadata": {
  "kernelspec": {
   "display_name": "Python 3 (ipykernel)",
   "language": "python",
   "name": "python3"
  },
  "language_info": {
   "codemirror_mode": {
    "name": "ipython",
    "version": 3
   },
   "file_extension": ".py",
   "mimetype": "text/x-python",
   "name": "python",
   "nbconvert_exporter": "python",
   "pygments_lexer": "ipython3",
   "version": "3.10.4"
  }
 },
 "nbformat": 4,
 "nbformat_minor": 2
}
