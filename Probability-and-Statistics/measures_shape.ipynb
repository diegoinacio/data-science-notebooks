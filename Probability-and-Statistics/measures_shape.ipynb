{
 "cells": [
  {
   "cell_type": "markdown",
   "metadata": {},
   "source": [
    "# Measures of Shape\n",
    "---\n",
    "- Author: Diego Inácio\n",
    "- GitHub: [github.com/diegoinacio](https://github.com/diegoinacio)\n",
    "- Notebook: [measures_shape.ipynb](https://github.com/diegoinacio/data-science-notebooks/blob/master/Probability-and-Statistics/measures_shape.ipynb)\n",
    "---\n",
    "Overview of measures of shape in distributions."
   ]
  },
  {
   "cell_type": "markdown",
   "metadata": {},
   "source": [
    "Regarding the data distribution shape, we can classify it into two categories: **symmetrical** or **asymmetrical**. In a *symmetrical* case, the two sides of the distribution are a mirror image of each other, as the `normal distribution`, for example. However, in a *asymmetrical* case, both sides around the central location (as mean or median) are relatively different, as the `skewed distribution`, for example.\n",
    "\n",
    "![measures of shape](sourceimages/measures_shape_01.jpg)"
   ]
  },
  {
   "cell_type": "code",
   "execution_count": null,
   "metadata": {},
   "outputs": [],
   "source": [
    "%matplotlib inline\n",
    "import matplotlib\n",
    "import seaborn as sns\n",
    "import matplotlib.pyplot as plt\n",
    "import numpy as np\n",
    "import pandas as pd"
   ]
  },
  {
   "cell_type": "code",
   "execution_count": null,
   "metadata": {},
   "outputs": [],
   "source": [
    "plt.rcParams['figure.figsize'] = (16, 8)"
   ]
  },
  {
   "cell_type": "code",
   "execution_count": null,
   "metadata": {},
   "outputs": [],
   "source": [
    "import warnings\n",
    "warnings.filterwarnings('ignore')"
   ]
  },
  {
   "cell_type": "markdown",
   "metadata": {},
   "source": [
    "## Skewness\n",
    "---\n",
    "Considering a probability distribution of a real-valued random variable, [skewness](https://en.wikipedia.org/wiki/Skewness) is a measure of the **asymmetry** about its mean. To calculate the skewness coefficient, we have:\n",
    "\n",
    "$$ \\large\n",
    "S_1 = \\frac{\\overline{x} - M_o}{\\sigma} \\quad ; \\quad S_2 = \\frac{3 \\cdot (\\overline{x} - M_d)}{\\sigma}\n",
    "$$\n",
    "\n",
    "where:\n",
    "- $S_1$ is the Pearson *mode* skewness (or first skewness coefficient) and $S_2$ is the Pearson *median* skewness (or second skewness coefficient);\n",
    "- $M_o$ and $M_d$ are the *mode* (categorical and discrete variables) and *median* (numeric), respectively.\n",
    "\n",
    "For a [unimodal](https://en.wikipedia.org/wiki/Unimodality) distributions, the skewness value can be:\n",
    "\n",
    "- **positive**: When the largest tail is on the *right* side of the distribution and when the *mean* value is greater than the *mode*|*median* value; ($\\overline{x} > M_o, M_d$)\n",
    "- **negative**: When the largest tail is on the *left* side of the distribution and when the *mean* value is less than the *mode*|*median* value; ($\\overline{x} < M_o, M_d$)\n",
    "- **zero**: When the *mean* and *median* values are the same. This means that the distribution is *symmetric*. ($\\overline{x} = M_o, M_d$)"
   ]
  },
  {
   "cell_type": "code",
   "execution_count": null,
   "metadata": {},
   "outputs": [],
   "source": [
    "np.random.seed(0)\n",
    "df_ = np.random.normal(0, 1, 100000)\n",
    "df_ = df_ - df_.min() + 1 # non-zero normalization\n",
    "DF = [\n",
    "    2**(df_/2),\n",
    "    df_,\n",
    "    np.log2(df_)\n",
    "]\n",
    "\n",
    "fig, AX = plt.subplots(1, 3)\n",
    "COLOR = list(\"rgb\")\n",
    "\n",
    "for df, axis, color in zip(DF, AX, COLOR):\n",
    "    mean = np.mean(df)\n",
    "    median = np.median(df)\n",
    "    std = np.std(df)\n",
    "    # skewness\n",
    "    S2 = 3*(mean - median)/std\n",
    "\n",
    "    sns.distplot(df, ax=axis, color=color)\n",
    "    axis.set_title(f'$S_2={S2:.03f}$')\n",
    "    axis.axvline(x=mean, ymin=0.0, ymax=1.0, color='cyan', )\n",
    "    axis.axvline(x=median, ymin=0.0, ymax=1.0, color='black', linestyle='--')\n",
    "    axis.legend([\"distribution\", 'mean', 'median'])\n",
    "\n",
    "plt.show()"
   ]
  },
  {
   "cell_type": "markdown",
   "metadata": {},
   "source": [
    "Another way to measure the skewness of a distributions is based on the third [standardized moment](https://en.wikipedia.org/wiki/Standardized_moment), calculated as:\n",
    "\n",
    "$$ \\large\n",
    "g_1 = \\frac{m_3}{m_2^{\\frac{3}{2}}} = \\frac{\\frac{1}{n} \\sum_i^n (x_i - \\overline{x})^3}{\\left[ \\frac{1}{n} \\sum_i^n (x_i - \\overline{x})^2 \\right]^{\\frac{3}{2}}}\n",
    "$$\n",
    "\n",
    "where $m_2$ and $m_3$ are the *second* and *third* central moments, respectively. Finally, we can find the adjusted Fisher–Pearson standardized moment coefficient $G_1$, defined as:\n",
    "\n",
    "$$ \\large\n",
    "G_1 = \\frac{\\sqrt{n(n-1)}}{n-2} \\cdot g_1\n",
    "$$\n",
    "\n",
    "The interpretation of this value follows the same rules as the Person coefficient, in relatikon to the numberic sign. Houwever, it has some quirks:\n",
    "\n",
    "- If the skewness is less than $−1$ or greater than $+1$, the distribution can be called **highly skewed**;\n",
    "- If the skewness is between $−1$ and $−\\frac{1}{2}$ or between $+\\frac{1}{2}$ and $+1$, the distribution can be called **moderately skewed**;\n",
    "- If the skewness is between $−\\frac{1}{2}$ and $+\\frac{1}{2}$, the distribution can be called **approximately symmetric**."
   ]
  },
  {
   "cell_type": "code",
   "execution_count": null,
   "metadata": {},
   "outputs": [],
   "source": [
    "np.random.seed(0)\n",
    "df_ = np.random.normal(0, 1, 100000)\n",
    "df_ = df_ - df_.min() + 1 # non-zero normalization\n",
    "DF = [\n",
    "    2**(df_/2),\n",
    "    df_,\n",
    "    np.log2(df_)\n",
    "]\n",
    "\n",
    "fig, AX = plt.subplots(1, 3)\n",
    "COLOR = list(\"rgb\")\n",
    "\n",
    "for df, axis, color in zip(DF, AX, COLOR):\n",
    "    n = df.size\n",
    "    mean = np.mean(df)\n",
    "    median = np.median(df)\n",
    "    # central moments\n",
    "    m2 = np.sum((df - mean)**2)/n\n",
    "    m3 = np.sum((df - mean)**3)/n\n",
    "    # moment coefficient\n",
    "    g1 = m3/(m2**(3/2))\n",
    "    # measure\n",
    "    G1 = (n*(n - 1))**0.5/(n - 2)*g1\n",
    "\n",
    "    sns.distplot(df, ax=axis, color=color)\n",
    "    axis.set_title(f'$G_1={G1:.03f}$')\n",
    "    axis.axvline(x=mean, ymin=0.0, ymax=1.0, color='cyan', )\n",
    "    axis.axvline(x=median, ymin=0.0, ymax=1.0, color='black', linestyle='--')\n",
    "    axis.legend([\"distribution\", 'mean', 'median'])\n",
    "\n",
    "plt.show()"
   ]
  },
  {
   "cell_type": "markdown",
   "metadata": {},
   "source": [
    "## Kurtosis\n",
    "---\n",
    "Considering a probability distribution of a real-valued random variable, [kurtosis](https://en.wikipedia.org/wiki/Kurtosis) is a measure of the **tailedness**. To calculate the kurtosis coefficient, we have:\n",
    "\n",
    "$$ \\large\n",
    "K = \\frac{Q_3 - Q_1}{2(D_9 - D_1)}\n",
    "$$\n",
    "\n",
    "where:\n",
    "- $Q_1$ and $Q_3$ are the *first* and *third* quartile, respectively;\n",
    "- $D_1$ and $D_9$ are the *first* and *ninth* decile, respectively.\n",
    "\n",
    "The interpretation of excess kurtosis value results in 3 distinct regimes as described below:\n",
    "- **Mesokurtic**: Where there is no excess kurtosis. In a normal distribution, this value is approximately $K \\approx 0.263$;\n",
    "- **Leptokurtic**: Where the excess kurtosis is *negative*. This happen when $K < 0.263$;\n",
    "- **Platykurtic**: Where the excess kurtosis is *positive*. This happen when $K > 0.263$."
   ]
  },
  {
   "cell_type": "code",
   "execution_count": null,
   "metadata": {},
   "outputs": [],
   "source": [
    "np.random.seed(0)\n",
    "df_ = pd.Series(np.random.normal(0, 1, 100000))\n",
    "DF = [\n",
    "    df_[np.absolute(df_) < 4],\n",
    "    df_[np.absolute(df_) < 2],\n",
    "    df_[np.absolute(df_) < 1]\n",
    "]\n",
    "\n",
    "fig, AX = plt.subplots(1, 3)\n",
    "COLOR = list(\"rgb\")\n",
    "\n",
    "for df, axis, color in zip(DF, AX, COLOR):\n",
    "    # quartiles\n",
    "    Q1 = df.quantile(0.25)\n",
    "    Q3 = df.quantile(0.75)\n",
    "    # deciles\n",
    "    D1 = df.quantile(0.10)\n",
    "    D9 = df.quantile(0.90)\n",
    "    # kurtosis\n",
    "    K = (Q3 - Q1)/(2*(D9 - D1))\n",
    "\n",
    "    sns.distplot(df, ax=axis, color=color)\n",
    "    axis.set_title(f'$K={K:.03f}$')\n",
    "    \n",
    "\n",
    "plt.show()"
   ]
  },
  {
   "cell_type": "markdown",
   "metadata": {},
   "source": [
    "Similarly to skewness, there is another way to measure the kurtosis of a distributions, but now is based on the fourth standardized moment, calculated as:\n",
    "\n",
    "$$ \\large\n",
    "g_2 = \\frac{m_4}{m_2^{2}} -3 = \\frac{\\frac{1}{n} \\sum_i^n (x_i - \\overline{x})^4}{\\left[ \\frac{1}{n} \\sum_i^n (x_i - \\overline{x})^2 \\right]^{2}} - 3\n",
    "$$\n",
    "\n",
    "where $m_2$ and $m_4$ are the *second* and *fourth* central moments, respectively. Finally, we can find the adjusted Fisher–Pearson standardized moment coefficient $G_2$, defined as:\n",
    "\n",
    "$$ \\large\n",
    "G_2 = \\frac{n-1}{(n-2)(n-3)} \\cdot [(n+1) \\cdot g_2 + 6]\n",
    "$$"
   ]
  },
  {
   "cell_type": "code",
   "execution_count": null,
   "metadata": {},
   "outputs": [],
   "source": [
    "np.random.seed(0)\n",
    "df_ = np.random.normal(0, 1, 100000)\n",
    "DF = [\n",
    "    df_[np.absolute(df_) < 3],\n",
    "    df_[np.absolute(df_) < 2],\n",
    "    df_[np.absolute(df_) < 1]\n",
    "]\n",
    "\n",
    "fig, AX = plt.subplots(1, 3)\n",
    "COLOR = list(\"rgb\")\n",
    "\n",
    "for df, axis, color in zip(DF, AX, COLOR):\n",
    "    n = df.size\n",
    "    mean = np.mean(df)\n",
    "    # central moments\n",
    "    m2 = np.sum((df - mean)**2)/n\n",
    "    m4 = np.sum((df - mean)**4)/n\n",
    "    # moment coefficient\n",
    "    g2 = m4/(m2**2) - 3\n",
    "    # measure\n",
    "    G2 = (n - 1)/((n - 2)*(n - 3))*((n + 1)*g2 + 6)\n",
    "\n",
    "    sns.distplot(df, ax=axis, color=color)\n",
    "    axis.set_title(f'$G_2={G2:.03f}$')\n",
    "\n",
    "plt.show()"
   ]
  }
 ],
 "metadata": {
  "kernelspec": {
   "display_name": "Python 3 (ipykernel)",
   "language": "python",
   "name": "python3"
  },
  "language_info": {
   "codemirror_mode": {
    "name": "ipython",
    "version": 3
   },
   "file_extension": ".py",
   "mimetype": "text/x-python",
   "name": "python",
   "nbconvert_exporter": "python",
   "pygments_lexer": "ipython3",
   "version": "3.10.4"
  }
 },
 "nbformat": 4,
 "nbformat_minor": 4
}
