{
 "cells": [
  {
   "cell_type": "markdown",
   "metadata": {},
   "source": [
    "# Measures of Dispersion\n",
    "---\n",
    "- Author: Diego Inácio\n",
    "- GitHub: [github.com/diegoinacio](https://github.com/diegoinacio)\n",
    "- Notebook: [measures_dispersion.ipynb](https://github.com/diegoinacio/data-science-notebooks/blob/master/Probability-and-Statistics/measures_dispersion.ipynb)\n",
    "---\n",
    "Overview of dispersion measures in statistics."
   ]
  },
  {
   "cell_type": "markdown",
   "metadata": {},
   "source": [
    "*Measures of dispersion* are a means of describing the spread of a certain amount of data or distribution. They include *range*, *variance*, *deviation*, *coeficient of variation* and so on.\n",
    "\n",
    "![measures of dispersion](sourceimages/measures_dispersion_01.jpg)"
   ]
  },
  {
   "cell_type": "code",
   "execution_count": 1,
   "metadata": {},
   "outputs": [],
   "source": [
    "%matplotlib inline\n",
    "import matplotlib\n",
    "import matplotlib.pyplot as plt\n",
    "import numpy as np"
   ]
  },
  {
   "cell_type": "markdown",
   "metadata": {},
   "source": [
    "## Range\n",
    "---\n",
    "The *range* measure is basically the absolute difference between the lowest and the highest values in a data set. Therefore, to obtain this result, only the *minimum* and the *maximum* values are needed.\n",
    "\n",
    "For example, given a list of elements: $17,10,9,21,14,13,18,12,8,20,15$\n",
    "\n",
    "To make to process more visually intuitive, lets firstly sort this list: $8,9,10,12,13,14,15,17,18,20,21$\n",
    "\n",
    "The next step is to find the *minimum* and the *maximum* values, which are $8$ and $21$, respectivelly.\n",
    "\n",
    "Finally, subtract the minimum from the maximum.\n",
    "\n",
    "$$ \\large\n",
    "max - min = 21 - 8 = 13\n",
    "$$"
   ]
  },
  {
   "cell_type": "code",
   "execution_count": 2,
   "metadata": {},
   "outputs": [
    {
     "name": "stdout",
     "output_type": "stream",
     "text": [
      "elements:  [17 10  9 21 14 13 18 12  8 20 15]\n",
      "sorted:  [ 8  9 10 12 13 14 15 17 18 20 21]\n",
      "minimum:  8\n",
      "maximum:  21\n",
      "range:  13\n"
     ]
    }
   ],
   "source": [
    "elements = np.array([17, 10, 9, 21, 14, 13, 18, 12, 8, 20, 15])\n",
    "\n",
    "elements_sort = np.sort(elements)\n",
    "\n",
    "minimum = elements_sort.min()\n",
    "maximum = elements_sort.max()\n",
    "\n",
    "range = maximum - minimum\n",
    "\n",
    "print(\"elements: \", elements)\n",
    "print(\"sorted: \", elements_sort)\n",
    "print(\"minimum: \", minimum)\n",
    "print(\"maximum: \", maximum)\n",
    "print(\"range: \", range)"
   ]
  },
  {
   "cell_type": "markdown",
   "metadata": {},
   "source": [
    "Another very well know *range* measure is the **interquartile range**, which basically substitute the minimum and the maximum values with the $Q_1$ and $Q_3$, respectively. Using the same value list from the latest example, we have:\n",
    "\n",
    "$$ \\large\n",
    "Q_3 - Q_1 = 18 - 10 = 8\n",
    "$$"
   ]
  },
  {
   "cell_type": "code",
   "execution_count": 3,
   "metadata": {},
   "outputs": [
    {
     "name": "stdout",
     "output_type": "stream",
     "text": [
      "elements:  [17 10  9 21 14 13 18 12  8 20 15]\n",
      "sorted:  [ 8  9 10 12 13 14 15 17 18 20 21]\n",
      "Q1:  10.0\n",
      "Q3:  18.0\n",
      "interquartile_range:  8.0\n"
     ]
    }
   ],
   "source": [
    "elements = np.array([17, 10, 9, 21, 14, 13, 18, 12, 8, 20, 15])\n",
    "elements_sort = np.sort(elements)\n",
    "\n",
    "n = elements.size\n",
    "\n",
    "Q1 = np.median(elements_sort[:n//2])\n",
    "Q3 = np.median(elements_sort[n//2 + 1:])\n",
    "\n",
    "interquartile_range = Q3 - Q1\n",
    "\n",
    "print(\"elements: \", elements)\n",
    "print(\"sorted: \", elements_sort)\n",
    "print(\"Q1: \", Q1)\n",
    "print(\"Q3: \", Q3)\n",
    "print(\"interquartile_range: \", interquartile_range)"
   ]
  },
  {
   "cell_type": "markdown",
   "metadata": {},
   "source": [
    "## Variance and Deviation\n",
    "---\n",
    "The *mean absolute deviation*, *variance* and the *standard deviation* are a kind of measure based on the dissimilarity of each element value in relation to the arithmetic mean value ($\\large \\mu$ or $\\large \\overline{x}$) of the data set. A very important point here is to distinguish the *sample measure* from the *population measure*:\n",
    "\n",
    "- **Sample measure**: Is when the data represents only a sample from the population and the measure tries to represent the population. For example, data from a survey with voters in a country.\n",
    "- **Population measure**: Is when the data represents a whole population and the measure is about every data point. For example, the grades of all students in a specific class.\n",
    "\n",
    "|                           | Sample                                                      | Population                                            |\n",
    "| -------------------------:|:----------------------------------------------------------- |:----------------------------------------------------- |\n",
    "| *Mean Absolute Deviation* | $$\\large MAD=\\frac{\\sum \\mid x_i - \\overline{x} \\mid}{n}$$  | $$\\large MAD=\\frac{\\sum \\mid x_i - \\mu \\mid}{n}$$     |\n",
    "| *Variance*                | $$\\large s^2=\\frac{\\sum (x_i - \\overline{x})^2}{n-1}$$      | $$\\large \\sigma^2=\\frac{\\sum (x_i - \\mu)^2}{n}$$      |\n",
    "| *Standard Deviation*      | $$\\large s=\\sqrt{\\frac{\\sum (x_i - \\overline{x})^2}{n-1}}$$ | $$\\large \\sigma=\\sqrt{\\frac{\\sum (x_i - \\mu)^2}{n}}$$ |\n",
    "\n",
    "where:\n",
    "- $\\large x_i$ is a data value;\n",
    "- $\\large \\overline{x}$ or $\\large \\mu$ are the arithmetic mean from sample and population data, respectively;\n",
    "\n",
    "For example, given a list of ages of randomly selected voters: $19, 21, 34, 20, 55, 43, 22, 36$\n",
    "\n",
    "Firstly, lets calculate the arithmetic mean:\n",
    "\n",
    "$$ \\large\n",
    "\\overline{x} = \\frac{\\sum x_i}{n} = \\frac{19+21+34+20+55+43+22+36}{8} = \\frac{240}{8} = 30\n",
    "$$\n",
    "\n",
    "Now we are able to calculate the *Mean Absolute Deviation*:\n",
    "\n",
    "$$\n",
    "\\begin{align}\n",
    "MAD&=\\frac{\\sum \\mid x_i - \\overline{x}\\mid }{n} \\\\\n",
    "MAD&=\\frac{\\mid 19 - 30 \\mid + \\mid 21 - 30 \\mid + \\mid 34 - 30 \\mid + \\mid 20 - 30 \\mid + \\mid 55 - 30 \\mid + \\mid 43 - 30 \\mid + \\mid 22 - 30 \\mid + \\mid 36 - 30 \\mid }{8} \\\\\n",
    "MAD&=\\frac{84}{8} \\\\\n",
    "MAD& = 10.5\n",
    "\\end{align}\n",
    "$$\n",
    "\n",
    "Considering our data as a sample, the variance value would be:\n",
    "\n",
    "$$\n",
    "\\begin{align}\n",
    "s^2&=\\frac{\\sum (x_i - \\overline{x})^2}{n-1} \\\\\n",
    "s^2&=\\frac{(19 - 30)^2 + (21 - 30)^2 + (34 - 30)^2 + (20 - 30)^2 + (55 - 30)^2 + (43 - 30)^2 + (22 - 30)^2 + (36 - 30)^2}{8 - 1} \\\\\n",
    "s^2&=\\frac{1192}{7} \\\\\n",
    "s^2& \\approx 170.29\n",
    "\\end{align}\n",
    "$$\n",
    "\n",
    "Having that, the standard deviation is calculated as the square root of the variance.\n",
    "\n",
    "$$ \\large\n",
    "s = \\sqrt{s^2} = \\sqrt{170.29} \\approx 13.05\n",
    "$$"
   ]
  },
  {
   "cell_type": "code",
   "execution_count": 4,
   "metadata": {},
   "outputs": [
    {
     "name": "stdout",
     "output_type": "stream",
     "text": [
      "elements:  [19 21 34 20 55 43 22 26]\n",
      "mean:  30.0\n",
      "mean absolute deviation:  10.5\n",
      "variance:  170.28571428571428\n",
      "standard deviation:  13.04935685333627\n"
     ]
    }
   ],
   "source": [
    "elements = np.array([19, 21, 34, 20, 55, 43, 22, 26])\n",
    "\n",
    "n = elements.size\n",
    "\n",
    "mean = np.sum(elements)/n\n",
    "\n",
    "mad = np.sum(np.absolute(elements - mean))/n\n",
    "variance = np.sum((elements - mean)**2)/(n - 1)\n",
    "std = (np.sum((elements - mean)**2)/(n - 1))**0.5\n",
    "\n",
    "print(\"elements: \", elements)\n",
    "print(\"mean: \", mean)\n",
    "print(\"mean absolute deviation: \", mad)\n",
    "print(\"variance: \", variance)\n",
    "print(\"standard deviation: \", std)"
   ]
  },
  {
   "cell_type": "markdown",
   "metadata": {},
   "source": [
    "For another example, lets take the grades of all the 8 students of a class: $7.5, 8, 7, 9.5, 9, 8.5, 7.5, 7$\n",
    "\n",
    "Now, lets calculate the arithmetic mean:\n",
    "\n",
    "$$ \\large\n",
    "\\mu = \\frac{\\sum x_i}{n} = \\frac{7.5+8+7+9.5+9+8.5+7.5+7}{8} = \\frac{64}{8} = 8\n",
    "$$\n",
    "\n",
    "The *mean absolute deviation* would be:\n",
    "\n",
    "$$\n",
    "\\begin{align}\n",
    "MAD&=\\frac{\\sum \\mid x_i - \\mu \\mid }{n} \\\\\n",
    "MAD&=\\frac{\\mid 7.5 - 8 \\mid  +  \\mid 8 - 8 \\mid  +  \\mid 7 - 8 \\mid  +  \\mid 9.5 - 8 \\mid  +  \\mid 9 - 8 \\mid  +  \\mid 8.5 - 8 \\mid  +  \\mid 7.5 - 8 \\mid  +  \\mid 7 - 8 \\mid }{8} \\\\\n",
    "MAD&=\\frac{6}{8} \\\\\n",
    "MAD& = 0.75\n",
    "\\end{align}\n",
    "$$\n",
    "\n",
    "Considering our data represents the whole population, the variance value would be:\n",
    "\n",
    "$$\n",
    "\\begin{align}\n",
    "\\sigma^2&=\\frac{\\sum (x_i - \\mu)^2}{n} \\\\\n",
    "\\sigma^2&=\\frac{(7.5 - 8)^2 + (8 - 8)^2 + (7 - 8)^2 + (9.5 - 8)^2 + (9 - 8)^2 + (8.5 - 8)^2 + (7.5 - 8)^2 + (7 - 8)^2}{8} \\\\\n",
    "\\sigma^2&=\\frac{6}{8} \\\\\n",
    "\\sigma^2& = 0.75\n",
    "\\end{align}\n",
    "$$\n",
    "\n",
    "Having that, the standard deviation is calculated as the square root of the variance.\n",
    "\n",
    "$$ \\large\n",
    "\\sigma = \\sqrt{\\sigma^2} = \\sqrt{0.75} \\approx 0.87\n",
    "$$"
   ]
  },
  {
   "cell_type": "code",
   "execution_count": 5,
   "metadata": {},
   "outputs": [
    {
     "name": "stdout",
     "output_type": "stream",
     "text": [
      "elements:  [7.5 8.  7.  9.5 9.  8.5 7.5 7. ]\n",
      "mean:  8.0\n",
      "mean absolute deviation:  0.75\n",
      "variance:  0.75\n",
      "standard deviation:  0.8660254037844386\n"
     ]
    }
   ],
   "source": [
    "elements = np.array([7.5, 8, 7, 9.5, 9, 8.5, 7.5, 7])\n",
    "\n",
    "n = elements.size\n",
    "\n",
    "mean = np.sum(elements)/n\n",
    "\n",
    "mad = np.sum(np.absolute(elements - mean))/n\n",
    "variance = np.sum((elements - mean)**2)/n\n",
    "std = (np.sum((elements - mean)**2)/n)**0.5\n",
    "\n",
    "print(\"elements: \", elements)\n",
    "print(\"mean: \", mean)\n",
    "print(\"mean absolute deviation: \", mad)\n",
    "print(\"variance: \", variance)\n",
    "print(\"standard deviation: \", std)"
   ]
  },
  {
   "cell_type": "markdown",
   "metadata": {},
   "source": [
    "## Coeficient of Variation\n",
    "---\n",
    "The *coeficient of variation* (or *relative standard deviation*) is basically a measure of the extent of variability in relation to the absolute mean value ($\\large |\\mu|$). In other words, how far from the average the data points are. It can be simply defined as the ration between the standard deviation and the mean.\n",
    "\n",
    "$$ \\large\n",
    "c_v = \\frac{\\sigma}{\\mu}\n",
    "$$\n",
    "\n",
    "Given the same grades of all the 8 students of a class from our latest example:  7.5,8,7,9.5,9,8.5,7.5,7\n",
    "\n",
    "We already know that the standard deviation $\\large \\sigma$ and absolute mean $\\large \\mu$ are **0.87** and **8**, respectively. In this way, we have:\n",
    "\n",
    "$$ \\large\n",
    "c_v = \\frac{\\sigma}{\\mu} = \\frac{0.87}{8} \\approx 0.11\n",
    "$$"
   ]
  },
  {
   "cell_type": "code",
   "execution_count": 6,
   "metadata": {},
   "outputs": [
    {
     "name": "stdout",
     "output_type": "stream",
     "text": [
      "elements:  [7.5 8.  7.  9.5 9.  8.5 7.5 7. ]\n",
      "mean:  8.0\n",
      "standard deviation:  0.8660254037844386\n",
      "coeficient of variation:  0.10825317547305482\n"
     ]
    }
   ],
   "source": [
    "elements = np.array([7.5, 8, 7, 9.5, 9, 8.5, 7.5, 7])\n",
    "\n",
    "n = elements.size\n",
    "\n",
    "mean = np.sum(elements)/n\n",
    "std = (np.sum((elements - mean)**2)/n)**0.5\n",
    "\n",
    "cv = std/mean\n",
    "\n",
    "print(\"elements: \", elements)\n",
    "print(\"mean: \", mean)\n",
    "print(\"standard deviation: \", std)\n",
    "print(\"coeficient of variation: \", cv)"
   ]
  }
 ],
 "metadata": {
  "kernelspec": {
   "display_name": "Python 3",
   "language": "python",
   "name": "python3"
  },
  "language_info": {
   "codemirror_mode": {
    "name": "ipython",
    "version": 3
   },
   "file_extension": ".py",
   "mimetype": "text/x-python",
   "name": "python",
   "nbconvert_exporter": "python",
   "pygments_lexer": "ipython3",
   "version": "3.8.8"
  }
 },
 "nbformat": 4,
 "nbformat_minor": 4
}
