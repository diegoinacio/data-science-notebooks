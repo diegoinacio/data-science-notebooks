{
 "cells": [
  {
   "cell_type": "markdown",
   "metadata": {},
   "source": [
    "# Combinatorial Analysis\n",
    "---\n",
    "- Author: Diego Inácio\n",
    "- GitHub: [github.com/diegoinacio](https://github.com/diegoinacio)\n",
    "- Notebook: [combinatorial_analysis.ipynb](https://github.com/diegoinacio/data-science-notebooks/blob/master/Probability-and-Statistics/combinatorial_analysis.ipynb)\n",
    "---\n",
    "Gathering of some of the main methods of *Combinatorial Analysis*.\n",
    "\n",
    "*Combinatorics* is basically the study of counting the number of possibilities in finite collections of elements, based on specific criteria. This field is closely related to many other areas of mathematics and has many applications in *statistics*, *physics*, *computer science* and so on.\n",
    "\n",
    "![combinatorial analysis 01](sourceimages/combinatorial_analysis_01.jpg)"
   ]
  },
  {
   "cell_type": "markdown",
   "metadata": {},
   "source": [
    "## Basics\n",
    "---\n",
    "Before talking about some combinatorial counting methods, let's introduce some basic concepts that support all these subjects.\n"
   ]
  },
  {
   "cell_type": "markdown",
   "metadata": {},
   "source": [
    "### Counting\n",
    "---\n",
    "The *fundamental counting principle* is a rule that give us the idea that the number of possibilities to execute *n* actions is the multiplication of the quantity of distinct modes.\n",
    "\n",
    "For example, if we have two sets: $A=\\{a_1,a_2,a_3\\}$ and $B=\\{b_1,b_2\\}$.\n",
    "\n",
    "How many ways we can conjugate both sets?\n",
    "\n",
    "$$ \\large\n",
    "C=(A, B)=\\{(a_1, b_1),(a_1, b_2),(a_2, b_1),(a_2, b_2),(a_3, b_1),(a_3, b_2)\\}\n",
    "$$\n",
    "\n",
    "The answer is **6** because the set **A** has *3 elements* and **B** has *2 elements* so $3 \\cdot 2 = 6$."
   ]
  },
  {
   "cell_type": "code",
   "execution_count": null,
   "metadata": {},
   "outputs": [],
   "source": [
    "A = [\"a1\", \"a2\", \"a3\"]\n",
    "B = [\"b1\", \"b2\"]\n",
    "C = [(a, b) for a in A for b in B]\n",
    "\n",
    "print(f'A = {A}')\n",
    "print(f'The set A has {len(A)} elements')\n",
    "print(f'B = {B}')\n",
    "print(f'The set B has {len(B)} elements')\n",
    "print(f'C = {C}')\n",
    "print(f'The conjugation C has {len(C)} elements')"
   ]
  },
  {
   "cell_type": "markdown",
   "metadata": {},
   "source": [
    "### Mathematical tools\n",
    "---\n",
    "Combinatorial analysis appears in many areas of pure mathematics, but there are two mathematical entities that deserve comment before we proceed."
   ]
  },
  {
   "cell_type": "markdown",
   "metadata": {},
   "source": [
    "#### Factorial\n",
    "---\n",
    "*Factorial* of a natural number $n$ is the product of all positive integers less than or equal to $n$.\n",
    "\n",
    "$$ \\large\n",
    "n! = \\prod_{k=1}^{n} = n \\cdot (n-1) \\cdot (n-2) \\ \\cdot \\ ... \\ \\cdot \\ 2 \\cdot 1\n",
    "$$\n",
    "\n",
    "In addition, follows some rules that supports our understanding of actorials and how to implement practical applications:\n",
    "\n",
    "- $n! = n \\cdot (n-1)!$\n",
    "- $0! = 1$"
   ]
  },
  {
   "cell_type": "code",
   "execution_count": null,
   "metadata": {},
   "outputs": [],
   "source": [
    "def factorial(n):\n",
    "    if n <= 1:\n",
    "        return 1\n",
    "    return n*factorial(n - 1)\n",
    "\n",
    "print(f'  5! = {factorial(5)}')\n",
    "print(f'  4! = {factorial(4)}')\n",
    "print(f'5*4! = {5*factorial(4)}')\n",
    "print(f'  0! = {factorial(0)}')"
   ]
  },
  {
   "cell_type": "markdown",
   "metadata": {},
   "source": [
    "#### Binomial coeficient\n",
    "---\n",
    "*Binomial coefficient* (or **binomial number**) of a natural number $n$ and class $k$ (where $n \\ge k$) is an algebraic way to represent the combination of these two values. The binomial coefficient can be expressed as:\n",
    "\n",
    "$$ \\large\n",
    "{n \\choose k} = \\frac{n!}{k! \\cdot (n - k)!} = \\frac{n \\cdot (n-1) \\cdot (n-2) \\ \\cdot \\ ... \\ \\cdot \\ (n-k+1)}{k!}\n",
    "$$\n",
    "\n",
    "For example, the binomial coefficient of the number **5** with class **3** is:\n",
    "\n",
    "$$ \\large\n",
    "{5 \\choose 3} = \\frac{5!}{3! \\cdot (5 - 3)!} = \\frac{5!}{3! \\cdot 2!} = \\frac{120}{6 \\cdot 2} = \\frac{120}{12} = 10\n",
    "$$"
   ]
  },
  {
   "cell_type": "code",
   "execution_count": null,
   "metadata": {},
   "outputs": [],
   "source": [
    "def binomial(n, k):\n",
    "    n_ = factorial(n)\n",
    "    k_ = factorial(k)\n",
    "    nk_ = factorial(n - k)\n",
    "    return n_//(k_*nk_)\n",
    "\n",
    "print(f'(5, 3) = {binomial(5, 3)}')"
   ]
  },
  {
   "cell_type": "markdown",
   "metadata": {},
   "source": [
    "Binomial coefficient has a complementarity rule described by:\n",
    "\n",
    "$$ \\large\n",
    "{n \\choose k} = {n \\choose n-k}\n",
    "$$\n",
    "\n",
    "In this case $k$ and $n-k$ are called as complementary terms. For example:\n",
    "\n",
    "$$ \\large\n",
    "{8 \\choose 5} = {8 \\choose 3}\n",
    "$$"
   ]
  },
  {
   "cell_type": "code",
   "execution_count": null,
   "metadata": {},
   "outputs": [],
   "source": [
    "print(f'(8, 5) = {binomial(8, 5)}')\n",
    "print(f'(8, 3) = {binomial(8, 3)}')"
   ]
  },
  {
   "cell_type": "markdown",
   "metadata": {},
   "source": [
    "## Permutation\n",
    "---\n",
    "*Permutation* of a set is the number of ways to arrange **n** distinct elements in **n** sequenced positions. This means that each way differs from the other in the way the elements are ordered. The permutation count is calculated as:\n",
    "\n",
    "$$ \\large\n",
    "P_n = n \\cdot (n-1) \\cdot (n-2) \\ \\cdot \\ ... \\ \\cdot \\ 2 \\cdot 1 = n!\n",
    "$$\n",
    "\n",
    "Notice the equation is equivalent to **factorial** of **n**.\n",
    "\n",
    "**For example**, given **3** colors {🟧, 🟩, 🟨}, in how many ways we can permute them?\n",
    "\n",
    "$$ \\large\n",
    "P(3) = 3! = 3 \\cdot 2 \\cdot 1 = 6\n",
    "$$\n",
    "\n",
    "| Permunation | Possibilities |\n",
    "| :---------: | :-----------: |\n",
    "| 1 | 🟧🟩🟨 |\n",
    "| 2 | 🟧🟨🟩 |\n",
    "| 3 | 🟩🟧🟨 |\n",
    "| 4 | 🟩🟨🟧 |\n",
    "| 5 | 🟨🟧🟩 |\n",
    "| 6 | 🟨🟩🟧 |"
   ]
  },
  {
   "cell_type": "code",
   "execution_count": null,
   "metadata": {},
   "outputs": [],
   "source": [
    "n = 3\n",
    "print(f'✨ A set of {n} distinct elements has {factorial(n)} permutations.')"
   ]
  },
  {
   "cell_type": "markdown",
   "metadata": {},
   "source": [
    "## Arrangement\n",
    "---\n",
    "Similarly to permutation, in *arrangement* the order matters, but in relation to the number of possibilities it has some considerations."
   ]
  },
  {
   "cell_type": "markdown",
   "metadata": {},
   "source": [
    "### Arrangement with repetition\n",
    "---\n",
    "The *arrangement with repetition* is used when the order of the elements matters and each element can be repeated. Considering we have a set of **n** elements and organize them in **k** positions, with the possibility of repetition, the number of arrangement is expressed as:\n",
    "\n",
    "$$ \\large\n",
    "A_n^k = n^k\n",
    "$$\n",
    "\n",
    "**For example**, given **2** colors {🟩, 🟨}, in how many ways we can arrange them in **3** positions?\n",
    "\n",
    "$$ \\large\n",
    "A(2, 3) = 2^3 = 2 \\cdot 2 \\cdot 2 = 8\n",
    "$$\n",
    "\n",
    "| Arrangement | Possibilities |\n",
    "| :---------: | :-----------: |\n",
    "| 1 | 🟩🟩🟩 |\n",
    "| 2 | 🟩🟩🟨 |\n",
    "| 3 | 🟩🟨🟩 |\n",
    "| 4 | 🟩🟨🟨 |\n",
    "| 5 | 🟨🟩🟩 |\n",
    "| 6 | 🟨🟩🟨 |\n",
    "| 7 | 🟨🟨🟩 |\n",
    "| 8 | 🟨🟨🟨 |"
   ]
  },
  {
   "cell_type": "code",
   "execution_count": null,
   "metadata": {},
   "outputs": [],
   "source": [
    "n = 2\n",
    "k = 3\n",
    "print(f'✨ A set of {n} elements and {k} positions has {n**k} arrangements.')"
   ]
  },
  {
   "cell_type": "markdown",
   "metadata": {},
   "source": [
    "### Arrangement without repetition\n",
    "---\n",
    "The *arrangement without repetition* is used when the order of the elements matters and each element *cannot* be repeated. Considering we have a set of **n** elements and organize them in **k** positions, without the possibility of repetition, the number of arrangement is expressed as:\n",
    "\n",
    "$$ \\large\n",
    "A_n^k = \\frac{n!}{(n - k)!}\n",
    "$$\n",
    "\n",
    "Notice that **n** must be grather than **k**. ($n > k$)\n",
    "\n",
    "**For example**, given **4** colors {🟧, 🟪, 🟩, 🟨}, in how many ways we can arrange them in pairs?\n",
    "\n",
    "$$ \\large\n",
    "A(4, 2) = \\frac{4!}{(4 - 2)!} = \\frac{4!}{2!} = \\frac{4 \\cdot 3 \\cdot 2!}{2!} = 4 \\cdot 3 = 12\n",
    "$$\n",
    "\n",
    "| Arrangement | Possibilities |\n",
    "| :---------: | :-----------: |\n",
    "| 1 | 🟧🟪 |\n",
    "| 2 | 🟧🟩 |\n",
    "| 3 | 🟧🟨 |\n",
    "| 4 | 🟪🟧 |\n",
    "| 5 | 🟪🟩 |\n",
    "| 6 | 🟪🟨 |\n",
    "| 7 | 🟩🟧 |\n",
    "| 8 | 🟩🟪 |\n",
    "| 9 | 🟩🟨 |\n",
    "| 10 | 🟨🟧 |\n",
    "| 11 | 🟨🟪 |\n",
    "| 12 | 🟨🟩 |"
   ]
  },
  {
   "cell_type": "code",
   "execution_count": null,
   "metadata": {},
   "outputs": [],
   "source": [
    "n = 4\n",
    "k = 2\n",
    "print(f'✨ A set of {n} colors can be arranged in {factorial(n)//factorial(n - k)} pairs.')"
   ]
  },
  {
   "cell_type": "markdown",
   "metadata": {},
   "source": [
    "## Combination\n",
    "---\n",
    "Different from permutation and arrangement, in *combination* the order **does not** matter. But in relation to the number of possibilities, there are still has some considerations."
   ]
  },
  {
   "cell_type": "markdown",
   "metadata": {},
   "source": [
    "### Combination without repetition\n",
    "---\n",
    "The *combination without repetition* (or **simple combination**) is used when the order of the elements *does not* matter and each element cannot be repeated. Considering we have a set of **n** elements and organize them in **k** positions, with the possibility of repetition, the number of combinations is expressed as:\n",
    "\n",
    "$$ \\large\n",
    "C_n^k = {n \\choose k} = \\frac{n!}{k! \\cdot (n - k)!}\n",
    "$$\n",
    "\n",
    "Notice the equation is equivalent to **binomial** of **n** and **k**.\n",
    "\n",
    "**For example**, given **4** colors {🟧, 🟪, 🟩, 🟨}, in how many ways we can combine them in **2** positions?\n",
    "\n",
    "$$ \\large\n",
    "C(4, 2) = {4 \\choose 2} = \\frac{4!}{2! \\cdot (4 - 2)!} = \\frac{4!}{2! \\cdot 2!} = \\frac{4 \\cdot 3 \\cdot 2!}{2! \\cdot 2!} = \\frac{4 \\cdot 3}{2} = 6\n",
    "$$\n",
    "\n",
    "| Combination | Possibilities |\n",
    "| :----------:| :-----------: |\n",
    "| 1 | 🟧🟪 or 🟪🟧 |\n",
    "| 2 | 🟧🟩 or 🟩🟧 |\n",
    "| 3 | 🟧🟨 or 🟨🟧 |\n",
    "| 4 | 🟪🟩 or 🟩🟪 |\n",
    "| 5 | 🟪🟨 or 🟨🟪 |\n",
    "| 6 | 🟩🟨 or 🟨🟩 |"
   ]
  },
  {
   "cell_type": "code",
   "execution_count": null,
   "metadata": {},
   "outputs": [],
   "source": [
    "n = 4\n",
    "k = 2\n",
    "print(f'✨ A set of {n} colors can be combined in {binomial(n, k)} pairs.')"
   ]
  },
  {
   "cell_type": "markdown",
   "metadata": {},
   "source": [
    "### Combination with repetition\n",
    "---\n",
    "The *combination with repetition* is used when the order of the elements *does not* matter and each element can be repeated. Considering we have a set of **n** elements and organize them in **k** positions, the number of combinations is expressed as:\n",
    "\n",
    "$$ \\large\n",
    "C_n^k = {n + k - 1 \\choose k} = \\frac{(n + k - 1)!}{k! \\cdot (n - 1)!}\n",
    "$$\n",
    "\n",
    "**For example**, given 2 colors {🟩, 🟨}, in how many ways we can combine them in 3 positions?\n",
    "\n",
    "$$ \\large\n",
    "C(2, 3) = {2 + 3 - 1 \\choose 3} = \\frac{(2 + 3 - 1)!}{3! \\cdot (2 - 1)!} = \\frac{4!}{3!} = \\frac{4 \\cdot 3!}{3!} = 4\n",
    "$$\n",
    "\n",
    "| Combination | Possibilities |\n",
    "| :---------: | :-----------: |\n",
    "| 1   | 🟨🟨🟨 |\n",
    "| 2   | 🟩🟨🟨 or 🟨🟩🟨 or 🟨🟨🟩 |\n",
    "| 3   | 🟨🟩🟩 or 🟩🟨🟩 or 🟩🟩🟨 |\n",
    "| 4   | 🟩🟩🟩 |"
   ]
  },
  {
   "cell_type": "code",
   "execution_count": null,
   "metadata": {},
   "outputs": [],
   "source": [
    "n = 2\n",
    "k = 3\n",
    "print(f'✨ A set of {n} colors and {k} positions has {binomial(n + k - 1, k)} combinations.')"
   ]
  }
 ],
 "metadata": {
  "kernelspec": {
   "display_name": "Python 3",
   "language": "python",
   "name": "python3"
  },
  "language_info": {
   "codemirror_mode": {
    "name": "ipython",
    "version": 3
   },
   "file_extension": ".py",
   "mimetype": "text/x-python",
   "name": "python",
   "nbconvert_exporter": "python",
   "pygments_lexer": "ipython3",
   "version": "3.7.10"
  }
 },
 "nbformat": 4,
 "nbformat_minor": 4
}
