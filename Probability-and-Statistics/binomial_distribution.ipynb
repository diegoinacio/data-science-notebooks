{
 "cells": [
  {
   "cell_type": "markdown",
   "metadata": {},
   "source": [
    "# Binomial Distribution\n",
    "---\n",
    "- Author: Diego Inácio\n",
    "- GitHub: [github.com/diegoinacio](https://github.com/diegoinacio)\n",
    "- Notebook: [binomial_distribution.ipynb](https://github.com/diegoinacio/data-science-notebooks/blob/master/Probability-and-Statistics/binomial_distribution.ipynb)\n",
    "---\n",
    "Brief overview about *discrete probability* and *binomial distribution*."
   ]
  },
  {
   "cell_type": "code",
   "execution_count": null,
   "metadata": {},
   "outputs": [],
   "source": [
    "%matplotlib inline\n",
    "import matplotlib\n",
    "import matplotlib.pyplot as plt\n",
    "from matplotlib.patches import Polygon\n",
    "from IPython.display import display, HTML\n",
    "\n",
    "import numpy as np\n",
    "import pandas as pd\n",
    "\n",
    "from functools import reduce"
   ]
  },
  {
   "cell_type": "code",
   "execution_count": null,
   "metadata": {},
   "outputs": [],
   "source": [
    "np.seterr(divide='ignore')\n",
    "plt.rcParams['figure.figsize'] = (16, 8)"
   ]
  },
  {
   "cell_type": "markdown",
   "metadata": {},
   "source": [
    "## Discrete  probability distribution\n",
    "---\n",
    "$$ \\large\n",
    "P(k|n)={n \\choose k}p^k (1-p)^{ n-k}=\\frac{n!}{k!(n-k)!}p^k (1-p)^{ n-k}\n",
    "$$\n",
    "where,\n",
    "- ${n \\choose k}$ is a **binomial coeficient**;\n",
    "- $k$ is the number of successes;\n",
    "- $n$ is the total number of trials;\n",
    "- $p$ is the probability."
   ]
  },
  {
   "cell_type": "code",
   "execution_count": null,
   "metadata": {},
   "outputs": [],
   "source": [
    "def fact(x):\n",
    "    if x <= 0:\n",
    "        return 1\n",
    "    else:\n",
    "        return x*fact(x - 1)\n",
    "\n",
    "def binomialDistribution(n, k, p):\n",
    "    # B = binomial coeficient\n",
    "    B = fact(n)/(fact(k)*fact(n - k))\n",
    "    return B*p**k*(1 - p)**(n - k)"
   ]
  },
  {
   "cell_type": "code",
   "execution_count": null,
   "metadata": {},
   "outputs": [],
   "source": [
    "n = 50\n",
    "bd = binomialDistribution\n",
    "plt.bar(range(n + 1), [bd(n, k, 0.15) for k in range(n + 1)], alpha=0.5, label='p=0.15')\n",
    "plt.bar(range(n + 1), [bd(n, k, 0.50) for k in range(n + 1)], alpha=0.5, label='p=0.50')\n",
    "plt.bar(range(n + 1), [bd(n, k, 0.75) for k in range(n + 1)], alpha=0.5, label='p=0.75')\n",
    "plt.xlabel('Number of successes - k')\n",
    "plt.ylabel('Probability')\n",
    "plt.legend()\n",
    "plt.show()"
   ]
  },
  {
   "cell_type": "code",
   "execution_count": null,
   "metadata": {},
   "outputs": [],
   "source": [
    "def bdTable(n, digits=3, hsteps=0.1):\n",
    "    bd = binomialDistribution\n",
    "    P = np.arange(hsteps, 1, hsteps)\n",
    "    K = range(n + 1)\n",
    "    steps = {k: ['{0:.{1}f}'.format(bd(n, k, p), digits) for p in P] for k in K}\n",
    "    df = pd.DataFrame(data=steps).T\n",
    "    d = int(np.ceil(abs(np.log10(hsteps))))\n",
    "    df.columns = ['{0:.{1}f}'.format(e, d) for e in P]\n",
    "    ztable = df.rename_axis('k x p', axis=1)\n",
    "    return ztable"
   ]
  },
  {
   "cell_type": "code",
   "execution_count": null,
   "metadata": {},
   "outputs": [],
   "source": [
    "# Display binomial distribution table\n",
    "bdtable = bdTable(10, hsteps=0.05)\n",
    "with pd.option_context(\n",
    "    'display.max_rows', None,\n",
    "    'display.max_columns', None\n",
    "):\n",
    "    display(bdtable)"
   ]
  }
 ],
 "metadata": {
  "kernelspec": {
   "display_name": "Python 3",
   "language": "python",
   "name": "python3"
  },
  "language_info": {
   "codemirror_mode": {
    "name": "ipython",
    "version": 3
   },
   "file_extension": ".py",
   "mimetype": "text/x-python",
   "name": "python",
   "nbconvert_exporter": "python",
   "pygments_lexer": "ipython3",
   "version": "3.8.8"
  }
 },
 "nbformat": 4,
 "nbformat_minor": 2
}
