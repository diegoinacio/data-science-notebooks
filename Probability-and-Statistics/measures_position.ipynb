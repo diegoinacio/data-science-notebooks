{
 "cells": [
  {
   "cell_type": "markdown",
   "metadata": {},
   "source": [
    "# Measures of Position\n",
    "---\n",
    "- Author: Diego Inácio\n",
    "- GitHub: [github.com/diegoinacio](https://github.com/diegoinacio)\n",
    "- Notebook: [measures_position.ipynb](https://github.com/diegoinacio/data-science-notebooks/blob/master/Probability-and-Statistics/measures_position.ipynb)\n",
    "---\n",
    "Overview of measures of position in sample or distributions."
   ]
  },
  {
   "cell_type": "markdown",
   "metadata": {},
   "source": [
    "In descriptive statistics, *measures of position* is an way to know where certain data point or range falls in a sample/population distribution. Most of the them are used to descriptively summarize the data as well as help them not be  sensitive to the influence of some extreme observations, known as *outliers*.\n",
    "\n",
    "![measures of position](sourceimages/measures_position_01.jpg)"
   ]
  },
  {
   "cell_type": "code",
   "execution_count": null,
   "metadata": {},
   "outputs": [],
   "source": [
    "%matplotlib inline\n",
    "import matplotlib\n",
    "import matplotlib.pyplot as plt\n",
    "import numpy as np\n",
    "import pandas as pd"
   ]
  },
  {
   "cell_type": "markdown",
   "metadata": {},
   "source": [
    "## Quantiles\n",
    "---\n",
    "[Quantiles](https://en.wikipedia.org/wiki/Quantile) are cut points dividing regular ranges of the data into contiguous intervals with equal probabilities. In this way, they give rise to *q-quantiles*, which are established from cut-off points that determine the boundaries between consecutive subsets.\n",
    "\n",
    "Some q-quantiles have special names. Some of them are:\n",
    "\n",
    "- **Median**: When it has just 2-quantiles. It is a very well known *measue of central location* and is located exactly in the middle of the data range, dividing the bottom 50% and the top 50%;\n",
    "\n",
    "- **Quartile**: When it has just 4-quantiles. It has 3 cutting points [$Q_1$, $Q_2$, $Q_3$] and divides the data into 4 regular ranges;\n",
    "\n",
    "- **Decile**: When it has just 10-quantiles. It divides the ordered data into 10 equal parts; [$D_1$, $D_2$, ..., $D_9$]\n",
    "\n",
    "- **Percentile**: When it has just 100-quantiles. Each range contains 1% of the number to the amount of ordered data. [$P_1$, $P_2$, ..., $P_{99}$]\n",
    "\n",
    "![measures of position quartiles](sourceimages/measures_position_quartiles.jpg)"
   ]
  },
  {
   "cell_type": "markdown",
   "metadata": {},
   "source": [
    "For example, given the list of 5 numbers: **5, 87, 45, 32, 1**\n",
    "\n",
    "The first step is to sort all the elements: **1, 5, 32, 45, 87**\n",
    "\n",
    "Finally, we can get the quartile points, which are:\n",
    "- $Q_1$: quantile 25%. element value is **5**;\n",
    "- $Q_2$: quantile 50% (same as median). element value is **32**;\n",
    "- $Q_3$: quantile 75%. element value is **45**;"
   ]
  },
  {
   "cell_type": "code",
   "execution_count": null,
   "metadata": {},
   "outputs": [],
   "source": [
    "numbers = pd.Series([5, 87 , 45 , 32 ,1])\n",
    "\n",
    "Q1 = numbers.quantile(0.25)\n",
    "Q3 = numbers.quantile(0.75)\n",
    "Q2 = numbers.quantile(0.50) # same as median\n",
    "\n",
    "print(f'Q1 |  First quartile is: {Q1}')\n",
    "print(f'Q2 | Second quartile is: {Q2} (same as median)')\n",
    "print(f'Q3 |  Third quartile is: {Q3}')"
   ]
  },
  {
   "cell_type": "markdown",
   "metadata": {},
   "source": [
    "Notice that we can define the quantile by defining the relative postion using percent.\n",
    "\n",
    "- $Q_1$: first quartile is quantile 25%;\n",
    "- $D_3$: third decile is quantile 30%;\n",
    "- $P_2$: second percentile is quantile 2%;"
   ]
  },
  {
   "cell_type": "code",
   "execution_count": null,
   "metadata": {},
   "outputs": [],
   "source": [
    "# Define range from 0-100\n",
    "numbers = pd.Series(np.arange(101))\n",
    "\n",
    "Q1 = numbers.quantile(0.25)\n",
    "D3 = numbers.quantile(0.30)\n",
    "P2 = numbers.quantile(0.02)\n",
    "\n",
    "print(f'Q1 |    First quartile is: {Q1}')\n",
    "print(f'D3 |      Third decile is: {D3}')\n",
    "print(f'P2 | Second percentile is: {P2}')"
   ]
  },
  {
   "cell_type": "markdown",
   "metadata": {},
   "source": [
    "## Number of set elements\n",
    "---\n",
    "In the same way as in *measures of central tendency*, the number of set elements matters here. For example, if data has odd number of elements, it is the middle element (or $\\frac{n}{2}$ th element). If data has even number of elements, it is the mean of the two center data ($\\frac{n}{2}$ th and $\\left[ \\frac{n}{2} + 1 \\right]$th).\n",
    "\n",
    "![measures of central location median](sourceimages/measures_central_location_median.jpg)\n",
    "\n",
    "However, sometimes (depending on the number of elements) the point of our measure of position is not exactly in the middle of 2 elements. Sometimes it falls closer to one than the other, so we have to interpolate those values in order to find the weighted result. Firstly, let's use a quantile value $q$, which ranges from 0 to 1.\n",
    "\n",
    "- $Q_1$ is the first quartile and $q = 0.25$;\n",
    "- $Q_3$ is the third quartile and $q = 0.75$;\n",
    "- $D_4$ is the fourth decile and $q = 0.4$;\n",
    "- $P_8$ is the eighth percentile and $q = 0.08$;\n",
    "- $q = 0$ and $q = 1$ are the **minimum** and **maximum** values, respectively.\n",
    "\n",
    "Having the quantile value, we can find the position value $p$ as:\n",
    "\n",
    "$$\n",
    "\\large p = q \\cdot (n - 1)\n",
    "$$\n",
    "\n",
    "where $n$ is the number of elements in the set. Thus:\n",
    "\n",
    "- If $p = 0.25$ the point is between the elements **0** and **1**;\n",
    "- If $p = 1.75$ the point is between the elements **1** and **2**;\n",
    "- If $p = 5.01$ the point is between the elements **5** and **6**;\n",
    "- If $p = 11.99$ the point is between the elements **11** and **12**.\n",
    "\n",
    "Considering our value $p$ falls between two elemens $a$ and $b$, the interpolated value $I$ can be:\n",
    "\n",
    "$$ \\large\n",
    "t = a - p \\quad ; \\quad I = (1 - t) \\cdot v_a + t \\cdot v_b\n",
    "$$\n",
    "\n",
    "where $v_a$ and $v_b$ are the values of the elements $a$ and $b$, respectively.\n",
    "\n",
    "---\n",
    "\n",
    "For example, given the list of **6** numbers: **5, 87, 45, 32, 1, 38**\n",
    "\n",
    "The next step is to sort all the elements: **1, 5, 32, 38, 45, 87**\n",
    "\n",
    "If we want to calculate the first quartile ($Q_1$ and $q=0.25$), the position is calculated as:\n",
    "\n",
    "$$ \\large\n",
    "\\begin{align}\n",
    "p &= q \\cdot (n - 1) \\\\\n",
    "  &= 0.25 \\cdot (6 -1) \\\\\n",
    "  &= 0.25 \\cdot 5 \\\\\n",
    "p &= 1.25\n",
    "\\end{align}\n",
    "$$\n",
    "\n",
    "Having $p = 1.25$ we already know that the point is between the elements with index **1** (a) and **2** (b), which are **5** and **32**, respectively. Thus:\n",
    "\n",
    "$$ \\large\n",
    "\\begin{align}\n",
    "t &= a - p \\\\\n",
    "  &= 1 - 1.25 \\\\\n",
    "t &= 0.25 \n",
    "\\end{align}\n",
    "$$\n",
    "\n",
    "$$ \\large\n",
    "\\begin{align}\n",
    "I &= (1 - t) \\cdot v_a + t \\cdot v_b \\\\\n",
    "  &= (1 - 0.25) \\cdot 5 + 0.25 \\cdot 32 \\\\\n",
    "  &= 0.75 \\cdot 5 + 0.25 \\cdot 32 \\\\\n",
    "  &= 3.75 + 8 \\\\\n",
    "I &= 11.75\n",
    "\\end{align}\n",
    "$$"
   ]
  },
  {
   "cell_type": "code",
   "execution_count": null,
   "metadata": {},
   "outputs": [],
   "source": [
    "numbers = pd.Series([5, 87 , 45 , 32 ,1, 38])\n",
    "\n",
    "Q1 = numbers.quantile(0.25)\n",
    "\n",
    "print(f'Q1 | First quartile is: {Q1}')"
   ]
  },
  {
   "cell_type": "markdown",
   "metadata": {},
   "source": [
    "## InterQuartile Range and Outliers\n",
    "---\n",
    "The *InterQuartile Range* (or **IQR**) tells us where the “middle fifty” is in a data set. It is basically the difference between the first and the third quartiles:\n",
    "\n",
    "$$ \\large\n",
    "IQR = Q_3 - Q_1\n",
    "$$\n",
    "\n",
    "Despite being a *measure of dispersion*, this range can provide us some useful understandings about data suche as *InterQuartile Mean* (or **IQM**). They are effective beceuse we can deal with **outliers**, which are extreme observations that can distort our analysis.\n",
    "\n",
    "$$ \\large\n",
    "IQM = \\frac{2}{n} \\sum_{i=\\frac{n}{4}+1}^{\\frac{3n}{4}} x_i\n",
    "$$"
   ]
  },
  {
   "cell_type": "code",
   "execution_count": null,
   "metadata": {},
   "outputs": [],
   "source": [
    "# Sequence with outliers\n",
    "numbers = pd.Series([1, 5, 6, 7, 8, 9, 32])\n",
    "\n",
    "Q1 = numbers.quantile(0.25)\n",
    "Q3 = numbers.quantile(0.75)\n",
    "\n",
    "IQR = (numbers\n",
    "    .where(numbers >= Q1)\n",
    "    .where(numbers <= Q3)\n",
    ").dropna()\n",
    "\n",
    "SM = numbers.mean() # Sample mean\n",
    "IQM = IQR.mean()    # InterQuartile mean\n",
    "\n",
    "print(f'SM is: {SM}')\n",
    "print(f'IQM is: {IQM}')"
   ]
  },
  {
   "cell_type": "markdown",
   "metadata": {},
   "source": [
    "## Box Plot\n",
    "---\n",
    "[Box Plot](https://en.wikipedia.org/wiki/Box_plot) is a graphical representation of our measures of position. Its anatomy shows us all the important values we cover here:\n",
    "\n",
    "![measures of position boxplot](sourceimages/measures_position_boxplot.jpg)\n",
    "\n",
    "A very important point about box plot is the **minimum** and **maximum** value. They don't represent the extreme values of the sample (or $q=0$ and $q=1$). Instead they can be calculated with whiskers:\n",
    "\n",
    "- **minimum**: $Q_1 - 1.5 \\cdot IQR$\n",
    "- **maximum**: $Q_3 + 1.5 \\cdot IQR$"
   ]
  },
  {
   "cell_type": "code",
   "execution_count": null,
   "metadata": {},
   "outputs": [],
   "source": [
    "# Random normal distribution\n",
    "np.random.seed(0)\n",
    "numbers = pd.Series(np.random.normal(0, 4, 1000))\n",
    " \n",
    "# Creating plot\n",
    "fig = plt.figure(figsize =(10, 7))\n",
    "plt.boxplot(numbers)\n",
    "plt.show()"
   ]
  }
 ],
 "metadata": {
  "kernelspec": {
   "display_name": "Python 3",
   "language": "python",
   "name": "python3"
  },
  "language_info": {
   "codemirror_mode": {
    "name": "ipython",
    "version": 3
   },
   "file_extension": ".py",
   "mimetype": "text/x-python",
   "name": "python",
   "nbconvert_exporter": "python",
   "pygments_lexer": "ipython3",
   "version": "3.7.10"
  }
 },
 "nbformat": 4,
 "nbformat_minor": 4
}
