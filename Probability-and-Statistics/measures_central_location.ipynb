{
 "cells": [
  {
   "cell_type": "markdown",
   "metadata": {},
   "source": [
    "# Measures of Central Location\n",
    "---\n",
    "- Author: Diego Inácio\n",
    "- GitHub: [github.com/diegoinacio](https://github.com/diegoinacio)\n",
    "- Notebook: [measures_central_location.ipynb](https://github.com/diegoinacio/data-science-notebooks/blob/master/Probability-and-Statistics/measures_central_location.ipynb)\n",
    "---\n",
    "Overview of location measures and central tendency of data."
   ]
  },
  {
   "cell_type": "markdown",
   "metadata": {},
   "source": [
    "*Measures of location* are a means of acquiring and describing the central tendency of a certain amount of data or distribution. The most common are *mean*, *median* and *mode*, despite these may be called as \"*average*\" (more formally, a measure of [central tendency](https://en.wikipedia.org/wiki/Central_tendency)).\n",
    "\n",
    "![measures of location](sourceimages/measures_central_location_01.jpg)"
   ]
  },
  {
   "cell_type": "code",
   "execution_count": null,
   "metadata": {},
   "outputs": [],
   "source": [
    "%matplotlib inline\n",
    "import matplotlib\n",
    "import matplotlib.pyplot as plt\n",
    "import numpy as np"
   ]
  },
  {
   "cell_type": "markdown",
   "metadata": {},
   "source": [
    "## Arithmetic Mean\n",
    "---\n",
    "The *arithmetic mean* (or simply *mean* or *average*) can be described as the sum of all measurements divided by the number of observations in the data set.\n",
    "\n",
    "$$ \\large \\displaystyle\n",
    "\\frac{1}{n} \\sum_{i=1}^{n} x_i = \\frac{x_1+x_2+\\cdots+x_n}{n}\n",
    "$$\n",
    "\n",
    "For example, given the list of 5 numbers: $5, 87, 45, 32, 1$\n",
    "\n",
    "The arithmetic mean of this observation would be:\n",
    "\n",
    "$$ \\large \\displaystyle\n",
    "\\frac{5 + 87 + 45 + 32 + 1}{5} = \\frac{170}{5} = 34\n",
    "$$"
   ]
  },
  {
   "cell_type": "code",
   "execution_count": null,
   "metadata": {},
   "outputs": [],
   "source": [
    "numbers = np.array([5, 87, 45, 32, 1])\n",
    "\n",
    "arithmetic_mean = numbers.sum()/numbers.size\n",
    "\n",
    "print(arithmetic_mean)"
   ]
  },
  {
   "cell_type": "markdown",
   "metadata": {},
   "source": [
    "## Geometric Mean\n",
    "---\n",
    "The *geometric mean* can be described the *n*th root of the product of all observations in the data set.\n",
    "\n",
    "$$ \\large \\displaystyle\n",
    "\\left(\\prod_{i=1}^{n} x_i\\right)^{\\frac{1}{n}} = \\sqrt[n]{x_1 \\cdot x_2 \\cdots x_n}\n",
    "$$\n",
    "\n",
    "This location measure is valid only for data that are measured absolutely on a *strictly positive scale* (values grather than zero).\n",
    "\n",
    "$$ \\large \\displaystyle\n",
    "\\mathbb{Z}_{>0} := \\{x  \\in \\mathbb{Z}:x > 0\\}\n",
    "$$\n",
    "\n",
    "For example, given the same list of 5 numbers: $5, 87, 45, 32, 1$\n",
    "\n",
    "The geometric mean of this observation would be:\n",
    "\n",
    "$$ \\large \\displaystyle\n",
    "\\sqrt[\\leftroot{-2}\\uproot{2}5]{5 \\cdot 87 \\cdot 45 \\cdot 32 \\cdot 1} = \\sqrt[\\leftroot{-2}\\uproot{2}5]{626400} \\approx 14.4\n",
    "$$"
   ]
  },
  {
   "cell_type": "code",
   "execution_count": null,
   "metadata": {},
   "outputs": [],
   "source": [
    "numbers = np.array([5, 87, 45, 32, 1])\n",
    "\n",
    "geometric_mean = numbers.prod()**(1/numbers.size)\n",
    "\n",
    "print(geometric_mean)"
   ]
  },
  {
   "cell_type": "markdown",
   "metadata": {},
   "source": [
    "## Harmonic Mean\n",
    "---\n",
    "The *harmonic mean* can be described  as the [reciprocal](https://en.wikipedia.org/wiki/Multiplicative_inverse) arithmetic mean of the reciprocals of the data values. In the same way as the geometric mean, this location measure is valid only for data that are measured absolutely on a strictly positive scale (values grather than zero).\n",
    "\n",
    "$$ \\large \\displaystyle\n",
    "\\frac{n}{\\sum_{i=1}^{n} \\frac{1}{x_i}} = \\frac{n}{\\frac{1}{x_1}+\\frac{1}{x_2}+\\cdots+\\frac{1}{x_n}}\n",
    "$$\n",
    "\n",
    "For example, given the same list of 5 numbers: $5, 87, 45, 32, 1$\n",
    "\n",
    "The harmonic mean of this observation would be:\n",
    "\n",
    "$$ \\large \\displaystyle\n",
    "\\frac{5}{\\frac{1}{5}+\\frac{1}{87}+\\frac{1}{45}+\\frac{1}{32}+\\frac{1}{1}} = \\frac{5}{\\frac{8352+480+928+1305+41760}{41760}} = \\frac{5}{\\frac{52825}{41760}} = \\frac{208800}{52825} \\approx 3.95\n",
    "$$"
   ]
  },
  {
   "cell_type": "code",
   "execution_count": null,
   "metadata": {},
   "outputs": [],
   "source": [
    "numbers = np.array([5, 87, 45, 32, 1])\n",
    "\n",
    "harmonic_mean = 5/np.sum(1/numbers)\n",
    "\n",
    "print(harmonic_mean)"
   ]
  },
  {
   "cell_type": "markdown",
   "metadata": {},
   "source": [
    "## Power Mean\n",
    "---\n",
    "The *power mean* is a kind of [generalized mean](https://en.wikipedia.org/wiki/Generalized_mean) that is basically an abstraction of the *quadratic*, *arithmetic*, *geometric* and *harmonic* means.\n",
    "\n",
    "$$ \\large \\displaystyle\n",
    "\\left(\\frac{1}{n} \\sum_{i=1}^{n} x_i^p\\right)^{\\frac{1}{p}} = \\sqrt[p]{\\frac{{x_1^p+x_2^p+\\cdots+x_n^p}}{n}}\n",
    "$$\n",
    "\n",
    "The expoent $\\large p$ is the parameter that allows us to change its behavior. By choosing different values for the parameter $\\large p$, the following types of means are obtained:\n",
    "\n",
    "$$ \\large \\displaystyle\n",
    "\\begin{align}\n",
    "p &\\rightarrow - \\infty & \\text{minimum value} \\\\\n",
    "p &= -1 & \\text{harmonic mean} \\\\\n",
    "p &\\rightarrow 0 & \\text{geometric mean} \\\\\n",
    "p &= +1 & \\text{arithmetic mean} \\\\\n",
    "p &\\rightarrow + \\infty & \\text{maximum value} \\\\\n",
    "\\end{align}\n",
    "$$"
   ]
  },
  {
   "cell_type": "code",
   "execution_count": null,
   "metadata": {},
   "outputs": [],
   "source": [
    "numbers = np.array([5, 87, 45, 32, 1])\n",
    "\n",
    "f = lambda p: (np.sum(numbers**p)/numbers.size)**(1/p)\n",
    "\n",
    "# minimum value (p tends to minus infinity)\n",
    "p = -150.0\n",
    "print(\"minimum value: \", f(p))\n",
    "\n",
    "# harmonic mean\n",
    "p = -1.0\n",
    "print(\"harmonic mean: \", f(p))\n",
    "\n",
    "# geometric mean (p approximates to zero)\n",
    "p = 0.00000000001\n",
    "print(\"geometric mean: \", f(p))\n",
    "\n",
    "# arithmetic mean\n",
    "p = 2.0\n",
    "print(\"arithmetic mean: \", f(p))\n",
    "\n",
    "# maximum value (p tends to infinity)\n",
    "p = 150.0\n",
    "print(\"maximum value: \", f(p))"
   ]
  },
  {
   "cell_type": "markdown",
   "metadata": {},
   "source": [
    "## Median\n",
    "---\n",
    "The *median* measure is basically the way to find the middle point of a data set, which means it divides the observations into two halves. The mothod to reach these values follows two basic steps. Firstly, arrange the values in an ascending order (or descending.. it does not make any difference in this case). And finally, gets the middle value of the data. If data has odd number of elements, it is the middle element (or $\\frac{n}{2}$th element). If data has even number of elements, it is the mean of the two center data ($\\frac{n}{2}$th and $\\left[\\frac{n}{2} + 1\\right]$th).\n",
    "\n",
    "![median](sourceimages/measures_central_location_median.jpg)\n",
    "\n",
    "For example, given the list of 5 numbers: $5, 87, 45, 32, 1$\n",
    "\n",
    "The first step is to sort all the elements: $1, 5, 32, 45, 87$\n",
    "\n",
    "Finally, get the middle element, which in this case (odd number of elements) is the value $32$."
   ]
  },
  {
   "cell_type": "code",
   "execution_count": null,
   "metadata": {},
   "outputs": [],
   "source": [
    "numbers = np.array([5, 87, 45, 32, 1])\n",
    "\n",
    "numbers_sort = np.sort(numbers)\n",
    "\n",
    "# the 3rd element has index 2\n",
    "middle = numbers_sort.size//2\n",
    "\n",
    "median = numbers_sort[middle]\n",
    "\n",
    "print(median)"
   ]
  },
  {
   "cell_type": "markdown",
   "metadata": {},
   "source": [
    "For another example, lets take a list of 6 numbers: $5, 87, 45, 32, 1, 38$\n",
    "\n",
    "The first step is to sort all the elements: $1, 5, 32, 38, 45, 87$\n",
    "\n",
    "Finally, get the center elements, which in this case (even number of elements) are $32$ ($\\frac{n}{2}$) and $38$ ($\\frac{n}{2} + 1$). Thus, the median value is $35$ ($\\frac{32 + 38}{2}$)."
   ]
  },
  {
   "cell_type": "code",
   "execution_count": null,
   "metadata": {},
   "outputs": [],
   "source": [
    "numbers = np.array([5, 87, 45, 32, 1, 38])\n",
    "\n",
    "numbers_sort = np.sort(numbers)\n",
    "\n",
    "# the 3rd and 4th elements have indices 2 and 3, respectively\n",
    "middle = numbers_sort.size//2\n",
    "median = (numbers_sort[middle - 1] + numbers_sort[middle])/2\n",
    "\n",
    "print(median)"
   ]
  },
  {
   "cell_type": "markdown",
   "metadata": {},
   "source": [
    "## Mode\n",
    "---\n",
    "The *mode* measure is the method to find the most frequent value in a data set. Any set of data can have one or more modes, which it is named as *bimodal* (2 modes) or multimodal (more than 2 modes). The mode measure is the only central tendency measure that can be used with [nominal data](https://en.wikipedia.org/wiki/Level_of_measurement#Nominal_level), which have purely qualitative category assignments.\n",
    "\n",
    "For example, given a list of elements: $4, 6, 4, 6, 8, 7, 9, 10, 6$\n",
    "\n",
    "To make to process more visually intuitive, lets firstly sort this list:  $4, 4, 6, 6, 6, 7, 8, 9, 10$\n",
    "\n",
    "And after, lets build a frequency table:\n",
    "\n",
    "| value | number of occurrences |\n",
    "| ----- | --------------------- |\n",
    "| 4     | 2                     |\n",
    "| 6     | 3                     |\n",
    "| 7     | 1                     |\n",
    "| 8     | 1                     |\n",
    "| 9     | 1                     |\n",
    "| 10    | 1                     |\n",
    "\n",
    "Given that, the mode value is $6$, which has the highest number of occurrences (3)."
   ]
  },
  {
   "cell_type": "code",
   "execution_count": null,
   "metadata": {},
   "outputs": [],
   "source": [
    "elements = [4, 6, 4, 6, 8, 7, 9, 10, 6]\n",
    "\n",
    "elements_sort = sorted(elements)\n",
    "\n",
    "occurrences = {e: elements.count(e) for e in set(elements)}\n",
    "highest_occ = max(occurrences.values())\n",
    "\n",
    "mode = [e for [e, n] in occurrences.items() if n >= highest_occ]\n",
    "\n",
    "print(\"elements: \", elements)\n",
    "print(\"sorted: \", elements_sort)\n",
    "print(\"occurrences: \", occurrences)\n",
    "print(\"mode: \", mode)"
   ]
  },
  {
   "cell_type": "markdown",
   "metadata": {},
   "source": [
    "For another example, lets take a list of nominal elements: **Brazil, Argentina, Brazil, Argentina, Chile, Argentina, Chile, Peru, Brazil, Argentina, Brazil**\n",
    "\n",
    "And after, lets build a frequency table:\n",
    "\n",
    "| value     | number of occurrences |\n",
    "| --------- | --------------------- |\n",
    "| Brazil    | 4                     |\n",
    "| Argentina | 4                     |\n",
    "| Chile     | 2                     |\n",
    "| Peru      | 1                     |\n",
    "\n",
    "Given that, the mode are **Argentina** and **Brazil**, since they have the same number of occurrences (4). In other words, this measure is *bimodal*."
   ]
  },
  {
   "cell_type": "code",
   "execution_count": null,
   "metadata": {},
   "outputs": [],
   "source": [
    "elements = [\"Brazil\", \"Argentina\", \"Brazil\", \"Argentina\", \"Chile\", \"Argentina\", \"Chile\", \"Peru\", \"Brazil\", \"Argentina\", \"Brazil\"]\n",
    "\n",
    "occurrences = {e: elements.count(e) for e in set(elements)}\n",
    "highest_occ = max(occurrences.values())\n",
    "\n",
    "mode = [e for [e, n] in occurrences.items() if n >= highest_occ]\n",
    "\n",
    "print(\"elements: \", elements)\n",
    "print(\"occurrences: \", occurrences)\n",
    "print(\"mode: \", mode)"
   ]
  }
 ],
 "metadata": {
  "kernelspec": {
   "display_name": "Python 3",
   "language": "python",
   "name": "python3"
  },
  "language_info": {
   "codemirror_mode": {
    "name": "ipython",
    "version": 3
   },
   "file_extension": ".py",
   "mimetype": "text/x-python",
   "name": "python",
   "nbconvert_exporter": "python",
   "pygments_lexer": "ipython3",
   "version": "3.8.8"
  }
 },
 "nbformat": 4,
 "nbformat_minor": 4
}
