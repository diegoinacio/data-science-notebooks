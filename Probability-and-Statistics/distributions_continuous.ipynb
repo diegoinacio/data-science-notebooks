{
 "cells": [
  {
   "cell_type": "markdown",
   "metadata": {},
   "source": [
    "# Probability Distribution - Continuous\n",
    "---\n",
    "- Author: Diego Inácio\n",
    "- GitHub: [github.com/diegoinacio](https://github.com/diegoinacio)\n",
    "- Notebook: [distributions_continuous.ipynb](https://github.com/diegoinacio/data-science-notebooks/blob/master/Probability-and-Statistics/distributions_continuous.ipynb)\n",
    "---\n",
    "Brief overview of *continuous probability distributions*."
   ]
  },
  {
   "cell_type": "code",
   "execution_count": null,
   "metadata": {},
   "outputs": [],
   "source": [
    "%matplotlib inline\n",
    "import matplotlib\n",
    "import matplotlib.pyplot as plt\n",
    "\n",
    "import numpy as np\n",
    "import pandas as pd"
   ]
  },
  {
   "cell_type": "code",
   "execution_count": null,
   "metadata": {},
   "outputs": [],
   "source": [
    "np.seterr(divide=\"ignore\", invalid=\"ignore\")\n",
    "plt.rcParams[\"figure.figsize\"] = (16, 8)"
   ]
  },
  {
   "cell_type": "markdown",
   "metadata": {},
   "source": [
    "## Introduction\n",
    "---\n",
    "A **continuous probability distribution** is the probability distribution of real number variables with uncountably many possible values. It means that a random variable $X$ has a continuous distribution probability if there is a funtion $f:\\mathbb{R} \\rightarrow [0,\\infty]$ for each interval $[a,b]\\subset\\mathbb{R}$."
   ]
  },
  {
   "cell_type": "markdown",
   "metadata": {},
   "source": [
    "### Probability density function\n",
    "---\n",
    "The **probability density funtion** (**PDF**) is a function whose value represents a relative likelihood that the value of the random variable would be close to that sample. To calculate $X$ belonging to the interval $[a,b]$:\n",
    "\n",
    "$$ \\large\n",
    "f(x) = Pr(a \\leq X \\leq b)=\\int_a^b g(x)dx\n",
    "$$"
   ]
  },
  {
   "cell_type": "markdown",
   "metadata": {},
   "source": [
    "### Cumulative distribution function\n",
    "---\n",
    "A **cumulative distribution function** (**CDF**) calculates the probability of a random observation being less than or equal a certain value. It can be expressed as:\n",
    "\n",
    "$$ \\large\n",
    "F(x)=Pr(X \\leq x)=\\int_{-\\infty}^x f(t) dt\n",
    "$$"
   ]
  },
  {
   "cell_type": "markdown",
   "metadata": {},
   "source": [
    "## Normal distribution\n",
    "---\n",
    "The **normal distribution** is one of the most used to model natural phenomena in general. It has as parameters $\\mu$ (mean or expectation) and $\\sigma$ (standard deviation) or $\\sigma^2$ (variation), and its *probability density function* can be expressed as:\n",
    "\n",
    "$$ \\large\n",
    "f(x;\\mu,\\sigma^2)=\\frac{1}{\\sqrt{2\\pi\\sigma^2}} e^{-\\frac{(x-\\mu)^2}{2\\sigma^2}}=\\frac{1}{\\sigma\\sqrt{2\\pi}} e^{-\\frac{1}{2}\\left(\\frac{x-\\mu}{\\sigma}\\right)^2}\n",
    "$$"
   ]
  },
  {
   "cell_type": "code",
   "execution_count": null,
   "metadata": {},
   "outputs": [],
   "source": [
    "def normalDistribution(x, mu, sigma):\n",
    "    norm = 1/(sigma*(2*np.pi)**0.5)\n",
    "    return norm*np.exp(-1/2*((x - mu)/(sigma))**2)"
   ]
  },
  {
   "cell_type": "code",
   "execution_count": null,
   "metadata": {},
   "outputs": [],
   "source": [
    "x = np.linspace(-10, 10, 1000)\n",
    "\n",
    "# Distribution A\n",
    "mu, sigma = 0, 1\n",
    "\n",
    "plt.plot(\n",
    "    x, normalDistribution(x, mu, sigma), \n",
    "    label=f'$\\mu={mu} \\\\quad|\\\\quad \\sigma={sigma}$'\n",
    ")\n",
    "\n",
    "# Distribution B\n",
    "mu, sigma = 5, 1\n",
    "\n",
    "plt.plot(\n",
    "    x, normalDistribution(x, mu, sigma), \n",
    "    label=f'$\\mu={mu} \\\\quad|\\\\quad \\sigma={sigma}$'\n",
    ")\n",
    "\n",
    "# Distribution C\n",
    "mu, sigma = 0, 2\n",
    "\n",
    "plt.plot(\n",
    "    x, normalDistribution(x, mu, sigma), \n",
    "    label=f'$\\mu={mu} \\\\quad|\\\\quad \\sigma={sigma}$'\n",
    ")\n",
    "\n",
    "# Visualization\n",
    "plt.xlabel(r'$x$')\n",
    "plt.ylabel(r'$f(x)$')\n",
    "plt.legend()\n",
    "plt.show()"
   ]
  },
  {
   "cell_type": "markdown",
   "metadata": {},
   "source": [
    "The *cumulative distribution function* of the gaussian distribution (also denoted with $\\Phi$) can be expressed as:\n",
    "\n",
    "$$ \\large\n",
    "\\Phi(x)=\\frac{1}{\\sqrt{2\\pi}}\\int_{-\\infty}^{x}e^{-\\frac{t^2}{2}}dx\n",
    "$$\n",
    "\n",
    "$$ \\large\n",
    "F(x;\\mu,\\sigma^2)=\\Phi\\left(\\frac{x-\\mu}{\\sigma}\\right)\n",
    "$$"
   ]
  },
  {
   "cell_type": "code",
   "execution_count": null,
   "metadata": {},
   "outputs": [],
   "source": [
    "def Phi(x):\n",
    "    t = x\n",
    "    dt = t[1] - t[0]\n",
    "    ft = np.exp(-t**2/2)\n",
    "    norm = 1/((2*np.pi)**0.5)\n",
    "    RANGE = np.arange(x.size) + 1\n",
    "    integ = np.array([ft[:x].sum() for x in RANGE])\n",
    "    return norm*integ*dt\n",
    "\n",
    "def cumulativeNormalDistribution(x, mu, sigma):\n",
    "    Phi_ = Phi((x - mu)/(sigma*2**0.5))\n",
    "    return 1/2*(1 + Phi_)"
   ]
  },
  {
   "cell_type": "code",
   "execution_count": null,
   "metadata": {},
   "outputs": [],
   "source": [
    "x = np.linspace(-10, 10, 1000)\n",
    "\n",
    "# Distribution A\n",
    "mu, sigma = 0, 1\n",
    "\n",
    "plt.plot(\n",
    "    x, cumulativeNormalDistribution(x, mu, sigma), \n",
    "    label=f'$\\mu={mu} \\\\quad|\\\\quad \\sigma={sigma}$'\n",
    ")\n",
    "\n",
    "# Distribution B\n",
    "mu, sigma = 5, 1\n",
    "\n",
    "plt.plot(\n",
    "    x, cumulativeNormalDistribution(x, mu, sigma), \n",
    "    label=f'$\\mu={mu} \\\\quad|\\\\quad \\sigma={sigma}$'\n",
    ")\n",
    "\n",
    "# Distribution C\n",
    "mu, sigma = 0, 2\n",
    "\n",
    "plt.plot(\n",
    "    x, cumulativeNormalDistribution(x, mu, sigma), \n",
    "    label=f'$\\mu={mu} \\\\quad|\\\\quad \\sigma={sigma}$'\n",
    ")\n",
    "\n",
    "# Visualization\n",
    "plt.xlabel(r'$x$')\n",
    "plt.ylabel(r'$F(x)$')\n",
    "plt.legend()\n",
    "plt.show()"
   ]
  },
  {
   "cell_type": "markdown",
   "metadata": {},
   "source": [
    "## Chi-squared distribution\n",
    "---\n",
    "A **chi-squared distribution** (or $\\chi^2$**-distribution**) with $k$ *degrees of freedom* represents the sum of squares of $k$ normally distributed random variables, and its probability density function can be expressed as:\n",
    "\n",
    "$$ \\large\n",
    "f(x;k)=\n",
    "\\begin{cases}\n",
    "  \\frac{1}{2^{\\frac{k}{2}}\\Gamma\\left(\\frac{k}{2}\\right)} x^{\\frac{k}{2} - 1} e^{-\\frac{x}{2}} &, x>0; \\\\\n",
    "  0 &, \\text{otherwise.}\n",
    "\\end{cases}\n",
    "$$\n",
    "\n",
    "where $\\Gamma$ is the [Gamma function](https://en.wikipedia.org/wiki/Gamma_function) expressed as:\n",
    "\n",
    "$$ \\large\n",
    "\\Gamma(s)=\\int_{0}^{\\infty}t^{s-1}e^{-t}dt\n",
    "$$"
   ]
  },
  {
   "cell_type": "code",
   "execution_count": null,
   "metadata": {},
   "outputs": [],
   "source": [
    "def Gamma(s, infty=100, dt=1e-4):\n",
    "    t = np.arange(0, infty, dt)\n",
    "    s_1 = s - 1 if s >= 1 else s\n",
    "    ft = t**s_1*np.exp(-t)\n",
    "    return ft.sum()*dt\n",
    "\n",
    "def chiSquaredDistribution(x, k):\n",
    "    norm = 1/(2**(k/2)*Gamma(k/2))\n",
    "    x_ = x**(k/2 - 1)\n",
    "    e_ = np.exp(-x/2)\n",
    "    return np.where(x >= 0, norm*x_*e_, 0)"
   ]
  },
  {
   "cell_type": "code",
   "execution_count": null,
   "metadata": {},
   "outputs": [],
   "source": [
    "x = np.linspace(0, 20, 1000)\n",
    "\n",
    "# Distributions at k\n",
    "for k in [2, 3, 5, 9, 15]:\n",
    "    plt.plot(\n",
    "        x, chiSquaredDistribution(x, k), \n",
    "        label=f'$k={k}$'\n",
    "    )\n",
    "\n",
    "# Visualization\n",
    "plt.xlabel(r'$x$')\n",
    "plt.ylabel(r'$f(x)$')\n",
    "plt.ylim(0, 0.5)\n",
    "plt.legend()\n",
    "plt.show()"
   ]
  },
  {
   "cell_type": "markdown",
   "metadata": {},
   "source": [
    "The *cumulative distribution function* of the chi-squared distribution can be expressed as:\n",
    "\n",
    "$$ \\large\n",
    "F(x;k)=\\frac{1}{\\Gamma\\left(\\frac{k}{2}\\right)} \\gamma\\left(\\frac{x}{2},\\frac{k}{2}\\right)\n",
    "$$\n",
    "\n",
    "where $\\gamma$ is the [lower incomplete gamma function](https://en.wikipedia.org/wiki/Incomplete_gamma_function) expressed as:\n",
    "\n",
    "$$ \\large\n",
    "\\gamma(x;s)=\\int_{0}^{x}t^{s-1}e^{-t}dt\n",
    "$$"
   ]
  },
  {
   "cell_type": "code",
   "execution_count": null,
   "metadata": {},
   "outputs": [],
   "source": [
    "def li_gamma(x, s):\n",
    "    t = x\n",
    "    dt = t[1] - t[0]\n",
    "    ft = t**(s - 1)*np.exp(-t)\n",
    "    RANGE = np.arange(x.size) + 1\n",
    "    integ = np.array([ft[:x].sum() for x in RANGE])\n",
    "    return integ*dt\n",
    "\n",
    "def cumulativeChiSquaredDistribution(x, k):\n",
    "    norm = 1/Gamma(k/2)\n",
    "    return norm*li_gamma(x/2, k/2)"
   ]
  },
  {
   "cell_type": "code",
   "execution_count": null,
   "metadata": {},
   "outputs": [],
   "source": [
    "x = np.linspace(0, 20, 1000)\n",
    "\n",
    "# Distributions at k\n",
    "for k in [2, 3, 5, 9, 15]:\n",
    "    plt.plot(\n",
    "        x, cumulativeChiSquaredDistribution(x, k), \n",
    "        label=f'$k={k}$'\n",
    "    )\n",
    "\n",
    "# Visualization\n",
    "plt.xlabel(r'$x$')\n",
    "plt.ylabel(r'$F(x)$')\n",
    "\n",
    "plt.legend()\n",
    "plt.show()"
   ]
  },
  {
   "cell_type": "markdown",
   "metadata": {},
   "source": [
    "## Student's t-distribution\n",
    "---\n",
    "The **student's t-distribution** is commonly used when the sample size is small and the populations's *standard deviation* is unknown, and its probability density function can be expressed as:\n",
    "\n",
    "$$ \\large\n",
    "f(x;v)=\\frac{\\Gamma\\left(\\frac{v+1}{2}\\right)}{\\sqrt{v\\pi}\\Gamma\\left(\\frac{v}{2}\\right)}\\left(1+\\frac{x^2}{v}\\right)^{-\\frac{v+1}{2}}\n",
    "$$\n",
    "\n",
    "where:\n",
    "- $\\Gamma$ is the gamma function;\n",
    "- parameter $v$ is the number of *degrees of freedom*."
   ]
  },
  {
   "cell_type": "code",
   "execution_count": null,
   "metadata": {},
   "outputs": [],
   "source": [
    "def studentsTDistribution(x, v):\n",
    "    norm = Gamma((v + 1)/2)/((v*np.pi)**0.5*Gamma(v/2))\n",
    "    return norm*(1 + x**2/v)**(-(v + 1)/2)"
   ]
  },
  {
   "cell_type": "code",
   "execution_count": null,
   "metadata": {},
   "outputs": [],
   "source": [
    "x = np.linspace(-5, 5, 1000)\n",
    "\n",
    "# Distributions at v\n",
    "for v in [2, 5, 20, 100]:\n",
    "    plt.plot(\n",
    "        x, studentsTDistribution(x, v), \n",
    "        label=f'$v={v}$'\n",
    "    )\n",
    "\n",
    "# Visualization\n",
    "plt.xlabel(r'$x$')\n",
    "plt.ylabel(r'$f(x)$')\n",
    "\n",
    "plt.legend()\n",
    "plt.show()"
   ]
  },
  {
   "cell_type": "markdown",
   "metadata": {},
   "source": [
    "The *cumulative distribution function* of the students's t-distribution can be expressed as:\n",
    "\n",
    "$$ \\large\n",
    "F(x;v)=\\frac{1}{2} + x\\frac{\\Gamma\\left(\\frac{v+1}{2}\\right)}{\\sqrt{v\\pi}\\Gamma\\left(\\frac{v}{2}\\right)}{}_2F_1\\left(\\frac{1}{2},\\frac{v+1}{2};\\frac{3}{2};-\\frac{x^2}{v}\\right)\n",
    "$$\n",
    "\n",
    "where ${}_2F_1$ is a particular case of the [hypergeometric function](https://en.wikipedia.org/wiki/Hypergeometric_function) defined for $|z| < 1$ by the power series:\n",
    "\n",
    "$$ \\large\n",
    "{}_2F_1(a,b;c;z)=\\sum_{n=0}^{\\infty}\\frac{a^{(n)}b^{(n)}}{c^{(n)}}\\frac{z^n}{n!}\n",
    "$$\n",
    "\n",
    "Here $x^{(n)}$ is the [rising factorial](https://en.wikipedia.org/wiki/Falling_and_rising_factorials) defined as:\n",
    "\n",
    "$$ \\large\n",
    "x^{(n)}=x(x+1)(x+2)...(x+n-1)=\\prod_{k=0}^{n-1}(x+k)\n",
    "$$"
   ]
  },
  {
   "cell_type": "code",
   "execution_count": null,
   "metadata": {},
   "outputs": [],
   "source": [
    "def factorial(n):\n",
    "    if n <= 1:\n",
    "        return 1\n",
    "    return np.prod(np.arange(n) + 1, dtype=np.float64)\n",
    "\n",
    "def risingFactorial(x, n):\n",
    "    RANGE = np.arange(n)\n",
    "    return np.prod([x + k for k in RANGE], dtype=np.float64)\n",
    "\n",
    "def hypergeometric(a, b, c, z, infty=50):\n",
    "    f = lambda n: factorial(n)\n",
    "    a_ = lambda n: risingFactorial(a, n)\n",
    "    b_ = lambda n: risingFactorial(b, n)\n",
    "    c_ = lambda n: risingFactorial(c, n)\n",
    "    RANGE = np.arange(infty)\n",
    "    ABCZN = [a_(n)*b_(n)/c_(n)*z**n/f(n) for n in RANGE]\n",
    "    _2F1 = np.sum(ABCZN, axis=0)\n",
    "    # Given the definition is only for |z| < 1\n",
    "    # and to deal with the analytic continuation problem\n",
    "    # lets use the function from scipy for a while.\n",
    "    import scipy.special as sc\n",
    "    return sc.hyp2f1(a, b, c, z)\n",
    "\n",
    "def cumulativeStudentsTDistribution(x, v):\n",
    "    norm = Gamma((v + 1)/2)/((v*np.pi)**0.5*Gamma(v/2))\n",
    "    _2F1 = hypergeometric(1/2, (v + 1)/2, 3/2, -x**2/v)\n",
    "    return 1/2 + x*norm*_2F1"
   ]
  },
  {
   "cell_type": "code",
   "execution_count": null,
   "metadata": {},
   "outputs": [],
   "source": [
    "x = np.linspace(-5, 5, 1000, dtype=np.float64)\n",
    "\n",
    "# Distributions at v\n",
    "for v in [2, 5, 20, 100]:\n",
    "    plt.plot(\n",
    "        x, cumulativeStudentsTDistribution(x, v), \n",
    "        label=f'$v={v}$'\n",
    "    )\n",
    "\n",
    "# Visualization\n",
    "plt.xlabel(r'$x$')\n",
    "plt.ylabel(r'$F(x)$')\n",
    "\n",
    "plt.legend()\n",
    "plt.show()"
   ]
  },
  {
   "cell_type": "markdown",
   "metadata": {},
   "source": [
    "## F-distribution\n",
    "---\n",
    "A **f-distribution** arises frequently as the null distribution of a test statistic, mostly in the *analysis of variance* (ANOVA) and other F-tests. Its *probability density function* for the degrees of freedom $d_1$ and $d_2$ can be expressed as:\n",
    "\n",
    "$$ \\large\n",
    "f(x;d_1,d_2)=\\frac{\\sqrt{\\frac{(d_1x)^{d_1}d_2^{d_2}}{(d_1x+d_2)^{d_1+d_2}}}}{xB\\left(\\frac{d_1}{2},\\frac{d_2}{2}\\right)}\n",
    "$$\n",
    "\n",
    "where $B$ is the [beta function](https://en.wikipedia.org/wiki/Beta_function) expressed as:\n",
    "\n",
    "$$ \\large\n",
    "B(z_1,z_2)=\\int_0^1 t^{z_1-1}(1-t)^{z_2-1}dt\n",
    "$$"
   ]
  },
  {
   "cell_type": "code",
   "execution_count": null,
   "metadata": {},
   "outputs": [],
   "source": [
    "def Beta(z1, z2, dt=1e-4):\n",
    "    z1, z2 = max(z1, 0), max(z2, 0)\n",
    "    t = np.linspace(0, 1, int(1/dt) + 1)\n",
    "    ft = t**(z1 - 1)*(1 - t)**(z2 - 1)\n",
    "    ft[~np.isfinite(ft)] = 0\n",
    "    return ft.sum()*dt\n",
    "\n",
    "def fDistribution(x, d1, d2):\n",
    "    num1 = (d1*x)**d1*d2**d2\n",
    "    den1 = (d1*x + d2)**(d1 + d2)\n",
    "    num2 = (num1/den1)**0.5\n",
    "    den2 = x*Beta(d1/2, d2/2)\n",
    "    return num2/den2"
   ]
  },
  {
   "cell_type": "code",
   "execution_count": null,
   "metadata": {},
   "outputs": [],
   "source": [
    "x = np.linspace(0, 3, 500)\n",
    "\n",
    "# Distributions at d1 and d2\n",
    "for [d1, d2] in [(1, 1), (2, 1), (5, 2), (10, 3), (100, 5)]:\n",
    "    plt.plot(\n",
    "        x, fDistribution(x, d1, d2), \n",
    "        label=f'$d_1={d1} \\quad | \\quad d_2={d2}$'\n",
    "    )\n",
    "\n",
    "# Visualization\n",
    "plt.xlabel(r'$x$')\n",
    "plt.ylabel(r'$f(x)$')\n",
    "plt.ylim([0, 2])\n",
    "\n",
    "plt.legend()\n",
    "plt.show()"
   ]
  },
  {
   "cell_type": "markdown",
   "metadata": {},
   "source": [
    "The *cumulative distribution function* of the f-distribution can be expressed as:\n",
    "\n",
    "$$ \\large\n",
    "F(x;d_1,d_2)=I_{\\frac{d_1x}{d_1x+d_2}}\\left(\\frac{d_1}{2},\\frac{d_2}{2}\\right)\n",
    "$$\n",
    "\n",
    "where $I_x$ is the [regularized incomplete beta function](https://en.wikipedia.org/wiki/Beta_function#Incomplete_beta_function) expressed as:\n",
    "\n",
    "$$ \\large\n",
    "I_x(a,b)=\\frac{B(x;a,b)}{B(a,b)}\n",
    "$$\n",
    "\n",
    "which is defined in terms of the **incomplete beta function** and the **complete beta function** (or simply **beta function**). The *incomplete beta function* is defined as:\n",
    "\n",
    "$$ \\large\n",
    "B(x;a,b)=\\int_0^{x} t^{a-1}(1-t)^{b-1}dt\n",
    "$$"
   ]
  },
  {
   "cell_type": "code",
   "execution_count": null,
   "metadata": {},
   "outputs": [],
   "source": [
    "def i_beta(x, a, b):\n",
    "    t = x\n",
    "    dt = t[1] - t[0]\n",
    "    ft = t**(a - 1)*(1 - t)**(b - 1)\n",
    "    ft[~np.isfinite(ft)] = 0\n",
    "    RANGE = np.arange(x.size) + 1\n",
    "    integ = np.array([ft[:x].sum() for x in RANGE])\n",
    "    return integ*dt\n",
    "\n",
    "def ri_beta(x, a, b):\n",
    "    Ix = i_beta(x, a, b)/Beta(a, b)\n",
    "    # For any reason, the incomplete beta ..\n",
    "    # .. function is not working as expected.\n",
    "    # Check back in the future.\n",
    "    # Lets use the function from scipy for a while.\n",
    "    import scipy.special as sc\n",
    "    return sc.betainc(a, b, x)\n",
    "\n",
    "def cumulativeFDistribution(x, d1, d2):\n",
    "    d1d2x = d1*x/(d1*x + d2)\n",
    "    return ri_beta(d1d2x, d1/2, d2/2)"
   ]
  },
  {
   "cell_type": "code",
   "execution_count": null,
   "metadata": {},
   "outputs": [],
   "source": [
    "x = np.linspace(0, 3, 500)\n",
    "\n",
    "# Distributions at d1 and d2\n",
    "for [d1, d2] in [(1, 1), (2, 1), (5, 2), (10, 3), (100, 5)]:\n",
    "    plt.plot(\n",
    "        x, cumulativeFDistribution(x, d1, d2), \n",
    "        label=f'$d_1={d1} \\quad | \\quad d_2={d2}$'\n",
    "    )\n",
    "\n",
    "# Visualization\n",
    "plt.xlabel(r'$x$')\n",
    "plt.ylabel(r'$F(x)$')\n",
    "plt.ylim([0, 1])\n",
    "\n",
    "plt.legend()\n",
    "plt.show()"
   ]
  }
 ],
 "metadata": {
  "kernelspec": {
   "display_name": "Python 3",
   "language": "python",
   "name": "python3"
  },
  "language_info": {
   "codemirror_mode": {
    "name": "ipython",
    "version": 3
   },
   "file_extension": ".py",
   "mimetype": "text/x-python",
   "name": "python",
   "nbconvert_exporter": "python",
   "pygments_lexer": "ipython3",
   "version": "3.7.10"
  }
 },
 "nbformat": 4,
 "nbformat_minor": 2
}
