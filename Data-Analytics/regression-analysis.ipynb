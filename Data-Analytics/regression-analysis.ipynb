{
 "cells": [
  {
   "cell_type": "markdown",
   "metadata": {},
   "source": [
    "# Regression Analysis\n",
    "---\n",
    "- Author: Diego Inácio\n",
    "- GitHub: [github.com/diegoinacio](https://github.com/diegoinacio)\n",
    "- Notebook: [regression-analysis.ipynb](https://github.com/diegoinacio/data-science-notebooks/blob/master/Data-Analytics/regression-analysis.ipynb)\n",
    "---\n",
    "Analysis and implementation of some of the main *Regression* models."
   ]
  },
  {
   "cell_type": "code",
   "execution_count": null,
   "metadata": {},
   "outputs": [],
   "source": [
    "%matplotlib inline\n",
    "import matplotlib\n",
    "import matplotlib.pyplot as plt\n",
    "import numpy as np\n",
    "\n",
    "from regression_analysis__utils import *"
   ]
  },
  {
   "cell_type": "markdown",
   "metadata": {},
   "source": [
    "## Linear Regression\n",
    "---"
   ]
  },
  {
   "cell_type": "code",
   "execution_count": null,
   "metadata": {},
   "outputs": [],
   "source": [
    "# Synthetic data 1\n",
    "x, yA, yB, yC, yD = synthData1()"
   ]
  },
  {
   "cell_type": "markdown",
   "metadata": {},
   "source": [
    "![linear regression correlation](output/regression_linear_correlation.png \"Linear Regression Correlation\")"
   ]
  },
  {
   "cell_type": "markdown",
   "metadata": {},
   "source": [
    "### Simple Linear Regression\n",
    "---\n",
    "$$ \\large\n",
    "    y_i=mx_i+b\n",
    "$$\n",
    "\n",
    "Where **m** describes the angular coefficient (or line slope) and **b** the linear coefficient (or line y-intersept).\n",
    "\n",
    "$$ \\large\n",
    "    m=\\frac{\\sum_i^n (x_i-\\overline{x})(y_i-\\overline{y})}{\\sum_i^n (x_i-\\overline{x})^2}\n",
    "$$\n",
    "\n",
    "$$ \\large\n",
    "    b=\\overline{y}-m\\overline{x}\n",
    "$$"
   ]
  },
  {
   "cell_type": "code",
   "execution_count": null,
   "metadata": {},
   "outputs": [],
   "source": [
    "class linearRegression_simple(object):\n",
    "    def __init__(self):\n",
    "        self._m = 0\n",
    "        self._b = 0\n",
    "    \n",
    "    def fit(self, X, y):\n",
    "        X = np.array(X)\n",
    "        y = np.array(y)\n",
    "        X_ = X.mean()\n",
    "        y_ = y.mean()\n",
    "        num = ((X - X_)*(y - y_)).sum()\n",
    "        den = ((X - X_)**2).sum()\n",
    "        self._m = num/den\n",
    "        self._b = y_ - self._m*X_\n",
    "    \n",
    "    def pred(self, x):\n",
    "        x = np.array(x)\n",
    "        return self._m*x + self._b"
   ]
  },
  {
   "cell_type": "code",
   "execution_count": null,
   "metadata": {},
   "outputs": [],
   "source": [
    "lrs = linearRegression_simple()"
   ]
  },
  {
   "cell_type": "code",
   "execution_count": null,
   "metadata": {},
   "outputs": [],
   "source": [
    "%%time\n",
    "\n",
    "lrs.fit(x, yA)\n",
    "yA_ = lrs.pred(x)\n",
    "\n",
    "lrs.fit(x, yB)\n",
    "yB_ = lrs.pred(x)\n",
    "\n",
    "lrs.fit(x, yC)\n",
    "yC_ = lrs.pred(x)\n",
    "\n",
    "lrs.fit(x, yD)\n",
    "yD_ = lrs.pred(x)"
   ]
  },
  {
   "cell_type": "markdown",
   "metadata": {},
   "source": [
    "![linear regression prediction](output/regression_linear_pred.png \"Linear Regression Prediction\")\n",
    "\n",
    "$$ \\large\n",
    "MSE=\\frac{1}{n} \\sum_i^n (Y_i- \\hat{Y}_i)^2\n",
    "$$\n",
    "\n",
    "![linear regression residuals](output/regression_linear_residual.png \"Linear Regression Residuals\")"
   ]
  },
  {
   "cell_type": "markdown",
   "metadata": {},
   "source": [
    "### Multiple Linear Regression\n",
    "---\n",
    "$$ \\large\n",
    "y=m_1x_1+m_2x_2+...+m_nx_n+b\n",
    "$$"
   ]
  },
  {
   "cell_type": "code",
   "execution_count": null,
   "metadata": {},
   "outputs": [],
   "source": [
    "class linearRegression_multiple(object):\n",
    "    def __init__(self):\n",
    "        self._m = 0\n",
    "        self._b = 0\n",
    "    \n",
    "    def fit(self, X, y):\n",
    "        X = np.array(X).T\n",
    "        y = np.array(y).reshape(-1, 1)\n",
    "        X_ = X.mean(axis = 0)\n",
    "        y_ = y.mean(axis = 0)\n",
    "        num = ((X - X_)*(y - y_)).sum(axis = 0)\n",
    "        den = ((X - X_)**2).sum(axis = 0)\n",
    "        self._m = num/den\n",
    "        self._b = y_ - (self._m*X_).sum()\n",
    "    \n",
    "    def pred(self, x):\n",
    "        x = np.array(x).T\n",
    "        return (self._m*x).sum(axis = 1) + self._b"
   ]
  },
  {
   "cell_type": "code",
   "execution_count": null,
   "metadata": {},
   "outputs": [],
   "source": [
    "lrm = linearRegression_multiple()"
   ]
  },
  {
   "cell_type": "code",
   "execution_count": null,
   "metadata": {},
   "outputs": [],
   "source": [
    "%%time \n",
    "# Synthetic data 2\n",
    "M = 10\n",
    "s, t, x1, x2, y = synthData2(M)\n",
    "\n",
    "# Prediction\n",
    "lrm.fit([x1, x2], y)\n",
    "y_ = lrm.pred([x1, x2])"
   ]
  },
  {
   "cell_type": "markdown",
   "metadata": {},
   "source": [
    "![linear regression multiple](output/regression_linear_multiple_pred.png \"Linear Regression Multiple\")\n",
    "![linear regression multiple residuals](output/regression_linear_multipla_residual.png \"Linear Regression Multiple Residuals\")"
   ]
  },
  {
   "cell_type": "markdown",
   "metadata": {},
   "source": [
    "### Gradient Descent\n",
    "---\n",
    "$$ \\large\n",
    "    e_{m,b}=\\frac{1}{n} \\sum_i^n (y_i-(mx_i+b))^2\n",
    "$$\n",
    "\n",
    "To perform the gradient descent as a function of the error, it is necessary to calculate the gradient vector $\\nabla$ of the function, described by:\n",
    "\n",
    "$$ \\large\n",
    "\\nabla e_{m,b}=\\Big\\langle\\frac{\\partial e}{\\partial m},\\frac{\\partial e}{\\partial b}\\Big\\rangle\n",
    "$$\n",
    "\n",
    "where:\n",
    "\n",
    "$$ \\large\n",
    "\\begin{aligned}\n",
    "    \\frac{\\partial e}{\\partial m}&=\\frac{2}{n} \\sum_{i}^{n}-x_i(y_i-(mx_i+b)), \\\\\n",
    "    \\frac{\\partial e}{\\partial b}&=\\frac{2}{n} \\sum_{i}^{n}-(y_i-(mx_i+b))\n",
    "\\end{aligned}\n",
    "$$"
   ]
  },
  {
   "cell_type": "code",
   "execution_count": null,
   "metadata": {},
   "outputs": [],
   "source": [
    "class linearRegression_GD(object):\n",
    "    def __init__(self,\n",
    "                 mo = 0,\n",
    "                 bo = 0,\n",
    "                 rate = 0.001):\n",
    "        self._m = mo\n",
    "        self._b = bo\n",
    "        self.rate = rate\n",
    "        \n",
    "    def fit_step(self, X, y):\n",
    "        X = np.array(X)\n",
    "        y = np.array(y)\n",
    "        n = X.size\n",
    "        dm = (2/n)*np.sum(-x*(y - (self._m*x + self._b)))\n",
    "        db = (2/n)*np.sum(-(y - (self._m*x + self._b)))\n",
    "        self._m -= dm*self.rate\n",
    "        self._b -= db*self.rate\n",
    "        \n",
    "    def pred(self, x):\n",
    "        x = np.array(x)\n",
    "        return self._m*x + self._b"
   ]
  },
  {
   "cell_type": "code",
   "execution_count": null,
   "metadata": {},
   "outputs": [],
   "source": [
    "%%time\n",
    "lrgd = linearRegression_GD(rate=0.01)\n",
    "\n",
    "# Synthetic data 3\n",
    "x, x_, y = synthData3()\n",
    "\n",
    "iterations = 3072\n",
    "for i in range(iterations):\n",
    "    lrgd.fit_step(x, y)\n",
    "y_ = lrgd.pred(x)"
   ]
  },
  {
   "cell_type": "markdown",
   "metadata": {},
   "source": [
    "![gradient descent](output/regression_linear_gradDesc.gif \"Gradient Descent\")"
   ]
  },
  {
   "cell_type": "markdown",
   "metadata": {},
   "source": [
    "## Logistic Regression\n",
    "---\n",
    "$$ \\large\n",
    "h_{\\theta}(x)=g(\\theta^Tx)=\\frac{e^{\\theta^Tx}}{1+e^{\\theta^Tx}}=\\frac{1}{1+e^{-\\theta^Tx}}\n",
    "$$\n",
    "\n",
    "where:\n",
    "\n",
    "$$ \\large\n",
    "\\theta^Tx=\n",
    "\\begin{bmatrix}\n",
    "    \\theta_0 \\\\\n",
    "    \\theta_1 \\\\\n",
    "    \\vdots \\\\\n",
    "    \\theta_i\n",
    "\\end{bmatrix}\n",
    "\\begin{bmatrix}\n",
    "    1 & x_{11} & \\cdots & x_{1i} \\\\\n",
    "    1 & x_{21} & \\cdots & x_{2i} \\\\\n",
    "    \\vdots & \\vdots & \\ddots & \\vdots \\\\\n",
    "    1 & x_{n1} & \\cdots & x_{ni}\n",
    "\\end{bmatrix}\n",
    "$$\n",
    "\n",
    "where:\n",
    "\n",
    "- $\\large h_\\theta(x)$ is the hypothesis;\n",
    "- $\\large g(z)$ is the logistic function or <em>sigmoid</em>;\n",
    "- $\\large \\theta_i$ is the parameters (or <em>weights</em>)."
   ]
  },
  {
   "cell_type": "code",
   "execution_count": null,
   "metadata": {},
   "outputs": [],
   "source": [
    "def arraycast(f):\n",
    "    '''\n",
    "    Decorator for vectors and matrices cast\n",
    "    '''\n",
    "    def wrap(self, *X, y=[]):\n",
    "        X = np.array(X)\n",
    "        X = np.insert(X.T, 0, 1, 1)\n",
    "        if list(y):\n",
    "            y = np.array(y)[np.newaxis]\n",
    "            return f(self, X, y)\n",
    "        return f(self, X)\n",
    "    return wrap\n",
    "\n",
    "class logisticRegression(object):\n",
    "    def __init__(self, rate=0.001, iters=1024):\n",
    "        self._rate = rate\n",
    "        self._iters = iters\n",
    "        self._theta = None\n",
    "    @property\n",
    "    def theta(self):\n",
    "        return self._theta\n",
    "    def _sigmoid(self, Z):\n",
    "        return 1/(1 + np.exp(-Z))\n",
    "    def _dsigmoid(self, Z):\n",
    "        return self._sigmoid(Z)*(1 - self._sigmoid(Z))\n",
    "    @arraycast\n",
    "    def fit(self, X, y=[]):\n",
    "        self._theta = np.ones((1, X.shape[-1]))\n",
    "        for i in range(self._iters):\n",
    "            thetaTx = np.dot(X, self._theta.T)\n",
    "            h = self._sigmoid(thetaTx)\n",
    "            delta = h - y.T\n",
    "            grad = np.dot(X.T, delta).T\n",
    "            self._theta -= grad*self._rate\n",
    "    @arraycast\n",
    "    def pred(self, x):\n",
    "        return self._sigmoid(np.dot(x, self._theta.T)) > 0.5"
   ]
  },
  {
   "cell_type": "code",
   "execution_count": null,
   "metadata": {},
   "outputs": [],
   "source": [
    "# Synthetic data 5\n",
    "x1, x2, y = synthData5()"
   ]
  },
  {
   "cell_type": "markdown",
   "metadata": {},
   "source": [
    "![logistic regression data](output/regression_logistic_data.png \"Logistic Regression Data\")"
   ]
  },
  {
   "cell_type": "code",
   "execution_count": null,
   "metadata": {},
   "outputs": [],
   "source": [
    "%%time\n",
    "# Training\n",
    "rlogb = logisticRegression(rate=0.001, iters=512)\n",
    "rlogb.fit(x1, x2, y=y)\n",
    "# rlogb.pred(x1, x2)"
   ]
  },
  {
   "cell_type": "markdown",
   "metadata": {},
   "source": [
    "![logistic regression training](output/regression_logistic_gradDesc.gif \"Logistic Regression Training\")"
   ]
  },
  {
   "cell_type": "markdown",
   "metadata": {},
   "source": [
    "To find the boundary line components:\n",
    "\n",
    "$$ \\large\n",
    "    \\theta_0+\\theta_1 x_1+\\theta_2 x_2=0\n",
    "$$\n",
    "\n",
    "Considering $\\large x_2$ as the dependent variable:\n",
    "\n",
    "$$ \\large\n",
    "    x_2=-\\frac{\\theta_0+\\theta_1 x_1}{\\theta_2}\n",
    "$$"
   ]
  },
  {
   "cell_type": "code",
   "execution_count": null,
   "metadata": {},
   "outputs": [],
   "source": [
    "# Prediction\n",
    "w0, w1, w2 = rlogb.theta[0]\n",
    "f = lambda x: - (w0 + w1*x)/w2"
   ]
  },
  {
   "cell_type": "markdown",
   "metadata": {},
   "source": [
    "![regressão logística prediction](output/regression_logistic_pred.png \"Logistic Regression Prediction\")"
   ]
  },
  {
   "cell_type": "markdown",
   "metadata": {},
   "source": [
    "## Polynomial Regression\n",
    "---\n",
    "Given the function:\n",
    "\n",
    "$$ \\large\n",
    "    f(x)=x^3-3x^2+x+1+\\epsilon\n",
    "$$"
   ]
  },
  {
   "cell_type": "code",
   "execution_count": null,
   "metadata": {},
   "outputs": [],
   "source": [
    "# Synthetic data 6\n",
    "x, y = synthData6()\n",
    "\n",
    "# Predicting with Linear Regression\n",
    "lrs = linearRegression_simple()\n",
    "lrs.fit(x, y)"
   ]
  },
  {
   "cell_type": "markdown",
   "metadata": {},
   "source": [
    "![polynomial data and linear regression](output/regression_polynomial_linear.png \"Polynomial data and Linear Regression\")"
   ]
  },
  {
   "cell_type": "markdown",
   "metadata": {},
   "source": [
    "### Algorithm\n",
    "---\n",
    "$$ \\large\n",
    "\\vec{y}=\\mathbf{X}\\vec{\\mathbf{\\beta}}+\\vec{\\epsilon}\n",
    "$$\n",
    "\n",
    "where $\\large \\mathbf{X}$ (or $\\large \\mathbf{V}$) is the *Vandermonde's matrix* of the independent variable, parametrised by the maximum degree $\\large m$, a response vector $\\large \\vec{y}$, a parameter vector $\\large \\vec{\\mathbf{\\beta}}$ and a random error vector $\\large \\vec{\\epsilon}$. In the form of a system of linear equations, we have:\n",
    "\n",
    "$$ \\large\n",
    "\\begin{bmatrix}\n",
    "    y_1 \\\\\n",
    "    y_2 \\\\\n",
    "    y_3 \\\\\n",
    "    \\vdots \\\\\n",
    "    y_n\n",
    "\\end{bmatrix}\n",
    "=\n",
    "\\begin{bmatrix}\n",
    "    1 & x_1 & x_1^2 &\\cdots & x_1^m \\\\\n",
    "    1 & x_2 & x_2^2 & \\cdots & x_2^m \\\\\n",
    "    1 & x_3 & x_3^2 & \\cdots & x_3^m \\\\\n",
    "    \\vdots & \\vdots & \\vdots & \\ddots & \\vdots \\\\\n",
    "    1 & x_n & x_n^2 & \\cdots & x_n^m\n",
    "\\end{bmatrix}\n",
    "\\begin{bmatrix}\n",
    "    \\beta_1 \\\\\n",
    "    \\beta_2 \\\\\n",
    "    \\beta_3 \\\\\n",
    "    \\vdots \\\\\n",
    "    \\beta_m\n",
    "\\end{bmatrix}\n",
    "+\n",
    "\\begin{bmatrix}\n",
    "    \\epsilon_1 \\\\\n",
    "    \\epsilon_2 \\\\\n",
    "    \\epsilon_3 \\\\\n",
    "    \\vdots \\\\\n",
    "    \\epsilon_n\n",
    "\\end{bmatrix}\n",
    "$$\n",
    "\n",
    "By means of the Least Squares Method, the estimated coefficient vector is given by:\n",
    "\n",
    "$$ \\large\n",
    "\\widehat{\\vec{\\mathbf{\\beta}}}=(\\mathbf{X}^T\\mathbf{X})^{-1}\\mathbf{X}^T\\vec{y}\n",
    "$$"
   ]
  },
  {
   "cell_type": "code",
   "execution_count": null,
   "metadata": {},
   "outputs": [],
   "source": [
    "def arraycast(f):\n",
    "    '''\n",
    "    Decorador para conversão de vetores e matrizes\n",
    "    '''\n",
    "    def wrap(self, X, y=[]):\n",
    "        X = np.array(X)\n",
    "        if list(y):\n",
    "            y = np.array(y)\n",
    "            return f(self, X, y)\n",
    "        return f(self, X)\n",
    "    return wrap\n",
    "\n",
    "class polynomialRegression(object):\n",
    "    def __init__(self, degree=1):\n",
    "        self._degree = degree\n",
    "        self._beta = None\n",
    "    @property\n",
    "    def beta(self):\n",
    "        return self._beta\n",
    "    @arraycast\n",
    "    def fit(self, X, y=[]):\n",
    "        V = np.stack([X**i for i in range(self._degree + 1)], axis=0).T\n",
    "        VTV = np.dot(V.T, V)\n",
    "        VTV_i = np.linalg.inv(VTV)\n",
    "        Vi = np.dot(VTV_i, V.T)\n",
    "        self._beta = np.dot(Vi, y)\n",
    "    @arraycast\n",
    "    def pred(self, x):\n",
    "        V = np.stack([x**i for i in range(self._degree + 1)], axis=0).T\n",
    "        return np.dot(V, self._beta)"
   ]
  },
  {
   "cell_type": "markdown",
   "metadata": {},
   "source": [
    "Notice that our class has an attribute called <em>degree</em> which is the maximum degree of our function $\\large f(x)$. In our example it should be $\\large m=3$."
   ]
  },
  {
   "cell_type": "code",
   "execution_count": null,
   "metadata": {},
   "outputs": [],
   "source": [
    "%%time\n",
    "polreg = polynomialRegression(3)\n",
    "polreg.fit(x, y=y)"
   ]
  },
  {
   "cell_type": "markdown",
   "metadata": {},
   "source": [
    "![polynomial regression](output/regression_polynomial_pred.png \"Polynomial Regression\")"
   ]
  }
 ],
 "metadata": {
  "kernelspec": {
   "display_name": "Python 3 (ipykernel)",
   "language": "python",
   "name": "python3"
  },
  "language_info": {
   "codemirror_mode": {
    "name": "ipython",
    "version": 3
   },
   "file_extension": ".py",
   "mimetype": "text/x-python",
   "name": "python",
   "nbconvert_exporter": "python",
   "pygments_lexer": "ipython3",
   "version": "3.10.4"
  }
 },
 "nbformat": 4,
 "nbformat_minor": 2
}
