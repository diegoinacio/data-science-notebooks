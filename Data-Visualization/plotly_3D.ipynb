{
 "cells": [
  {
   "cell_type": "markdown",
   "metadata": {},
   "source": [
    "# Plotly\n",
    "---\n",
    "- Author: Diego Inácio\n",
    "- GitHub: [github.com/diegoinacio](https://github.com/diegoinacio)\n",
    "- Notebook: [plotly_3D.ipynb](https://github.com/diegoinacio/data-science-notebooks/blob/master/Data-Visualization/plotly_3D.ipynb)\n",
    "---\n",
    "Examples of interactive 3D visualization using *Plotly*.\n",
    "\n",
    "<font color=\"#CC0000\">[<b>PT-BR<b> content]</font>"
   ]
  },
  {
   "cell_type": "code",
   "execution_count": null,
   "metadata": {
    "scrolled": false
   },
   "outputs": [],
   "source": [
    "from plotly import __version__, tools\n",
    "from plotly.offline import init_notebook_mode, iplot\n",
    "print(__version__)"
   ]
  },
  {
   "cell_type": "code",
   "execution_count": null,
   "metadata": {},
   "outputs": [],
   "source": [
    "from plotly.graph_objs import *\n",
    "init_notebook_mode(connected=True)"
   ]
  },
  {
   "cell_type": "code",
   "execution_count": null,
   "metadata": {},
   "outputs": [],
   "source": [
    "import numpy as np"
   ]
  },
  {
   "cell_type": "markdown",
   "metadata": {},
   "source": [
    "## 3D\n",
    "---\n",
    "Exemplos de visualização em 3D.\n",
    "\n",
    "- **Contorno 3D**: Visualização de superfície e contorno sobre os três eixo, representados pela equação:\n",
    "\n",
    "$$\n",
    "\\large\n",
    "z=(1 - x + yx^3 + y^5)e^{-x^2-y^2}\n",
    "$$\n",
    "\n",
    "- **Superformula 3D**: Visualização de forma complexa descrita pela equação da *Superformula*, em coordenadas polares:\n",
    "\n",
    "$$\n",
    "\\large\n",
    "r(\\varphi)=\\left(\n",
    "\\left\\lvert\n",
    "\\frac{\\cos\\left(\\frac{m\\varphi}{4}\\right)}{a}\n",
    "\\right\\rvert^{n_2}+\n",
    "\\left\\lvert\n",
    "\\frac{\\sin\\left(\\frac{m\\varphi}{4}\\right)}{b}\n",
    "\\right\\rvert^{n_3}\n",
    "\\right)^{-\\frac{1}{n_1}}\n",
    "$$\n",
    "\n",
    "Sendo **r** o raio e $\\varphi$ o ângulo. Os parâmetros **a, b, m, $n_1$, $n_2$, $n_3$** podem ser modificados, para obter diferentes formas. As coordenadas cartesianas podem ser definidas por:\n",
    "\n",
    "$$\n",
    "\\large\n",
    "\\begin{aligned}\n",
    "x &= r_1(\\phi)\\cos(\\phi)\\cdot r_2(\\theta)\\sin(\\theta) \\\\\n",
    "y &= r_1(\\phi)\\sin(\\phi)\\cdot r_2(\\theta)\\sin(\\theta) \\\\\n",
    "z &= r_2(\\theta)\\cos(\\theta)\n",
    "\\end{aligned}\n",
    "$$\n",
    "\n",
    "Sendo $\\phi$ a *altura* e $\\theta$ o *azimute*."
   ]
  },
  {
   "cell_type": "code",
   "execution_count": null,
   "metadata": {},
   "outputs": [],
   "source": [
    "# Dados para Contorno 3D\n",
    "M, N = 32j, 32j\n",
    "Y, X = np.mgrid[-3:3:N*8, -3:3:M*8]\n",
    "Z = (1 - X + Y*X**3 + Y**5)*np.exp(-X**2 - Y**2)\n",
    "\n",
    "# Dados para Superformula 3D\n",
    "N = 256j\n",
    "# Coordenada polar\n",
    "phi, theta = np.mgrid[0:2*np.pi:N, 0:np.pi:N]\n",
    "a1, b1, m1, n11, n12, n13 = 1, 1, 9, 3.4, 4.5, 5.3\n",
    "r1 = (np.absolute(np.cos(m1*phi/4)/a1)**n12 + np.absolute(np.sin(m1*phi/4)/b1)**n13)**(-1/n11)\n",
    "a2, b2, m2, n21, n22, n23 = 1, 1, 24, 2, 4, 2\n",
    "r2 = (np.absolute(np.cos(m2*theta/4)/a2)**n22 + np.absolute(np.sin(m2*theta/4)/b2)**n23)**(-1/n21)\n",
    "# Coordenada cartesiana\n",
    "x = r1*np.cos(phi)*r2*np.sin(theta)\n",
    "y = r1*np.sin(phi)*r2*np.sin(theta)\n",
    "z = r2*np.cos(theta)"
   ]
  }
 ],
 "metadata": {
  "kernelspec": {
   "display_name": "Python 3",
   "language": "python",
   "name": "python3"
  },
  "language_info": {
   "codemirror_mode": {
    "name": "ipython",
    "version": 3
   },
   "file_extension": ".py",
   "mimetype": "text/x-python",
   "name": "python",
   "nbconvert_exporter": "python",
   "pygments_lexer": "ipython3",
   "version": "3.7.10"
  }
 },
 "nbformat": 4,
 "nbformat_minor": 2
}
