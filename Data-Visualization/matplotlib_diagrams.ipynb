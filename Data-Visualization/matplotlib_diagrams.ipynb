{
 "cells": [
  {
   "cell_type": "markdown",
   "metadata": {},
   "source": [
    "# Matplotlib Diagrams\n",
    "---\n",
    "- Author: Diego Inácio\n",
    "- GitHub: [github.com/diegoinacio](https://github.com/diegoinacio)\n",
    "- Notebook: [matplotlib_diagrams.ipynb](https://github.com/diegoinacio/data-science-notebooks/blob/master/Data-Visualization/matplotlib_diagrams.ipynb)\n",
    "---\n",
    "Examples of diagram visualization using *Matplotlib*.\n",
    "\n",
    "<font color=\"red\">[<strong>PT-BR</strong> content]</font>"
   ]
  },
  {
   "cell_type": "code",
   "execution_count": null,
   "metadata": {},
   "outputs": [],
   "source": [
    "%matplotlib inline\n",
    "import matplotlib.pyplot as plt\n",
    "from matplotlib import cm\n",
    "import numpy as np"
   ]
  },
  {
   "cell_type": "code",
   "execution_count": null,
   "metadata": {},
   "outputs": [],
   "source": [
    "plt.rcParams['figure.figsize'] = (16, 8)"
   ]
  },
  {
   "cell_type": "markdown",
   "metadata": {},
   "source": [
    "## Diagramas\n",
    "---\n",
    "Exemplos de diagramas separados por tipos e utilizando dados criados aleatoriamente."
   ]
  },
  {
   "cell_type": "markdown",
   "metadata": {},
   "source": [
    "### Rede\n",
    "---\n",
    "- **Descentralizado** [*decentralized network*]: Visualização de diagrama de rede descentralizada.\n",
    "- **Distribuído** [*distributed network*]: Visualização de diagrama de rede distribuída, desenvolvida por meio do método de triangulação de *Delaunay*."
   ]
  },
  {
   "cell_type": "code",
   "execution_count": null,
   "metadata": {},
   "outputs": [],
   "source": [
    "pn, cn = 64, 8\n",
    "px = np.random.normal(0, 1, pn)\n",
    "py = np.random.normal(0, 1, pn)\n",
    "cx = np.random.normal(0, 1, cn)\n",
    "cx = np.insert(cx, 0, 0)\n",
    "cy = np.random.normal(0, 1, cn)\n",
    "cy = np.insert(cy, 0, 0)\n",
    "angulo = (np.arctan2(py, px) + np.pi)/(2*np.pi)"
   ]
  },
  {
   "cell_type": "code",
   "execution_count": null,
   "metadata": {},
   "outputs": [],
   "source": [
    "# Parâmetros de visualização\n",
    "import matplotlib.tri as tri\n",
    "distrib = tri.Triangulation(np.concatenate([px, cx]),\n",
    "                            np.concatenate([py, cy]))\n",
    "cmapRede = cm.get_cmap('hsv')"
   ]
  },
  {
   "cell_type": "code",
   "execution_count": null,
   "metadata": {},
   "outputs": [],
   "source": [
    "%%time\n",
    "fig, (axA, axB) = plt.subplots(1, 2)\n",
    "\n",
    "# Descentralizado\n",
    "for s, t in zip(px, py):\n",
    "    dist = ((s - cx)**2 + (t - cy)**2)**0.5\n",
    "    csel = dist <= dist.min()\n",
    "    for u, v in zip(cx[csel], cy[csel]):\n",
    "        axA.plot([s, u], [t, v], color='black', alpha=0.5,\n",
    "                 linewidth=1, zorder=1)\n",
    "\n",
    "for u, v in zip(cx, cy):\n",
    "    if u or v:\n",
    "        axA.plot([u, 0], [v, 0], color='black', alpha=0.25,\n",
    "                 linewidth=2, zorder=1)\n",
    "\n",
    "axA.scatter(px, py, c=cmapRede(angulo), zorder=2)\n",
    "axA.scatter(cx, cy, color='black', s=64, zorder=2)\n",
    "axA.set_title('Descentralizado')\n",
    "\n",
    "# Distribuído\n",
    "axB.triplot(distrib, color='black', alpha=0.5, linewidth=1, zorder=1)\n",
    "axB.scatter(px, py, c=cmapRede(angulo), zorder=2)\n",
    "axB.scatter(cx, cy, color='black', s=64, zorder=2)\n",
    "axB.set_title('Distribuído')\n",
    "plt.show()"
   ]
  },
  {
   "cell_type": "markdown",
   "metadata": {},
   "source": [
    "### Fluxo\n",
    "---\n",
    "- **Fluxo Horizontal** [*flow chart*]: Visualização de diagrama de fluxo horizontal."
   ]
  },
  {
   "cell_type": "code",
   "execution_count": null,
   "metadata": {},
   "outputs": [],
   "source": [
    "# Dados para fluxo\n",
    "colecao = np.array(list('αβγδε'))\n",
    "n = len(colecao)\n",
    "indices = np.arange(n)\n",
    "sel = lambda x: np.random.choice(x, 16)\n",
    "mapa = np.array([sel(np.delete(indices, i)) for i in indices])\n",
    "rede = colecao[mapa]"
   ]
  },
  {
   "cell_type": "code",
   "execution_count": null,
   "metadata": {},
   "outputs": [],
   "source": [
    "# Parâmetros de visualização\n",
    "from matplotlib.path import Path\n",
    "import matplotlib.patches as patches\n",
    "pontos = [Path.MOVETO, Path.CURVE4, Path.CURVE4, Path.CURVE4]\n",
    "paleta = cm.get_cmap('gist_rainbow')"
   ]
  },
  {
   "cell_type": "code",
   "execution_count": null,
   "metadata": {},
   "outputs": [],
   "source": [
    "%%time\n",
    "fig, axA = plt.subplots(1, 1)\n",
    "\n",
    "# Fluxo horizontal\n",
    "getPy = lambda x: (1 - x/n) - 0.1\n",
    "for i, e in enumerate(colecao):\n",
    "    conx, cont = np.unique(rede[i], return_counts=True)\n",
    "    yo = getPy(i)\n",
    "    *cor, _ = paleta(i/n)\n",
    "    axA.text(-0.01, yo, e, ha='right', color=cor,\n",
    "             fontsize=16, fontweight='bold')\n",
    "    axA.text(1.01, yo, e, ha='left', color=cor,\n",
    "             fontsize=16, fontweight='bold')\n",
    "    for cx, ct in zip(conx, cont):\n",
    "        yi = getPy(np.where(colecao == cx)[0])\n",
    "        verts = [(0.0, yo), (0.5, yo), (0.5, yi), (1, yi)]\n",
    "        path = Path(verts, pontos)\n",
    "        patch = patches.PathPatch(path, facecolor='none', edgecolor=cor,\n",
    "                                  lw=ct**2, alpha=1/ct)\n",
    "        axA.add_patch(patch)\n",
    "\n",
    "axA.set_title('Fluxo Horizontal')\n",
    "axA.axis('off')\n",
    "\n",
    "plt.show()"
   ]
  },
  {
   "cell_type": "markdown",
   "metadata": {},
   "source": [
    "### Arco\n",
    "---\n",
    "- **Arco** [*arc diagram*]: Visualização de diagrama de arco.\n",
    "- **Convergência radial** [*radial convergence*]: Visualização de diagrama de convergência radial ou diagrama de corda."
   ]
  },
  {
   "cell_type": "code",
   "execution_count": null,
   "metadata": {},
   "outputs": [],
   "source": [
    "# Dados para arco\n",
    "n = 17\n",
    "indices = np.arange(n)\n",
    "sel = lambda x: np.random.choice(x, n//4)\n",
    "mapa = np.array([sel(np.delete(indices, i)) for i in indices])\n",
    "rede = indices[mapa]"
   ]
  },
  {
   "cell_type": "code",
   "execution_count": null,
   "metadata": {},
   "outputs": [],
   "source": [
    "# Parâmetros de visualização\n",
    "cmapArco = cm.get_cmap('rainbow')"
   ]
  },
  {
   "cell_type": "code",
   "execution_count": null,
   "metadata": {},
   "outputs": [],
   "source": [
    "%%time\n",
    "fig, (axA, axB) = plt.subplots(1, 2)\n",
    "\n",
    "# Arco\n",
    "getPx = lambda x: x/(n - 1)\n",
    "for i, e in enumerate(indices):\n",
    "    conx, cont = np.unique(rede[i], return_counts=True)\n",
    "    xo = getPx(i)\n",
    "    *cor, _ = cmapArco(i/n)\n",
    "    for cx, ct in zip(conx, cont):\n",
    "        xi = getPx(np.where(indices == cx)[0])\n",
    "        yoi= (xi - xo)*2**0.5\n",
    "        verts = [(xo, 0), (xo, yoi), (xi, yoi), (xi, 0)]\n",
    "        path = Path(verts, pontos)\n",
    "        patch = patches.PathPatch(path, facecolor='none', edgecolor=cor,\n",
    "                                  lw=0.5*ct**3, alpha=1/ct)\n",
    "        axA.add_patch(patch)\n",
    "\n",
    "axA.scatter(indices/(n - 1), indices*0, color=cmapArco(indices/n),\n",
    "            marker='s', s=256, zorder=2)\n",
    "axA.set_title('Arco')\n",
    "axA.set_xlim([-0.05, 1.05])\n",
    "axA.set_ylim([-1.2, 1.2])\n",
    "axA.axis('off')\n",
    "\n",
    "# Convergência radial\n",
    "getTheta = lambda x: 2*np.pi*x/n\n",
    "for i, e in enumerate(indices):\n",
    "    conx, cont = np.unique(rede[i], return_counts=True)\n",
    "    thetao = getTheta(i)\n",
    "    xo = np.sin(thetao)\n",
    "    yo = np.cos(thetao)\n",
    "    *cor, _ = cmapArco(i/n)\n",
    "    for cx, ct in zip(conx, cont):\n",
    "        thetai = getTheta(np.where(indices == cx)[0])\n",
    "        xi = np.sin(thetai)\n",
    "        yi = np.cos(thetai)\n",
    "        xm = (xo + xi)*0.5\n",
    "        ym = (yo + yi)*0.5\n",
    "        verts = [(xo, yo), ((xo + xm*0.25)*0.5, (yo + ym*0.25)*0.5),\n",
    "                 ((xi + xm*0.25)*0.5, (yi + ym*0.25)*0.5), (xi, yi)]\n",
    "        path = Path(verts, pontos)\n",
    "        patch = patches.PathPatch(path, facecolor='none', edgecolor=cor,\n",
    "                                  lw=ct**3, alpha=1/ct)\n",
    "        axB.add_patch(patch)\n",
    "\n",
    "axB.scatter(np.sin(getTheta(indices)), np.cos(getTheta(indices)),\n",
    "            color=cmapArco(indices/n), s=512, zorder=2)\n",
    "axB.set_title('Convergência radial')\n",
    "axB.set_xlim([-1.2, 1.2])\n",
    "axB.set_ylim([-1.2, 1.2])\n",
    "axB.axis('off')\n",
    "\n",
    "plt.show()"
   ]
  }
 ],
 "metadata": {
  "kernelspec": {
   "display_name": "Python 3",
   "language": "python",
   "name": "python3"
  },
  "language_info": {
   "codemirror_mode": {
    "name": "ipython",
    "version": 3
   },
   "file_extension": ".py",
   "mimetype": "text/x-python",
   "name": "python",
   "nbconvert_exporter": "python",
   "pygments_lexer": "ipython3",
   "version": "3.7.10"
  }
 },
 "nbformat": 4,
 "nbformat_minor": 2
}
