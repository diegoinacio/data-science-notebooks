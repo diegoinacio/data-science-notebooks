{
 "cells": [
  {
   "cell_type": "markdown",
   "metadata": {},
   "source": [
    "# Matplotlib Figures\n",
    "---\n",
    "- Author: Diego Inácio\n",
    "- GitHub: [github.com/diegoinacio](https://github.com/diegoinacio)\n",
    "- Notebook: [matplotlib_figures.ipynb](https://github.com/diegoinacio/data-science-notebooks/blob/master/Data-Visualization/matplotlib_figures.ipynb)\n",
    "---\n",
    "Examples of figure visualization using *Matplotlib*.\n",
    "\n",
    "<font color=\"#CC0000\">[<b>PT-BR<b> content]</font>"
   ]
  },
  {
   "cell_type": "code",
   "execution_count": null,
   "metadata": {},
   "outputs": [],
   "source": [
    "%matplotlib inline\n",
    "import matplotlib.pyplot as plt\n",
    "from matplotlib import cm\n",
    "import numpy as np"
   ]
  },
  {
   "cell_type": "code",
   "execution_count": null,
   "metadata": {},
   "outputs": [],
   "source": [
    "plt.rcParams['figure.figsize'] = (16, 8)"
   ]
  },
  {
   "cell_type": "markdown",
   "metadata": {},
   "source": [
    "## Figuras\n",
    "---\n",
    "Exemplos de figuras ou mapas de valores escalares."
   ]
  },
  {
   "cell_type": "markdown",
   "metadata": {},
   "source": [
    "### Imagem\n",
    "---\n",
    "- **Imagem**: Visualização de imagem de uma tomografia computadorizada.\n",
    "- **Filtragem passa-faixa**: Visualização de filtragem no domínio de frequência\n",
    "\n",
    "$$\n",
    "\\large\n",
    "G(n_1, n_2)=F(n_1, n_2)H(r)\n",
    "$$\n",
    "\n",
    "Sendo $F(n_1,n_2)$ a imagem entrada no domínio de frequência, com espectro centralizado e H(r) o filtro gaussiano de base radial, definido por:\n",
    "\n",
    "$$\n",
    "\\large\n",
    "H(r)=e^{-0.5\\left(\\frac{r-\\mu}{\\sigma}\\right)^2}\n",
    "$$"
   ]
  },
  {
   "cell_type": "code",
   "execution_count": null,
   "metadata": {},
   "outputs": [],
   "source": [
    "# Dados para imagem\n",
    "imagem = plt.imread('../_data/tomografia.png')\n",
    "N1, N2 = imagem.shape"
   ]
  },
  {
   "cell_type": "code",
   "execution_count": null,
   "metadata": {},
   "outputs": [],
   "source": [
    "# Dados para Filtragem\n",
    "n1, n2 = np.mgrid[0:1:complex(N1), 0:1:complex(N2)]\n",
    "radial = 2*((n1 - 0.5)**2 + (n2 - 0.5)**2)**0.5\n",
    "# Filtro gaussiano\n",
    "mu = 0.25\n",
    "sigma = 0.1\n",
    "filtro = np.exp(-0.5*((radial - mu)/sigma)**2)\n",
    "# Filtragem\n",
    "espectro = np.fft.fft2(imagem)\n",
    "espectro = np.fft.fftshift(espectro)\n",
    "espectro *= filtro\n",
    "espectro = np.fft.ifftshift(espectro)\n",
    "resultado = np.fft.ifft2(espectro).real\n",
    "resultado = np.log10(1 + np.abs(resultado))\n",
    "resultado *= (1 - imagem)"
   ]
  },
  {
   "cell_type": "code",
   "execution_count": null,
   "metadata": {},
   "outputs": [],
   "source": [
    "%%time\n",
    "fig, (axA, axB) = plt.subplots(1, 2)\n",
    "\n",
    "# Imagem\n",
    "axA.imshow(imagem, cmap='gray')\n",
    "axA.set_title('Imagem')\n",
    "axA.set_xticks([])\n",
    "axA.set_yticks([])\n",
    "\n",
    "# Filtragem passa-faixa\n",
    "axB.imshow(resultado, cmap='gray')\n",
    "axB.set_title('Filtragem passa-faixa')\n",
    "axB.set_xticks([])\n",
    "axB.set_yticks([])\n",
    "plt.show()"
   ]
  },
  {
   "cell_type": "markdown",
   "metadata": {},
   "source": [
    "### Campo vetorial e Contorno\n",
    "---\n",
    "- **Contorno** [*contour plot*]: Visualização de contorno sobre a superfície de um campo escalar, representados pela equação:\n",
    "\n",
    "$$\n",
    "\\large z=(1 - x + yx^3 + y^5)e^{-x^2-y^2}\n",
    "$$\n",
    "\n",
    "- **Campo vetorial** [*quiver plot*]: Visualização do compo vetorial decomposto em coordenadas retangulares pelo operador gradiente em **z**:\n",
    "\n",
    "$$\n",
    "\\large\n",
    "\\nabla z=\\left(\\frac{\\partial z}{\\partial x},\\frac{\\partial z}{\\partial y}\\right)\n",
    "=\n",
    "\\frac{\\partial z}{\\partial x}i+\\frac{\\partial z}{\\partial y}j\n",
    "$$\n",
    "\n",
    "de tal forma que:\n",
    "\n",
    "$$\n",
    "\\large\n",
    "\\begin{aligned}\n",
    "\\frac{\\partial z}{\\partial x} &= (-1+3yx^2)e^{-x^2-y^2}-2x(1 - x + yx^3 + y^5)e^{-x^2-y^2} \\\\\n",
    "\\frac{\\partial z}{\\partial y} &= (x^3+5y^4)e^{-x^2-y^2}-2y(1 - x + yx^3 + y^5)e^{-x^2-y^2}\n",
    "\\end{aligned}\n",
    "$$"
   ]
  },
  {
   "cell_type": "code",
   "execution_count": null,
   "metadata": {},
   "outputs": [],
   "source": [
    "M, N = 32j, 32j\n",
    "Y, X = np.mgrid[-3:3:N*8, -3:3:M*8]\n",
    "Z = (1 - X + Y*X**3 + Y**5)*np.exp(-X**2 - Y**2)"
   ]
  },
  {
   "cell_type": "code",
   "execution_count": null,
   "metadata": {},
   "outputs": [],
   "source": [
    "# Dados para campo vetorial\n",
    "y, x = np.mgrid[-3:3:N, -3:3:M]\n",
    "f = (1 - x + y*x**3 + y**5)\n",
    "g = np.exp(-x**2 - y**2)\n",
    "dzdx = (-1 + 3*y*x**2)*g - 2*x*f*g\n",
    "dzdy = (x**3 + 5*y**4)*g - 2*y*f*g\n",
    "norma = (dzdx**2 + dzdy**2)**0.5\n",
    "dzdxn = dzdx/norma\n",
    "dzdyn = dzdy/norma"
   ]
  },
  {
   "cell_type": "code",
   "execution_count": null,
   "metadata": {},
   "outputs": [],
   "source": [
    "%%time\n",
    "fig, (axA, axB) = plt.subplots(1, 2)\n",
    "\n",
    "# Controno\n",
    "axA.pcolormesh(X, Y, Z, cmap='jet')\n",
    "cont = axA.contour(X, Y, Z, 16, cmap='gray')\n",
    "axA.clabel(cont, inline=True)\n",
    "axA.set_title('Contorno')\n",
    "\n",
    "# Campo vetorial\n",
    "mesh = axB.pcolormesh(X, Y, Z, cmap='jet')\n",
    "axB.quiver(x, y, dzdxn, dzdyn, scale=36)\n",
    "axB.set_title('Campo vetorial')\n",
    "\n",
    "cbar_ax = fig.add_axes([0.125, 0.025, 0.775, 0.05])\n",
    "fig.colorbar(mesh, cax=cbar_ax, orientation='horizontal')\n",
    "\n",
    "plt.show()"
   ]
  },
  {
   "cell_type": "markdown",
   "metadata": {},
   "source": [
    "### Geográfico\n",
    "---\n",
    "Dados no formato *shapefile* retirados no site da [GADM](http://www.gadm.org/).\n",
    "- **Estado**: Visualização geográfica do país *Brasil*, com destaque no estado do *Pará*.\n",
    "- **Cidade**: Visualização geográfica do estado *Pará*, com destaque na cidade de *Tucuruí*."
   ]
  },
  {
   "cell_type": "code",
   "execution_count": null,
   "metadata": {},
   "outputs": [],
   "source": [
    "# Dados Geográficos\n",
    "import shapefile\n",
    "# estados\n",
    "sf_estados = shapefile.Reader('../_data/Brazil-Map-Shapefile/BRA_adm1')\n",
    "shapes_estados = sf_estados.shapes()\n",
    "records_estados = sf_estados.records()\n",
    "n_estados = len(records_estados)\n",
    "# cidades\n",
    "sf_cidades = shapefile.Reader('../_data/Brazil-Map-Shapefile/BRA_adm2')\n",
    "shapes_cidades = sf_cidades.shapes()\n",
    "records_cidades = sf_cidades.records()\n",
    "sc_pa, rc_pa = zip(*[[s, r] for s, r in zip(shapes_cidades, records_cidades) if 'Pará' in r])\n",
    "n_cidades_pa = len(rc_pa)"
   ]
  },
  {
   "cell_type": "code",
   "execution_count": null,
   "metadata": {},
   "outputs": [],
   "source": [
    "# Parâmetros de visualização\n",
    "from mpl_toolkits.basemap import Basemap\n",
    "from matplotlib.collections import LineCollection\n",
    "import matplotlib.patches as mpatches\n",
    "cmapGeoEst = cm.get_cmap('summer')\n",
    "cmapGeoCid = cm.get_cmap('cool')"
   ]
  },
  {
   "cell_type": "code",
   "execution_count": null,
   "metadata": {},
   "outputs": [],
   "source": [
    "%%time\n",
    "fig, (axA, axB) = plt.subplots(1, 2)\n",
    "\n",
    "# Brasil\n",
    "mapaA = Basemap(llcrnrlon=-74.5, llcrnrlat=-34, urcrnrlon=-34.5, urcrnrlat=6,\n",
    "               resolution='i')\n",
    "mapaA.ax = axA\n",
    "axA.set_title('Estado')\n",
    "mapaA.fillcontinents(color='0.95')\n",
    "for i, (shape, record) in enumerate(zip(shapes_estados, records_estados)):\n",
    "    UF = record[5].split('.')[-1]\n",
    "    lons, lats = np.array(shape.points).T\n",
    "    dados = np.array(mapaA(lons, lats)).T\n",
    "    partes = np.split(dados, shape.parts)\n",
    "    linhas = LineCollection(partes, antialiaseds=(1,))\n",
    "    linhas.set_edgecolors('black')\n",
    "    if UF == 'PA':\n",
    "        linhas.set_facecolors('#ff0088')\n",
    "    else:\n",
    "        linhas.set_facecolors(cmapGeoEst(i/n_estados))\n",
    "        linhas.set_alpha(0.5)\n",
    "    linhas.set_linewidth(0.25)\n",
    "    axA.add_collection(linhas)\n",
    "mapaA.readshapefile('../_data/Brazil-Map-Shapefile/BRA_adm0', 'pais', color='0.75', zorder=3)\n",
    "estado_patch = mpatches.Patch(color='#ff0088', label='Pará')\n",
    "axA.legend(handles=[estado_patch])\n",
    "\n",
    "# Pará\n",
    "mapaB = Basemap(llcrnrlon=-59.5, llcrnrlat=-10.5, urcrnrlon=-45.5, urcrnrlat=3.5,\n",
    "               resolution='i')\n",
    "mapaB.ax = axB\n",
    "axB.set_title('Cidade')\n",
    "mapaB.fillcontinents(color='0.95')\n",
    "for i, (shape, record) in enumerate(zip(sc_pa, rc_pa)):\n",
    "    estado, cidade = record[4], record[6]\n",
    "    lons, lats = np.array(shape.points).T\n",
    "    dados = np.array(mapaA(lons, lats)).T\n",
    "    partes = np.split(dados, shape.parts)\n",
    "    linhas = LineCollection(partes, antialiaseds=(1,))\n",
    "    linhas.set_edgecolors('black')\n",
    "    if cidade == 'Tucuruí':\n",
    "        linhas.set_facecolors('#ffdd00')\n",
    "    else:\n",
    "        linhas.set_facecolors(cmapGeoCid(i/n_cidades_pa))\n",
    "        linhas.set_alpha(0.5)\n",
    "    linhas.set_linewidth(0.25)\n",
    "    axB.add_collection(linhas)\n",
    "mapaB.readshapefile('../_data/Brazil-Map-Shapefile/BRA_adm1', 'estados', color='0.75', zorder=3)\n",
    "cidade_patch = mpatches.Patch(color='#ffdd00', label='Tucuruí')\n",
    "axB.legend(handles=[cidade_patch])\n",
    "\n",
    "plt.show()"
   ]
  }
 ],
 "metadata": {
  "kernelspec": {
   "display_name": "Python 3",
   "language": "python",
   "name": "python3"
  },
  "language_info": {
   "codemirror_mode": {
    "name": "ipython",
    "version": 3
   },
   "file_extension": ".py",
   "mimetype": "text/x-python",
   "name": "python",
   "nbconvert_exporter": "python",
   "pygments_lexer": "ipython3",
   "version": "3.8.8"
  }
 },
 "nbformat": 4,
 "nbformat_minor": 2
}
