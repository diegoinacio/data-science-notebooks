{
 "cells": [
  {
   "cell_type": "markdown",
   "metadata": {},
   "source": [
    "# Plotly Figures\n",
    "---\n",
    "- Author: Diego Inácio\n",
    "- GitHub: [github.com/diegoinacio](https://github.com/diegoinacio)\n",
    "- Notebook: [plotly_figures.ipynb](https://github.com/diegoinacio/data-science-notebooks/blob/master/Data-Visualization/plotly_figures.ipynb)\n",
    "---\n",
    "Examples of interactive figure visualization using *Plotly*.\n",
    "\n",
    "<font color=\"#CC0000\">[<b>PT-BR<b> content]</font>"
   ]
  },
  {
   "cell_type": "code",
   "execution_count": 1,
   "metadata": {
    "scrolled": false
   },
   "outputs": [
    {
     "name": "stdout",
     "output_type": "stream",
     "text": [
      "3.7.0\n"
     ]
    }
   ],
   "source": [
    "from plotly import __version__, tools\n",
    "from plotly.offline import init_notebook_mode, iplot\n",
    "print(__version__)"
   ]
  },
  {
   "cell_type": "code",
   "execution_count": 2,
   "metadata": {},
   "outputs": [
    {
     "data": {
      "text/html": [
       "<script type=\"text/javascript\">window.PlotlyConfig = {MathJaxConfig: 'local'};</script><script type=\"text/javascript\">if (window.MathJax) {MathJax.Hub.Config({SVG: {font: \"STIX-Web\"}});}</script><script>requirejs.config({paths: { 'plotly': ['https://cdn.plot.ly/plotly-latest.min']},});if(!window._Plotly) {require(['plotly'],function(plotly) {window._Plotly=plotly;});}</script>"
      ],
      "text/vnd.plotly.v1+html": [
       "<script type=\"text/javascript\">window.PlotlyConfig = {MathJaxConfig: 'local'};</script><script type=\"text/javascript\">if (window.MathJax) {MathJax.Hub.Config({SVG: {font: \"STIX-Web\"}});}</script><script>requirejs.config({paths: { 'plotly': ['https://cdn.plot.ly/plotly-latest.min']},});if(!window._Plotly) {require(['plotly'],function(plotly) {window._Plotly=plotly;});}</script>"
      ]
     },
     "metadata": {},
     "output_type": "display_data"
    }
   ],
   "source": [
    "from plotly.graph_objs import *\n",
    "init_notebook_mode(connected=True)"
   ]
  },
  {
   "cell_type": "code",
   "execution_count": 3,
   "metadata": {},
   "outputs": [],
   "source": [
    "import numpy as np"
   ]
  },
  {
   "cell_type": "markdown",
   "metadata": {},
   "source": [
    "## 1. Figuras\n",
    "---\n",
    "Exemplos de figuras ou mapas de valores escalares."
   ]
  },
  {
   "cell_type": "markdown",
   "metadata": {},
   "source": [
    "### 1.1. Imagem\n",
    "---\n",
    "- **Imagem**: Visualização de imagem de uma tomografia computadorizada.\n",
    "- **Filtragem passa-faixa**: Visualização de filtragem no domínio de frequência\n",
    "\n",
    "$$\n",
    "\\large\n",
    "G(n_1, n_2)=F(n_1, n_2)H(r)\n",
    "$$\n",
    "\n",
    "Sendo $F(n_1,n_2)$ a imagem entrada no domínio de frequência, com espectro centralizado e H(r) o filtro gaussiano de base radial, definido por:\n",
    "\n",
    "$$\n",
    "\\large\n",
    "H(r)=e^{-0.5\\left(\\frac{r-\\mu}{\\sigma}\\right)^2}\n",
    "$$"
   ]
  },
  {
   "cell_type": "markdown",
   "metadata": {},
   "source": [
    "### 1.2. Campo vetorial e Contorno\n",
    "---\n",
    "- **Contorno** [*contour plot*]: Visualização de contorno sobre a superfície de um campo escalar, representados pela equação:\n",
    "\n",
    "$$\n",
    "\\large z=(1 - x + yx^3 + y^5)e^{-x^2-y^2}\n",
    "$$\n",
    "\n",
    "- **Campo vetorial** [*quiver plot*]: Visualização do compo vetorial decomposto em coordenadas retangulares pelo operador gradiente em **z**:\n",
    "\n",
    "$$\n",
    "\\large\n",
    "\\nabla z=\\left(\\frac{\\partial z}{\\partial x},\\frac{\\partial z}{\\partial y}\\right)\n",
    "=\n",
    "\\frac{\\partial z}{\\partial x}i+\\frac{\\partial z}{\\partial y}j\n",
    "$$\n",
    "\n",
    "de tal forma que:\n",
    "\n",
    "$$\n",
    "\\large\n",
    "\\begin{aligned}\n",
    "\\frac{\\partial z}{\\partial x} &= (-1+3yx^2)e^{-x^2-y^2}-2x(1 - x + yx^3 + y^5)e^{-x^2-y^2} \\\\\n",
    "\\frac{\\partial z}{\\partial y} &= (x^3+5y^4)e^{-x^2-y^2}-2y(1 - x + yx^3 + y^5)e^{-x^2-y^2}\n",
    "\\end{aligned}\n",
    "$$"
   ]
  },
  {
   "cell_type": "code",
   "execution_count": null,
   "metadata": {},
   "outputs": [],
   "source": [
    "M, N = 32j, 32j\n",
    "Y, X = np.mgrid[-3:3:N*8, -3:3:M*8]\n",
    "Z = (1 - X + Y*X**3 + Y**5)*np.exp(-X**2 - Y**2)"
   ]
  },
  {
   "cell_type": "code",
   "execution_count": null,
   "metadata": {},
   "outputs": [],
   "source": [
    "# Dados para campo vetorial\n",
    "y, x = np.mgrid[-3:3:N, -3:3:M]\n",
    "f = (1 - x + y*x**3 + y**5)\n",
    "g = np.exp(-x**2 - y**2)\n",
    "dzdx = (-1 + 3*y*x**2)*g - 2*x*f*g\n",
    "dzdy = (x**3 + 5*y**4)*g - 2*y*f*g\n",
    "norma = (dzdx**2 + dzdy**2)**0.5\n",
    "dzdxn = dzdx/norma\n",
    "dzdyn = dzdy/norma"
   ]
  },
  {
   "cell_type": "markdown",
   "metadata": {},
   "source": [
    "### 1.3. Geográfico\n",
    "---\n",
    "Dados no formato *shapefile* retirados no site da [GADM](http://www.gadm.org/).\n",
    "- **Estado**: Visualização geográfica do país *Brasil*, com destaque no estado do *Pará*.\n",
    "- **Cidade**: Visualização geográfica do estado *Pará*, com destaque na cidade de *Tucuruí*."
   ]
  },
  {
   "cell_type": "code",
   "execution_count": null,
   "metadata": {},
   "outputs": [],
   "source": [
    "# Dados Geográficos\n",
    "import shapefile\n",
    "# estados\n",
    "sf_estados = shapefile.Reader('../_data/Brazil-Map-Shapefile/BRA_adm1')\n",
    "shapes_estados = sf_estados.shapes()\n",
    "records_estados = sf_estados.records()\n",
    "n_estados = len(records_estados)\n",
    "# cidades\n",
    "sf_cidades = shapefile.Reader('../_dados/Brazil-Map-Shapefile/BRA_adm2')\n",
    "shapes_cidades = sf_cidades.shapes()\n",
    "records_cidades = sf_cidades.records()\n",
    "sc_pa, rc_pa = zip(*[[s, r] for s, r in zip(shapes_cidades, records_cidades) if 'Pará' in r])\n",
    "n_cidades_pa = len(rc_pa)"
   ]
  }
 ],
 "metadata": {
  "kernelspec": {
   "display_name": "Python 3",
   "language": "python",
   "name": "python3"
  },
  "language_info": {
   "codemirror_mode": {
    "name": "ipython",
    "version": 3
   },
   "file_extension": ".py",
   "mimetype": "text/x-python",
   "name": "python",
   "nbconvert_exporter": "python",
   "pygments_lexer": "ipython3",
   "version": "3.8.8"
  }
 },
 "nbformat": 4,
 "nbformat_minor": 2
}
