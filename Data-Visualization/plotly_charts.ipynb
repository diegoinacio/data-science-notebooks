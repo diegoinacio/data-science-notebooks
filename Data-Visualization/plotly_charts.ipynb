{
 "cells": [
  {
   "cell_type": "markdown",
   "metadata": {},
   "source": [
    "# Plotly Charts\n",
    "---\n",
    "- Author: Diego Inácio\n",
    "- GitHub: [github.com/diegoinacio](https://github.com/diegoinacio)\n",
    "- Notebook: [plotly_charts.ipynb](https://github.com/diegoinacio/data-science-notebooks/blob/master/Data-Visualization/plotly_charts.ipynb)\n",
    "---\n",
    "Examples of interactive chart visualization using *Plotly*.\n",
    "\n",
    "<font color=\"red\">[<strong>PT-BR</strong> content]</font>"
   ]
  },
  {
   "cell_type": "code",
   "execution_count": null,
   "metadata": {},
   "outputs": [],
   "source": [
    "from plotly import __version__\n",
    "from plotly.subplots import make_subplots\n",
    "from plotly.graph_objs import *\n",
    "\n",
    "print(__version__)"
   ]
  },
  {
   "cell_type": "code",
   "execution_count": null,
   "metadata": {},
   "outputs": [],
   "source": [
    "import numpy as np"
   ]
  },
  {
   "cell_type": "markdown",
   "metadata": {},
   "source": [
    "## Gráficos\n",
    "---\n",
    "Exemplos de gráficos separados por tipos e utilizando dados aleatórios."
   ]
  },
  {
   "cell_type": "markdown",
   "metadata": {},
   "source": [
    "### Linha\n",
    "---\n",
    "- **Linha** [*plot*]: Visualização de gráfico linha linear.\n",
    "- **Linhas**: Visualização de gráfico linha com variação de estilo e marcação."
   ]
  },
  {
   "cell_type": "code",
   "execution_count": null,
   "metadata": {},
   "outputs": [],
   "source": [
    "# Dados para linha\n",
    "N = 8\n",
    "t = np.linspace(0, 1, N)\n",
    "\n",
    "linA = Scatter(\n",
    "    x=t, y=t, name='linear',\n",
    "   mode='lines+markers',\n",
    "   marker={'symbol': 'circle', 'size': 7},\n",
    "   showlegend=False\n",
    ")\n",
    "\n",
    "linB = Scatter(\n",
    "    x=t, y=t, name='linear',\n",
    "   mode='lines+markers',\n",
    "   line={'dash': 'dash'},\n",
    "   marker={'symbol': 'star', 'size': 10},\n",
    "   showlegend=False\n",
    ")\n",
    "\n",
    "quad = Scatter(\n",
    "    x=t, y=t**2, name='quadrática',\n",
    "   mode='lines+markers',\n",
    "   line={'dash': 'dashdot'},\n",
    "   marker={'symbol': 'square', 'size': 7},\n",
    "   showlegend=False\n",
    ")\n",
    "\n",
    "cubi = Scatter(\n",
    "    x=t, y=t**3, name='cúbica',\n",
    "   mode='lines+markers',\n",
    "   line={'dash': 'dot'},\n",
    "   marker={'symbol': 'triangle-up', 'size': 10},\n",
    "   showlegend=False\n",
    ")"
   ]
  },
  {
   "cell_type": "code",
   "execution_count": null,
   "metadata": {},
   "outputs": [],
   "source": [
    "%%time\n",
    "fig = make_subplots(\n",
    "    rows=1, cols=2, print_grid=False,\n",
    "    subplot_titles=['Linha', 'Linhas']\n",
    ")\n",
    "\n",
    "fig.append_trace(linA, 1, 1)\n",
    "fig.append_trace(linB, 1, 2)\n",
    "fig.append_trace(quad, 1, 2)\n",
    "fig.append_trace(cubi, 1, 2)\n",
    "\n",
    "fig.show()"
   ]
  },
  {
   "cell_type": "markdown",
   "metadata": {},
   "source": [
    "### Dispersão\n",
    "---\n",
    "- **Dispersão** [*scatter*]: Visualização de gráfico de disperção, com variação de cor.\n",
    "- **Dispersão em bolha** [*bubble chart*]: Visualização de gráfico de disperção, com variação de cor e escala."
   ]
  },
  {
   "cell_type": "code",
   "execution_count": null,
   "metadata": {},
   "outputs": [],
   "source": [
    "# Dados para dispersão\n",
    "N = 128\n",
    "x = np.random.rand(N)\n",
    "y = np.random.rand(N)\n",
    "c = np.random.rand(N)\n",
    "s = np.random.rand(N)\n",
    "s = np.pi*s*16\n",
    "\n",
    "dispA = Scatter(\n",
    "    x=x, y=y, name='pontos', mode='markers',\n",
    "    marker={\n",
    "        'color': c, 'colorscale': 'Rainbow',\n",
    "        'size': 4, 'opacity': 0.75,\n",
    "        'line': {'width': 0}\n",
    "    },\n",
    "    showlegend=False\n",
    ")\n",
    "\n",
    "dispB = Scatter(\n",
    "    x=x, y=y, name='bolhas', mode='markers',\n",
    "    marker={\n",
    "        'color': c, 'colorscale': 'Rainbow',\n",
    "        'size': s, 'opacity': 0.25,\n",
    "        'line': {'width': 0}\n",
    "    },\n",
    "    showlegend=False\n",
    ")"
   ]
  },
  {
   "cell_type": "code",
   "execution_count": null,
   "metadata": {},
   "outputs": [],
   "source": [
    "%%time\n",
    "fig = make_subplots(\n",
    "    rows=1, cols=2, print_grid=False,\n",
    "    subplot_titles=['Dispersão', 'Dispersão em Bolha']\n",
    ")\n",
    "\n",
    "fig.append_trace(dispA, 1, 1)\n",
    "fig.append_trace(dispB, 1, 2)\n",
    "\n",
    "fig.show()"
   ]
  },
  {
   "cell_type": "markdown",
   "metadata": {},
   "source": [
    "### Barra\n",
    "---\n",
    "- **Barras** [*bar chart*]: Visualização de gráfico em barras agrupados paralelamente.\n",
    "- **Barras empilhadas** [*bar chart stacked*]: Visualização de gráfico em barras agrupados de forma empilhada."
   ]
  },
  {
   "cell_type": "code",
   "execution_count": null,
   "metadata": {},
   "outputs": [],
   "source": [
    "# Dados para barras\n",
    "N = 8\n",
    "\n",
    "# média\n",
    "Hx = np.random.randint(18, 65, size=N)\n",
    "Mx = np.random.randint(18, 65, size=N)\n",
    "\n",
    "# desvio padrão\n",
    "Hs = np.random.randint(1, 5, size=N)\n",
    "Ms = np.random.randint(1, 5, size=N)\n",
    "\n",
    "igrupos = ['G{}'.format(g + 1) for g in range(N)]\n",
    "\n",
    "barrHg = Bar(\n",
    "    x=igrupos, y=Hx, name='Homens',\n",
    "    marker={'color': 'cyan'},\n",
    "    error_y={'array': Hs}\n",
    ")\n",
    "\n",
    "barrMg = Bar(\n",
    "    x=igrupos, y=Mx, name='Mulheres',\n",
    "    marker={'color': 'red'},\n",
    "    error_y={'array': Ms}\n",
    ")\n",
    "\n",
    "barrHs = Bar(\n",
    "    x=igrupos, y=Hx,\n",
    "    marker={'color': 'cyan'},\n",
    "    error_y={'array': Hs},\n",
    "    showlegend=False\n",
    ")\n",
    "\n",
    "barrMs = Bar(\n",
    "    x=igrupos, y=Mx,\n",
    "    hovertext=Mx,\n",
    "    offset=-0.4, base=Hx,\n",
    "    marker={'color': 'red'},\n",
    "    error_y={'array': Ms},\n",
    "    showlegend=False\n",
    ")"
   ]
  },
  {
   "cell_type": "code",
   "execution_count": null,
   "metadata": {},
   "outputs": [],
   "source": [
    "%%time\n",
    "fig = make_subplots(\n",
    "    rows=1, cols=2,\n",
    "    print_grid=False,\n",
    "    subplot_titles=['Barras', 'Barras empilhadas']\n",
    ")\n",
    "\n",
    "fig.append_trace(barrHg, 1, 1)\n",
    "fig.append_trace(barrMg, 1, 1)\n",
    "fig.append_trace(barrMs, 1, 2)\n",
    "fig.append_trace(barrHs, 1, 2)\n",
    "\n",
    "fig.show()"
   ]
  }
 ],
 "metadata": {
  "kernelspec": {
   "display_name": "Python 3",
   "language": "python",
   "name": "python3"
  },
  "language_info": {
   "codemirror_mode": {
    "name": "ipython",
    "version": 3
   },
   "file_extension": ".py",
   "mimetype": "text/x-python",
   "name": "python",
   "nbconvert_exporter": "python",
   "pygments_lexer": "ipython3",
   "version": "3.7.10"
  }
 },
 "nbformat": 4,
 "nbformat_minor": 2
}
