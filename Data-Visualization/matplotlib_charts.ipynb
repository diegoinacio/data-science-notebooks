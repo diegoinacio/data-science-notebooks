{
 "cells": [
  {
   "cell_type": "markdown",
   "metadata": {},
   "source": [
    "# Matplotlib Charts\n",
    "---\n",
    "- Author: Diego Inácio\n",
    "- GitHub: [github.com/diegoinacio](https://github.com/diegoinacio)\n",
    "- Notebook: [matplotlib_charts.ipynb](https://github.com/diegoinacio/data-science-notebooks/blob/master/Data-Visualization/matplotlib_charts.ipynb)\n",
    "---\n",
    "Examples of chart visualization using *Matplotlib*.\n",
    "\n",
    "<font color=\"red\">[<strong>PT-BR</strong> content]</font>"
   ]
  },
  {
   "cell_type": "code",
   "execution_count": null,
   "metadata": {},
   "outputs": [],
   "source": [
    "%matplotlib inline\n",
    "import matplotlib.pyplot as plt\n",
    "from matplotlib import cm\n",
    "import numpy as np"
   ]
  },
  {
   "cell_type": "code",
   "execution_count": null,
   "metadata": {},
   "outputs": [],
   "source": [
    "plt.rcParams['figure.figsize'] = (16, 8)"
   ]
  },
  {
   "cell_type": "markdown",
   "metadata": {},
   "source": [
    "## Gráficos\n",
    "---\n",
    "Exemplos de gráficos separados por tipos e utilizando dados criados aleatoriamente."
   ]
  },
  {
   "cell_type": "markdown",
   "metadata": {},
   "source": [
    "### Linha\n",
    "---\n",
    "- **Linha** [*plot*]: Visualização de gráfico linha linear.\n",
    "- **Linhas**: Visualização de gráfico linha com variação de estilo e marcação."
   ]
  },
  {
   "cell_type": "code",
   "execution_count": null,
   "metadata": {},
   "outputs": [],
   "source": [
    "# Dados para linha\n",
    "N = 8\n",
    "t = np.linspace(0, 1, N)"
   ]
  },
  {
   "cell_type": "code",
   "execution_count": null,
   "metadata": {},
   "outputs": [],
   "source": [
    "%%time\n",
    "fig, (axA, axB) = plt.subplots(1, 2)\n",
    "\n",
    "# Linha\n",
    "axA.plot(t, t, marker = 'o')\n",
    "axA.set_title('Linha')\n",
    "\n",
    "# Linhas\n",
    "axB.plot(t, t, linestyle='--', marker='*',\n",
    "         c='r', label='linear')\n",
    "axB.plot(t, t**2, linestyle='-.', marker='D',\n",
    "         c='c', label='quadrática')\n",
    "axB.plot(t, t**3, linestyle=':', marker='^',\n",
    "         c='y', label='cúbica')\n",
    "axB.set_title('Linhas')\n",
    "plt.legend()\n",
    "plt.show()"
   ]
  },
  {
   "cell_type": "markdown",
   "metadata": {},
   "source": [
    "### Dispersão\n",
    "---\n",
    "- **Dispersão** [*scatter*]: Visualização de gráfico de disperção, com variação de cor.\n",
    "- **Dispersão em bolha** [*bubble chart*]: Visualização de gráfico de disperção, com variação de cor e escala."
   ]
  },
  {
   "cell_type": "code",
   "execution_count": null,
   "metadata": {},
   "outputs": [],
   "source": [
    "# Dados para dispersão\n",
    "N = 128\n",
    "x = np.random.rand(N)\n",
    "y = np.random.rand(N)\n",
    "c = np.random.rand(N)\n",
    "s = np.random.rand(N)\n",
    "s = np.pi*(32*s)**2"
   ]
  },
  {
   "cell_type": "code",
   "execution_count": null,
   "metadata": {},
   "outputs": [],
   "source": [
    "cmapDisp = cm.get_cmap('rainbow')"
   ]
  },
  {
   "cell_type": "code",
   "execution_count": null,
   "metadata": {},
   "outputs": [],
   "source": [
    "%%time\n",
    "fig, (axA, axB) = plt.subplots(1, 2)\n",
    "\n",
    "# Dispersão\n",
    "axA.scatter(x, y, s=8,\n",
    "            c=cmapDisp(c),\n",
    "            alpha=0.75)\n",
    "axA.set_title('Dispersão')\n",
    "\n",
    "# Dispersão em bolha\n",
    "axB.scatter(x, y, c=cmapDisp(c), s=s,\n",
    "            alpha=0.25, edgecolors='none')\n",
    "axB.set_title('Dispersão em bolha')\n",
    "plt.show()"
   ]
  },
  {
   "cell_type": "markdown",
   "metadata": {},
   "source": [
    "### Barra\n",
    "---\n",
    "- **Barras** [*bar chart*]: Visualização de gráfico em barras agrupados paralelamente.\n",
    "- **Barras empilhadas** [*bar chart stacked*]: Visualização de gráfico em barras agrupados de forma empilhada."
   ]
  },
  {
   "cell_type": "code",
   "execution_count": null,
   "metadata": {},
   "outputs": [],
   "source": [
    "# Dados para barras\n",
    "N = 8\n",
    "# média\n",
    "Hx = np.random.randint(18, 65, size=N)\n",
    "Mx = np.random.randint(18, 65, size=N)\n",
    "# desvio padrão\n",
    "Hs = np.random.randint(1, 5, size=N)\n",
    "Ms = np.random.randint(1, 5, size=N)"
   ]
  },
  {
   "cell_type": "code",
   "execution_count": null,
   "metadata": {},
   "outputs": [],
   "source": [
    "# Parâmetros de visualização\n",
    "indice = np.arange(N) + 1\n",
    "igrupos = ['G{}'.format(g) for g in indice]\n",
    "iidades = np.arange(0, 80, 5)\n",
    "larg = 0.25"
   ]
  },
  {
   "cell_type": "code",
   "execution_count": null,
   "metadata": {},
   "outputs": [],
   "source": [
    "%%time\n",
    "fig, (axA, axB) = plt.subplots(1, 2)\n",
    "\n",
    "# Barras\n",
    "axA.bar(indice - larg, Hx, width=larg, yerr=Hs,\n",
    "       color='c', align='edge', label='Homens')\n",
    "axA.bar(indice, Mx, width=larg, yerr=Ms,\n",
    "        color='r', align='edge', label='Mulheres')\n",
    "axA.set_title('Barras')\n",
    "axA.set_xticks(indice)\n",
    "axA.set_yticks(iidades)\n",
    "axA.set_xticklabels(igrupos)\n",
    "axA.legend()\n",
    "\n",
    "# Barras empilhadas\n",
    "axB.bar(indice, Hx, color='c', label='Homens', yerr=Hs)\n",
    "axB.bar(indice, Mx, color='r', bottom=Hx, label='Mulheres', yerr=Ms)\n",
    "axB.set_title('Barras empilhadas')\n",
    "axB.set_xticks(indice)\n",
    "axB.set_xticklabels(igrupos)\n",
    "axB.set_yticks(iidades*2)\n",
    "axB.legend()\n",
    "plt.show()"
   ]
  },
  {
   "cell_type": "markdown",
   "metadata": {},
   "source": [
    "### Radial\n",
    "---\n",
    "- **Pizza | Rosca** [*pie chart*]: Visualização de gráfico rosca com duas camadas de informação(*valor* e *variação*).\n",
    "- **Radar** [*radar chart*]: Visualização de gráfico radar, tendo *valores* com base central e a *variação* com base radial."
   ]
  },
  {
   "cell_type": "code",
   "execution_count": null,
   "metadata": {},
   "outputs": [],
   "source": [
    "# Dados para radial\n",
    "etiqueta = list('ABCDEFGHIJKL')\n",
    "M, N = 128, len(etiqueta)\n",
    "valor = np.random.random(N)*0.9 + 0.1\n",
    "var = np.random.random(M)"
   ]
  },
  {
   "cell_type": "code",
   "execution_count": null,
   "metadata": {},
   "outputs": [],
   "source": [
    "# Parâmetros de visualização\n",
    "cmapRadial = cm.get_cmap('magma')\n",
    "theta = 2*np.pi*np.arange(N)/N\n",
    "omega = 2*np.pi*np.arange(M)/M\n",
    "valor_ = np.append(valor, [valor[0]])\n",
    "var_ = np.append(var, [var[0]])\n",
    "theta_ = np.append(theta, [theta[0]])\n",
    "omega_ = np.append(omega, [omega[0]])\n",
    "raio = 1.25\n",
    "mult = 0.15"
   ]
  },
  {
   "cell_type": "code",
   "execution_count": null,
   "metadata": {},
   "outputs": [],
   "source": [
    "%%time\n",
    "fig = plt.figure()\n",
    "axA = fig.add_subplot(121, aspect='equal')\n",
    "axB = fig.add_subplot(122, projection='polar')\n",
    "\n",
    "# Pizza | Rosca\n",
    "axA.pie(valor, labels=etiqueta, pctdistance=0.9,\n",
    "        autopct='%1.1f%%', radius=1.1)\n",
    "axA.pie(var, radius=0.9, colors=cmapRadial(var))\n",
    "axA.set_title('Pizza | Rosca')\n",
    "centro = plt.Circle((0,0), 0.75, fc='white')\n",
    "axA.add_patch(centro)\n",
    "\n",
    "# Radar\n",
    "axB.plot(theta_, valor_, marker='o', color='black', label='Valor')\n",
    "axB.fill_between(theta_, 0, valor_, facecolor='black', alpha=0.25)\n",
    "axB.plot(omega_, raio + var_*mult, color='y', label='Variação')\n",
    "axB.plot(omega_, raio - var_*mult, color='y')\n",
    "axB.fill_between(omega_, raio - var_*mult, raio + var_*mult,\n",
    "                 facecolor='y', alpha=0.25)\n",
    "axB.set_title('Radar')\n",
    "axB.set_xticks(theta)\n",
    "axB.set_xticklabels(etiqueta)\n",
    "axB.set_rticks(np.linspace(0, 1.5, 7))\n",
    "axB.legend()\n",
    "plt.show()"
   ]
  },
  {
   "cell_type": "markdown",
   "metadata": {},
   "source": [
    "### Área\n",
    "---\n",
    "- **Área empilhada** [*100% stacked area*]: Visualização de gráfico de área empilhada 100%.\n",
    "- **Mapa de árvore** [*treemap*]: Visualização de mapa de árvore com auxílio do [squarify](https://pypi.python.org/pypi/squarify)."
   ]
  },
  {
   "cell_type": "code",
   "execution_count": null,
   "metadata": {},
   "outputs": [],
   "source": [
    "# Dados para área empilhada\n",
    "M, N = 16, 4\n",
    "dadosEmp = np.random.random((N, M))*0.9 + 0.1\n",
    "empilha = 100*dadosEmp/np.sum(dadosEmp, axis=0)\n",
    "\n",
    "# Dados para mapa de árvore\n",
    "folhas = 64\n",
    "area = np.random.random(folhas)*3 + 1\n",
    "area = np.round_(area, decimals=2)\n",
    "cores = np.random.random(folhas)\n",
    "lado = area.sum()**0.5"
   ]
  },
  {
   "cell_type": "code",
   "execution_count": null,
   "metadata": {},
   "outputs": [],
   "source": [
    "# Parâmetros de visualização\n",
    "cmapArvore = cm.get_cmap('rainbow')\n",
    "cores = cmapArvore(cores)\n",
    "\n",
    "from squarify import squarify\n",
    "partes = squarify(area, 0, 0, lado, lado)\n",
    "x = [parte['x'] for parte in partes]\n",
    "y = [parte['y'] for parte in partes]\n",
    "dx = [parte['dx'] for parte in partes]\n",
    "dy = [parte['dy'] for parte in partes]"
   ]
  },
  {
   "cell_type": "code",
   "execution_count": null,
   "metadata": {},
   "outputs": [],
   "source": [
    "%%time\n",
    "fig, (axA, axB) = plt.subplots(1, 2)\n",
    "\n",
    "# Área empilhada\n",
    "axA.stackplot(np.arange(M), empilha, baseline='zero')\n",
    "axA.set_title('Área empilhada')\n",
    "axA.set_ylabel('Proporção')\n",
    "axA.set_xticks(np.arange(M))\n",
    "axA.set_yticks(np.linspace(0, 100, M))\n",
    "axA.set_xticklabels([chr(i + ord('a')) for i in range(M)])\n",
    "axA.legend(['G{}'.format(i + 1) for i in range(N)])\n",
    "axA.grid(alpha=0.75, linestyle=':')\n",
    "\n",
    "# Mapa de árvore\n",
    "axB.bar(x, dy, width=dx, bottom=y, color=cores, align='edge')\n",
    "for p, a in zip(partes, area):\n",
    "    x, y, dx, dy = p['x'], p['y'], p['dx'], p['dy']\n",
    "    axB.text(x + dx*0.5, y + dy*0.5, a, va='center', ha='center')\n",
    "axB.set_title('Mapa de árvore')\n",
    "plt.show()"
   ]
  },
  {
   "cell_type": "markdown",
   "metadata": {},
   "source": [
    "### Estatístico\n",
    "---\n",
    "- **Caixa + Violino** [*box plot + violin plot*]: Visualização de gráfico de caixa e violino.\n",
    "- **Histograma** [*Histogram*]: Visualização de histograma empilhado."
   ]
  },
  {
   "cell_type": "code",
   "execution_count": null,
   "metadata": {},
   "outputs": [],
   "source": [
    "# Dados para estatísticos\n",
    "entrev_dia = 1000\n",
    "dias = ['seg', 'ter', 'qua', 'qui', 'sex']\n",
    "ndias = len(dias)\n",
    "mu = 4 + np.random.random(ndias)*2\n",
    "sigma = 0.5 + np.random.random(ndias)*2\n",
    "horas = np.random.normal(mu, sigma, (entrev_dia, ndias))\n",
    "horas += np.random.random((entrev_dia, ndias))*2 - 1"
   ]
  },
  {
   "cell_type": "code",
   "execution_count": null,
   "metadata": {},
   "outputs": [],
   "source": [
    "# Parâmetros de visualização\n",
    "cmapStat = cm.get_cmap('cool')\n",
    "posicao = np.arange(ndias)*1.5"
   ]
  },
  {
   "cell_type": "code",
   "execution_count": null,
   "metadata": {},
   "outputs": [],
   "source": [
    "%%time\n",
    "fig, (axA, axB) = plt.subplots(1, 2)\n",
    "\n",
    "# Caixa + Violino\n",
    "bplots = axA.boxplot(horas, positions=posicao - 0.25,\n",
    "                     vert=True, widths=0.25,\n",
    "                     patch_artist=True, notch=True)\n",
    "violins = axA.violinplot(horas, positions=posicao + 0.25,\n",
    "                         widths=0.25, showmeans=True)\n",
    "for i, (box, violin) in enumerate(zip(bplots['boxes'], violins['bodies'])):\n",
    "    cor = cmapStat(i/ndias)\n",
    "    box.set_facecolor(cor)\n",
    "    violin.set_facecolor(cor)\n",
    "    violin.set_edgecolor('black')\n",
    "    violin.set_alpha(0.75)\n",
    "axA.set_title('Caixa + Violino')\n",
    "axA.set_ylabel('Horas dormidas')\n",
    "axA.set_xticks(posicao)\n",
    "axA.set_yticks(range(1, 10))\n",
    "axA.set_xticklabels(dias)\n",
    "axA.set_xlim((-0.5, 6.5))\n",
    "axA.grid(alpha=0.75, linestyle=':')\n",
    "\n",
    "# Histogram\n",
    "n, bins, patches = axB.hist(horas, bins=50, stacked=True)\n",
    "for i, patchList in enumerate(patches):\n",
    "    for patch in patchList:\n",
    "        patch.set_facecolor(cmapStat(i/ndias))\n",
    "axB.set_title('Histograma')\n",
    "axB.set_xlabel('Horas dormidas')\n",
    "axB.set_ylabel('Quantidade de pessoas (acum.)')\n",
    "axB.legend(dias)\n",
    "plt.show()"
   ]
  }
 ],
 "metadata": {
  "kernelspec": {
   "display_name": "Python 3",
   "language": "python",
   "name": "python3"
  },
  "language_info": {
   "codemirror_mode": {
    "name": "ipython",
    "version": 3
   },
   "file_extension": ".py",
   "mimetype": "text/x-python",
   "name": "python",
   "nbconvert_exporter": "python",
   "pygments_lexer": "ipython3",
   "version": "3.7.10"
  }
 },
 "nbformat": 4,
 "nbformat_minor": 2
}
