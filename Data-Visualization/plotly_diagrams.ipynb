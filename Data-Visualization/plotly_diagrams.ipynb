{
 "cells": [
  {
   "cell_type": "markdown",
   "metadata": {},
   "source": [
    "# Plotly Diagrams\n",
    "---\n",
    "- Author: Diego Inácio\n",
    "- GitHub: [github.com/diegoinacio](https://github.com/diegoinacio)\n",
    "- Notebook: [plotly_diagrams.ipynb](https://github.com/diegoinacio/data-science-notebooks/blob/master/Data-Visualization/plotly_diagrams.ipynb)\n",
    "---\n",
    "Examples of interactive diagram visualization using *Plotly*.\n",
    "\n",
    "<font color=\"#CC0000\">[<b>PT-BR<b> content]</font>"
   ]
  },
  {
   "cell_type": "code",
   "execution_count": null,
   "metadata": {
    "scrolled": false
   },
   "outputs": [],
   "source": [
    "from plotly import __version__, tools\n",
    "from plotly.offline import init_notebook_mode, iplot\n",
    "print(__version__)"
   ]
  },
  {
   "cell_type": "code",
   "execution_count": null,
   "metadata": {},
   "outputs": [],
   "source": [
    "from plotly.graph_objs import *\n",
    "init_notebook_mode(connected=True)"
   ]
  },
  {
   "cell_type": "code",
   "execution_count": null,
   "metadata": {},
   "outputs": [],
   "source": [
    "import numpy as np"
   ]
  },
  {
   "cell_type": "markdown",
   "metadata": {},
   "source": [
    "## 1. Diagramas\n",
    "---\n",
    "Exemplos de diagramas separados por tipos e utilizando dados criados aleatoriamente."
   ]
  },
  {
   "cell_type": "markdown",
   "metadata": {},
   "source": [
    "### 1.1. Rede\n",
    "---\n",
    "- **Descentralizado** [*decentralized network*]: Visualização de diagrama de rede descentralizada.\n",
    "- **Distribuído** [*distributed network*]: Visualização de diagrama de rede distribuída, desenvolvida por meio do método de triangulação de *Delaunay*."
   ]
  },
  {
   "cell_type": "code",
   "execution_count": null,
   "metadata": {},
   "outputs": [],
   "source": [
    "pn, cn = 64, 8\n",
    "px = np.random.normal(0, 1, pn)\n",
    "py = np.random.normal(0, 1, pn)\n",
    "cx = np.random.normal(0, 1, cn)\n",
    "cx = np.insert(cx, 0, 0)\n",
    "cy = np.random.normal(0, 1, cn)\n",
    "cy = np.insert(cy, 0, 0)\n",
    "angulo = (np.arctan2(py, px) + np.pi)/(2*np.pi)"
   ]
  },
  {
   "cell_type": "markdown",
   "metadata": {},
   "source": [
    "### 1.2. Fluxo\n",
    "---\n",
    "- **Fluxo Horizontal** [*flow chart*]: Visualização de diagrama de fluxo horizontal."
   ]
  },
  {
   "cell_type": "code",
   "execution_count": null,
   "metadata": {},
   "outputs": [],
   "source": [
    "# Dados para fluxo\n",
    "colecao = np.array(list('αβγδε'))\n",
    "n = len(colecao)\n",
    "indices = np.arange(n)\n",
    "sel = lambda x: np.random.choice(x, 16)\n",
    "mapa = np.array([sel(np.delete(indices, i)) for i in indices])\n",
    "rede = colecao[mapa]"
   ]
  },
  {
   "cell_type": "markdown",
   "metadata": {},
   "source": [
    "### 1.3. Arco\n",
    "---\n",
    "- **Arco** [*arc diagram*]: Visualização de diagrama de arco.\n",
    "- **Convergência radial** [*radial convergence*]: Visualização de diagrama de convergência radial ou diagrama de corda."
   ]
  },
  {
   "cell_type": "code",
   "execution_count": null,
   "metadata": {},
   "outputs": [],
   "source": [
    "# Dados para arco\n",
    "n = 17\n",
    "indices = np.arange(n)\n",
    "sel = lambda x: np.random.choice(x, n//4)\n",
    "mapa = np.array([sel(np.delete(indices, i)) for i in indices])\n",
    "rede = indices[mapa]"
   ]
  }
 ],
 "metadata": {
  "kernelspec": {
   "display_name": "Python 3",
   "language": "python",
   "name": "python3"
  },
  "language_info": {
   "codemirror_mode": {
    "name": "ipython",
    "version": 3
   },
   "file_extension": ".py",
   "mimetype": "text/x-python",
   "name": "python",
   "nbconvert_exporter": "python",
   "pygments_lexer": "ipython3",
   "version": "3.7.10"
  }
 },
 "nbformat": 4,
 "nbformat_minor": 2
}
